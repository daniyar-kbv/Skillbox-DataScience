{
 "nbformat": 4,
 "nbformat_minor": 0,
 "metadata": {
  "kernelspec": {
   "name": "python3",
   "language": "python",
   "display_name": "Python 3 (ipykernel)"
  },
  "language_info": {
   "codemirror_mode": {
    "name": "ipython",
    "version": 3
   },
   "file_extension": ".py",
   "mimetype": "text/x-python",
   "name": "python",
   "nbconvert_exporter": "python",
   "pygments_lexer": "ipython3",
   "version": "3.7.7"
  },
  "colab": {
   "name": "exam.ipynb",
   "provenance": [],
   "collapsed_sections": [
    "1wTXQGb8fhpH",
    "UmIR_gpOfhpR",
    "Gz4hWV3cfhpa",
    "tfgx2MQofhpk",
    "E8j9vHa2fhpt",
    "j9WFSD15fhp1",
    "xkDFtXxLfhp-",
    "0zs9ntOGfhqI",
    "3SFNrkb-fhqQ",
    "U-uH-V9BfhqZ",
    "eHIxsT_Mfhqf",
    "LDLweA0Yfhqj",
    "rzpArrmkfhqq",
    "jlX_adwbfhqw",
    "k7b_70CIfhq2",
    "UyC1iE0nfhq5",
    "2ujHtufofhq8",
    "fiV0QEWJfhrA"
   ]
  }
 },
 "cells": [
  {
   "cell_type": "markdown",
   "metadata": {
    "id": "qRuC9TWzfhnx"
   },
   "source": [
    "# Экзамен по курсу \"Аналитика данных на Python\""
   ]
  },
  {
   "cell_type": "markdown",
   "metadata": {
    "id": "QvAhR3txfhn1"
   },
   "source": [
    "Этот тест проверит Ваши навыки работы с таблицами данных с помощью библиотек pandas и numpy. Задания делятся на простые (⭐️), средние (⭐️⭐️) и сложные (⭐️⭐️⭐️). Решение простых заданий, как правило, требует одной-двух операций с таблицами, тогда как для более сложных может потребоваться несколько последовательных преобразований данных."
   ]
  },
  {
   "cell_type": "markdown",
   "metadata": {
    "id": "Frn9LjCFfhn6"
   },
   "source": [
    "##  Предыстория"
   ]
  },
  {
   "cell_type": "markdown",
   "metadata": {
    "id": "fQ1HxL0Wfhn-"
   },
   "source": [
    "Сегодня Ваш первый день работы в крупном интернет-магазине, который продаёт товары с доставкой по всему миру. Ваша первая задача – проанализировать базу данных покупок, совершённых в магазине за последние несколько лет. База содержит информацию об отдельных транзакциях, про каждую из которых известны номер инвойса (InvoiceNo), дата инвойса(InvoiceDate), код товара (StockCode), описание товара(Description), количество товара в транзакции (Quantity), стоимость единицы товара (UnitPrice), код покупателя (CustomerID), страна покупателя (Country).\n",
    "\n",
    "База выгружена для Вас в формате CSV: файл [```online-retail.csv```](https://drive.google.com/file/d/1O1oJtpEu-u6s6xTu7seQfnNcQjYCt0GF/view?usp=sharing)"
   ]
  },
  {
   "cell_type": "code",
   "metadata": {
    "id": "rueTavqpfhoB"
   },
   "source": [
    "import numpy as np\n",
    "import pandas as pd\n",
    "import matplotlib.pyplot as plt"
   ],
   "execution_count": 1,
   "outputs": []
  },
  {
   "cell_type": "markdown",
   "metadata": {
    "id": "_And5NHkfhoU"
   },
   "source": [
    "## ⭐️ Вопрос 1\n",
    "\n",
    "Загрузите данные из файла online-retail.csv в переменную типа pandas DataFrame\n",
    "\n",
    "Подсказка: Используйте функцию из библиотеки pandas\n",
    "\n",
    "Какой символ-разделитель используется в этом файле?\n",
    "\n",
    "* Запятая \",\"\n",
    "* Двоеточие \":\"\n",
    "* Точка с запятой \";\"\n",
    "* Символ табуляции \"tab\""
   ]
  },
  {
   "cell_type": "markdown",
   "metadata": {
    "id": "l_C6GGXmfhoW"
   },
   "source": [
    "#### Решение"
   ]
  },
  {
   "cell_type": "code",
   "metadata": {
    "id": "zabS9-nPfhoZ"
   },
   "source": [
    "df = pd.read_csv('online-retail.csv', sep=';', parse_dates=['InvoiceDate'], dayfirst=False)\n",
    "df.head()"
   ],
   "execution_count": 2,
   "outputs": [
    {
     "data": {
      "text/plain": "  InvoiceNo StockCode                          Description  Quantity  \\\n0    536365    85123A   WHITE HANGING HEART T-LIGHT HOLDER         6   \n1    536365     71053                  WHITE METAL LANTERN         6   \n2    536365    84406B       CREAM CUPID HEARTS COAT HANGER         8   \n3    536365    84029G  KNITTED UNION FLAG HOT WATER BOTTLE         6   \n4    536365    84029E       RED WOOLLY HOTTIE WHITE HEART.         6   \n\n          InvoiceDate  UnitPrice  CustomerID         Country  \n0 2010-12-01 08:26:00       2.55     17850.0  United Kingdom  \n1 2010-12-01 08:26:00       3.39     17850.0  United Kingdom  \n2 2010-12-01 08:26:00       2.75     17850.0  United Kingdom  \n3 2010-12-01 08:26:00       3.39     17850.0  United Kingdom  \n4 2010-12-01 08:26:00       3.39     17850.0  United Kingdom  ",
      "text/html": "<div>\n<style scoped>\n    .dataframe tbody tr th:only-of-type {\n        vertical-align: middle;\n    }\n\n    .dataframe tbody tr th {\n        vertical-align: top;\n    }\n\n    .dataframe thead th {\n        text-align: right;\n    }\n</style>\n<table border=\"1\" class=\"dataframe\">\n  <thead>\n    <tr style=\"text-align: right;\">\n      <th></th>\n      <th>InvoiceNo</th>\n      <th>StockCode</th>\n      <th>Description</th>\n      <th>Quantity</th>\n      <th>InvoiceDate</th>\n      <th>UnitPrice</th>\n      <th>CustomerID</th>\n      <th>Country</th>\n    </tr>\n  </thead>\n  <tbody>\n    <tr>\n      <th>0</th>\n      <td>536365</td>\n      <td>85123A</td>\n      <td>WHITE HANGING HEART T-LIGHT HOLDER</td>\n      <td>6</td>\n      <td>2010-12-01 08:26:00</td>\n      <td>2.55</td>\n      <td>17850.0</td>\n      <td>United Kingdom</td>\n    </tr>\n    <tr>\n      <th>1</th>\n      <td>536365</td>\n      <td>71053</td>\n      <td>WHITE METAL LANTERN</td>\n      <td>6</td>\n      <td>2010-12-01 08:26:00</td>\n      <td>3.39</td>\n      <td>17850.0</td>\n      <td>United Kingdom</td>\n    </tr>\n    <tr>\n      <th>2</th>\n      <td>536365</td>\n      <td>84406B</td>\n      <td>CREAM CUPID HEARTS COAT HANGER</td>\n      <td>8</td>\n      <td>2010-12-01 08:26:00</td>\n      <td>2.75</td>\n      <td>17850.0</td>\n      <td>United Kingdom</td>\n    </tr>\n    <tr>\n      <th>3</th>\n      <td>536365</td>\n      <td>84029G</td>\n      <td>KNITTED UNION FLAG HOT WATER BOTTLE</td>\n      <td>6</td>\n      <td>2010-12-01 08:26:00</td>\n      <td>3.39</td>\n      <td>17850.0</td>\n      <td>United Kingdom</td>\n    </tr>\n    <tr>\n      <th>4</th>\n      <td>536365</td>\n      <td>84029E</td>\n      <td>RED WOOLLY HOTTIE WHITE HEART.</td>\n      <td>6</td>\n      <td>2010-12-01 08:26:00</td>\n      <td>3.39</td>\n      <td>17850.0</td>\n      <td>United Kingdom</td>\n    </tr>\n  </tbody>\n</table>\n</div>"
     },
     "execution_count": 2,
     "metadata": {},
     "output_type": "execute_result"
    }
   ]
  },
  {
   "cell_type": "markdown",
   "metadata": {
    "id": "zoiRAf7Yfhon"
   },
   "source": [
    "## ⭐️ Вопрос 2\n",
    "\n",
    "Сколько строк в полученной таблице (не считая заголовков столбцов)?"
   ]
  },
  {
   "cell_type": "markdown",
   "metadata": {
    "id": "aWFyZcI9fhop"
   },
   "source": [
    "#### Решение"
   ]
  },
  {
   "cell_type": "code",
   "metadata": {
    "id": "q86b9euEfhos"
   },
   "source": [
    "df.shape[0]"
   ],
   "execution_count": 3,
   "outputs": [
    {
     "data": {
      "text/plain": "541911"
     },
     "execution_count": 3,
     "metadata": {},
     "output_type": "execute_result"
    }
   ]
  },
  {
   "cell_type": "markdown",
   "metadata": {
    "id": "iqElS4zqfho1"
   },
   "source": [
    "## ⭐️ Вопрос 3\n",
    "\n",
    "Сколько столбцов в полученной таблице (не считая индекса)?"
   ]
  },
  {
   "cell_type": "markdown",
   "metadata": {
    "id": "HmYnaf2afho4"
   },
   "source": [
    "#### Решение"
   ]
  },
  {
   "cell_type": "code",
   "metadata": {
    "id": "8ko0tmeNfho7"
   },
   "source": [
    "df.shape[1]"
   ],
   "execution_count": 4,
   "outputs": [
    {
     "data": {
      "text/plain": "8"
     },
     "execution_count": 4,
     "metadata": {},
     "output_type": "execute_result"
    }
   ]
  },
  {
   "cell_type": "markdown",
   "metadata": {
    "id": "YetDAhQzfhpF"
   },
   "source": [
    "## ⭐️ Вопрос 4\n",
    "\n",
    "Как называется столбец с самым коротким названием?"
   ]
  },
  {
   "cell_type": "markdown",
   "metadata": {
    "id": "1wTXQGb8fhpH"
   },
   "source": [
    "#### Решение"
   ]
  },
  {
   "cell_type": "code",
   "metadata": {
    "id": "q3Sim0vXfhpJ"
   },
   "source": [
    "column_names = df.columns.to_numpy()\n",
    "column_names[np.argsort([len(name) for name in column_names])][0]"
   ],
   "execution_count": 5,
   "outputs": [
    {
     "data": {
      "text/plain": "'Country'"
     },
     "execution_count": 5,
     "metadata": {},
     "output_type": "execute_result"
    }
   ]
  },
  {
   "cell_type": "markdown",
   "metadata": {
    "id": "qb7eYBMIfhpQ"
   },
   "source": [
    "## ⭐️ Вопрос 5\n",
    "\n",
    "В скольких столбцах встречаются пропущенные значения? (ответ - целое число)"
   ]
  },
  {
   "cell_type": "markdown",
   "metadata": {
    "id": "UmIR_gpOfhpR"
   },
   "source": [
    "#### Решение"
   ]
  },
  {
   "cell_type": "code",
   "metadata": {
    "id": "rUPuUnUOfhpS"
   },
   "source": [
    "(df.isna().sum() != 0).sum()"
   ],
   "execution_count": 6,
   "outputs": [
    {
     "data": {
      "text/plain": "2"
     },
     "execution_count": 6,
     "metadata": {},
     "output_type": "execute_result"
    }
   ]
  },
  {
   "cell_type": "markdown",
   "metadata": {
    "id": "1vTefL-QfhpY"
   },
   "source": [
    "## ⭐️ Вопрос 6\n",
    "\n",
    "Сколько пропущенных значений в столбце CustomerID? (ответ - целое число)"
   ]
  },
  {
   "cell_type": "markdown",
   "metadata": {
    "id": "Gz4hWV3cfhpa"
   },
   "source": [
    "#### Решение"
   ]
  },
  {
   "cell_type": "code",
   "metadata": {
    "id": "yc2USQa2fhpb"
   },
   "source": [
    "df.isna().sum()['CustomerID']"
   ],
   "execution_count": 7,
   "outputs": [
    {
     "data": {
      "text/plain": "135080"
     },
     "execution_count": 7,
     "metadata": {},
     "output_type": "execute_result"
    }
   ]
  },
  {
   "cell_type": "markdown",
   "metadata": {
    "id": "R8z3h8U-fhpj"
   },
   "source": [
    "## ⭐️⭐️ Вопрос 7\n",
    "\n",
    "Посмотрим, данные за какой исторический период у нас есть. \n",
    "\n",
    "Данные за какой самый ранний и за какой самый поздний годы содержатся в датасете? В ответе укажите два целых числа через запятую."
   ]
  },
  {
   "cell_type": "markdown",
   "metadata": {
    "id": "tfgx2MQofhpk"
   },
   "source": [
    "#### Решение"
   ]
  },
  {
   "cell_type": "code",
   "metadata": {
    "id": "tSDJk8Amfhpl"
   },
   "source": [
    "f'{df[\"InvoiceDate\"].min().year}, {df[\"InvoiceDate\"].max().year}'"
   ],
   "execution_count": 8,
   "outputs": [
    {
     "data": {
      "text/plain": "'2010, 2011'"
     },
     "execution_count": 8,
     "metadata": {},
     "output_type": "execute_result"
    }
   ]
  },
  {
   "cell_type": "markdown",
   "metadata": {
    "id": "INuGGvCZfhps"
   },
   "source": [
    "## ⭐️ Вопрос 8\n",
    "\n",
    "Каковы минимальная и максимальная цена товаров (UnitPrice)? Перечислите через запятую. Цена в этом задании может принимать отрицательные значения."
   ]
  },
  {
   "cell_type": "markdown",
   "metadata": {
    "id": "E8j9vHa2fhpt"
   },
   "source": [
    "#### Решение"
   ]
  },
  {
   "cell_type": "code",
   "metadata": {
    "id": "PTFRTpAXfhpu"
   },
   "source": [
    "f'{df[\"UnitPrice\"].min()}, {df[\"UnitPrice\"].max()}'"
   ],
   "execution_count": 9,
   "outputs": [
    {
     "data": {
      "text/plain": "'-11062.06, 38970.0'"
     },
     "execution_count": 9,
     "metadata": {},
     "output_type": "execute_result"
    }
   ]
  },
  {
   "cell_type": "markdown",
   "metadata": {
    "id": "20rRayIcfhp0"
   },
   "source": [
    "## ⭐️ Вопрос 9\n",
    "\n",
    "В таблице оказались товары с отрицательными ценами! Это явно какая-то ошибка. Какое описание (Description) у таких транзакций? Перечислите все варианты через запятую, отсортировав строки по алфавиту."
   ]
  },
  {
   "cell_type": "markdown",
   "metadata": {
    "id": "j9WFSD15fhp1"
   },
   "source": [
    "#### Решение"
   ]
  },
  {
   "cell_type": "code",
   "metadata": {
    "id": "Vta8JNHKfhp3"
   },
   "source": [
    "df[df['UnitPrice'] < 0]['Description'].sort_values().unique().tolist()"
   ],
   "execution_count": 10,
   "outputs": [
    {
     "data": {
      "text/plain": "['Adjust bad debt']"
     },
     "execution_count": 10,
     "metadata": {},
     "output_type": "execute_result"
    }
   ]
  },
  {
   "cell_type": "markdown",
   "metadata": {
    "id": "H1EJKLjAfhp9"
   },
   "source": [
    "## ⭐️ Вопрос 10\n",
    "\n",
    "Поищем ещё возможные проблемы с данными. Как насчёт товаров с нулевыми ценами? \n",
    "\n",
    "Сколько в таблице транзакций с нулевой ценой? А с пропусками на месте цены? \n",
    "\n",
    "Перечислите два целых числа через запятую."
   ]
  },
  {
   "cell_type": "markdown",
   "metadata": {
    "id": "xkDFtXxLfhp-"
   },
   "source": [
    "#### Решение"
   ]
  },
  {
   "cell_type": "code",
   "metadata": {
    "id": "_liV7v63fhp_"
   },
   "source": [
    "f'{df[df[\"UnitPrice\"] == 0].shape[0]}, {df[df[\"UnitPrice\"].isna()].shape[0]}'"
   ],
   "execution_count": 11,
   "outputs": [
    {
     "data": {
      "text/plain": "'2515, 0'"
     },
     "execution_count": 11,
     "metadata": {},
     "output_type": "execute_result"
    }
   ]
  },
  {
   "cell_type": "markdown",
   "metadata": {
    "id": "Q08_ueCWfhqH"
   },
   "source": [
    "## ⭐️⭐️ Вопрос 11\n",
    "\n",
    "Для дальнейшего анализа поведения покупателей нам понадобится набор данных, в которых у каждой транзакции корректно указана цена, количество единиц товара (Quantity) и id покупателя (CustomerID). Удалите из таблицы все строки, в которых цена не превосходит 0 или пропущена, или количество единиц товара не превосходит 0 или пропущено, или в которых пропущен id покупателя. \n",
    "\n",
    "Сколько строк осталось?"
   ]
  },
  {
   "cell_type": "markdown",
   "metadata": {
    "id": "0zs9ntOGfhqI"
   },
   "source": [
    "#### Решение"
   ]
  },
  {
   "cell_type": "code",
   "execution_count": 12,
   "outputs": [
    {
     "data": {
      "text/plain": "InvoiceNo           0\nStockCode           0\nDescription      1455\nQuantity            0\nInvoiceDate         0\nUnitPrice           0\nCustomerID     135080\nCountry             0\ndtype: int64"
     },
     "execution_count": 12,
     "metadata": {},
     "output_type": "execute_result"
    }
   ],
   "source": [
    "df.isna().sum()"
   ],
   "metadata": {
    "collapsed": false,
    "pycharm": {
     "name": "#%%\n"
    }
   }
  },
  {
   "cell_type": "code",
   "metadata": {
    "id": "46HTX2BJfhqJ"
   },
   "source": [
    "df = df[~((df['UnitPrice'] <= 0) | df['CustomerID'].isna() | (df['Quantity'] <= 0))]\n",
    "df.shape[0]"
   ],
   "execution_count": 13,
   "outputs": [
    {
     "data": {
      "text/plain": "397886"
     },
     "execution_count": 13,
     "metadata": {},
     "output_type": "execute_result"
    }
   ]
  },
  {
   "cell_type": "code",
   "execution_count": 14,
   "outputs": [
    {
     "data": {
      "text/plain": "InvoiceNo      0\nStockCode      0\nDescription    0\nQuantity       0\nInvoiceDate    0\nUnitPrice      0\nCustomerID     0\nCountry        0\ndtype: int64"
     },
     "execution_count": 14,
     "metadata": {},
     "output_type": "execute_result"
    }
   ],
   "source": [
    "df.isna().sum()"
   ],
   "metadata": {
    "collapsed": false,
    "pycharm": {
     "name": "#%%\n"
    }
   }
  },
  {
   "cell_type": "markdown",
   "metadata": {
    "id": "807cvilFfhqO"
   },
   "source": [
    "## Внимание! \n",
    "\n",
    "### Везде далее мы работаем с очищенной таблицей, полученной в Вопросе 11."
   ]
  },
  {
   "cell_type": "markdown",
   "metadata": {
    "id": "4dnjXB-qfhqP"
   },
   "source": [
    "## ⭐️⭐️ Вопрос 12\n",
    "\n",
    "В таблице для каждой транзакции указаны цена за единицу товара (UnitPrice) и количество единиц товара (Quantity). Вычислите для каждой транзакции её **полную стоимость** и сохраните в новом столбце Price, который добавьте в таблицу. \n",
    "\n",
    "Каковы минимальная и максимальная полная стоимость транзакций? Перечислите через запятую, округлив до целых чисел."
   ]
  },
  {
   "cell_type": "markdown",
   "metadata": {
    "id": "3SFNrkb-fhqQ"
   },
   "source": [
    "#### Решение"
   ]
  },
  {
   "cell_type": "code",
   "metadata": {
    "id": "iIIRF_p-fhqS"
   },
   "source": [
    "df['Price'] = df['UnitPrice'] * df['Quantity']\n",
    "df.head()"
   ],
   "execution_count": 15,
   "outputs": [
    {
     "data": {
      "text/plain": "  InvoiceNo StockCode                          Description  Quantity  \\\n0    536365    85123A   WHITE HANGING HEART T-LIGHT HOLDER         6   \n1    536365     71053                  WHITE METAL LANTERN         6   \n2    536365    84406B       CREAM CUPID HEARTS COAT HANGER         8   \n3    536365    84029G  KNITTED UNION FLAG HOT WATER BOTTLE         6   \n4    536365    84029E       RED WOOLLY HOTTIE WHITE HEART.         6   \n\n          InvoiceDate  UnitPrice  CustomerID         Country  Price  \n0 2010-12-01 08:26:00       2.55     17850.0  United Kingdom  15.30  \n1 2010-12-01 08:26:00       3.39     17850.0  United Kingdom  20.34  \n2 2010-12-01 08:26:00       2.75     17850.0  United Kingdom  22.00  \n3 2010-12-01 08:26:00       3.39     17850.0  United Kingdom  20.34  \n4 2010-12-01 08:26:00       3.39     17850.0  United Kingdom  20.34  ",
      "text/html": "<div>\n<style scoped>\n    .dataframe tbody tr th:only-of-type {\n        vertical-align: middle;\n    }\n\n    .dataframe tbody tr th {\n        vertical-align: top;\n    }\n\n    .dataframe thead th {\n        text-align: right;\n    }\n</style>\n<table border=\"1\" class=\"dataframe\">\n  <thead>\n    <tr style=\"text-align: right;\">\n      <th></th>\n      <th>InvoiceNo</th>\n      <th>StockCode</th>\n      <th>Description</th>\n      <th>Quantity</th>\n      <th>InvoiceDate</th>\n      <th>UnitPrice</th>\n      <th>CustomerID</th>\n      <th>Country</th>\n      <th>Price</th>\n    </tr>\n  </thead>\n  <tbody>\n    <tr>\n      <th>0</th>\n      <td>536365</td>\n      <td>85123A</td>\n      <td>WHITE HANGING HEART T-LIGHT HOLDER</td>\n      <td>6</td>\n      <td>2010-12-01 08:26:00</td>\n      <td>2.55</td>\n      <td>17850.0</td>\n      <td>United Kingdom</td>\n      <td>15.30</td>\n    </tr>\n    <tr>\n      <th>1</th>\n      <td>536365</td>\n      <td>71053</td>\n      <td>WHITE METAL LANTERN</td>\n      <td>6</td>\n      <td>2010-12-01 08:26:00</td>\n      <td>3.39</td>\n      <td>17850.0</td>\n      <td>United Kingdom</td>\n      <td>20.34</td>\n    </tr>\n    <tr>\n      <th>2</th>\n      <td>536365</td>\n      <td>84406B</td>\n      <td>CREAM CUPID HEARTS COAT HANGER</td>\n      <td>8</td>\n      <td>2010-12-01 08:26:00</td>\n      <td>2.75</td>\n      <td>17850.0</td>\n      <td>United Kingdom</td>\n      <td>22.00</td>\n    </tr>\n    <tr>\n      <th>3</th>\n      <td>536365</td>\n      <td>84029G</td>\n      <td>KNITTED UNION FLAG HOT WATER BOTTLE</td>\n      <td>6</td>\n      <td>2010-12-01 08:26:00</td>\n      <td>3.39</td>\n      <td>17850.0</td>\n      <td>United Kingdom</td>\n      <td>20.34</td>\n    </tr>\n    <tr>\n      <th>4</th>\n      <td>536365</td>\n      <td>84029E</td>\n      <td>RED WOOLLY HOTTIE WHITE HEART.</td>\n      <td>6</td>\n      <td>2010-12-01 08:26:00</td>\n      <td>3.39</td>\n      <td>17850.0</td>\n      <td>United Kingdom</td>\n      <td>20.34</td>\n    </tr>\n  </tbody>\n</table>\n</div>"
     },
     "execution_count": 15,
     "metadata": {},
     "output_type": "execute_result"
    }
   ]
  },
  {
   "cell_type": "code",
   "execution_count": 16,
   "outputs": [
    {
     "data": {
      "text/plain": "'0, 168469'"
     },
     "execution_count": 16,
     "metadata": {},
     "output_type": "execute_result"
    }
   ],
   "source": [
    "f'{int(df[\"Price\"].min())}, {int(df[\"Price\"].max())}'"
   ],
   "metadata": {
    "collapsed": false,
    "pycharm": {
     "name": "#%%\n"
    }
   }
  },
  {
   "cell_type": "markdown",
   "metadata": {
    "id": "iXwEUbpAfhqX"
   },
   "source": [
    "## ⭐️⭐️ Вопрос 13\n",
    "\n",
    "В нашей базе данных каждая покупка представлена одной или несколькими транзакциями. Покупка однозначно определяется своим номером инвойса (InvoiceNo). Транзакции, относящиеся к одной покупке, имеют один и тот же InvoiceNo. \n",
    "\n",
    "Стоимость всей покупки равна сумме полных стоимостей транзакций, входящих в неё. Найдите стоимости трёх самых дорогих покупок. Перечислите через запятую в порядке убывания, округлив до целых чисел."
   ]
  },
  {
   "cell_type": "markdown",
   "metadata": {
    "id": "U-uH-V9BfhqZ"
   },
   "source": [
    "#### Решение"
   ]
  },
  {
   "cell_type": "code",
   "metadata": {
    "id": "7eRtSDp0fhqZ"
   },
   "source": [
    "', '.join(df.groupby('InvoiceNo').sum()['Price'].nlargest(3).apply(int).apply(str))"
   ],
   "execution_count": 17,
   "outputs": [
    {
     "data": {
      "text/plain": "'168469, 77183, 38970'"
     },
     "execution_count": 17,
     "metadata": {},
     "output_type": "execute_result"
    }
   ]
  },
  {
   "cell_type": "markdown",
   "metadata": {
    "id": "OOFeUBI4fhqd"
   },
   "source": [
    "## ⭐️⭐️ Вопрос 14\n",
    "\n",
    "Какой товар составил наибольшую выручку? В ответе укажите описание товара (дословно строку из соответствующего поля в столбце Description)."
   ]
  },
  {
   "cell_type": "markdown",
   "metadata": {
    "id": "eHIxsT_Mfhqf"
   },
   "source": [
    "#### Решение"
   ]
  },
  {
   "cell_type": "code",
   "metadata": {
    "id": "9wCt8Oz4fhqf"
   },
   "source": [
    "stock_code = df.groupby('StockCode').sum()['Price'].nlargest(1).index[0]\n",
    "df[df['StockCode'] == stock_code].reset_index().loc[0, 'Description']"
   ],
   "execution_count": 18,
   "outputs": [
    {
     "data": {
      "text/plain": "'PAPER CRAFT , LITTLE BIRDIE'"
     },
     "execution_count": 18,
     "metadata": {},
     "output_type": "execute_result"
    }
   ]
  },
  {
   "cell_type": "markdown",
   "metadata": {
    "id": "x7takqgnfhqj"
   },
   "source": [
    "## ⭐️⭐️ Вопрос 15\n",
    "\n",
    "Создайте новую таблицу purchases, в которой каждая строка будет соответствовать отдельной покупке, со столбцами \n",
    "InvoiceNo, InvoiceDate, Price, CustomerID, Country.\n",
    "\n",
    "Поскольку дата InvoiceDate может быть отличаться для разных транзакций внутри одной покупки, при группировке возьмите самую раннюю из дат. Также отсортируйте её по датам по возрастанию.\n",
    "\n",
    "Учтите, что InvoiceDate — не уникальное поле, данные стоит дополнительно отсортировать по InvoiceNo, перед тем как брать первое значение группы.\n",
    "\n",
    "Сколько получилось строк?"
   ]
  },
  {
   "cell_type": "markdown",
   "metadata": {
    "id": "LDLweA0Yfhqj"
   },
   "source": [
    "#### Решение"
   ]
  },
  {
   "cell_type": "code",
   "metadata": {
    "id": "jkjImvCXfhql"
   },
   "source": [
    "purchases = df.groupby('InvoiceNo').sum().drop(columns=['Quantity', 'UnitPrice']).reset_index()\n",
    "purchases.head()"
   ],
   "execution_count": 19,
   "outputs": [
    {
     "data": {
      "text/plain": "  InvoiceNo  CustomerID   Price\n0    536365    124950.0  139.12\n1    536366     35700.0   22.20\n2    536367    156564.0  278.73\n3    536368     52188.0   70.05\n4    536369     13047.0   17.85",
      "text/html": "<div>\n<style scoped>\n    .dataframe tbody tr th:only-of-type {\n        vertical-align: middle;\n    }\n\n    .dataframe tbody tr th {\n        vertical-align: top;\n    }\n\n    .dataframe thead th {\n        text-align: right;\n    }\n</style>\n<table border=\"1\" class=\"dataframe\">\n  <thead>\n    <tr style=\"text-align: right;\">\n      <th></th>\n      <th>InvoiceNo</th>\n      <th>CustomerID</th>\n      <th>Price</th>\n    </tr>\n  </thead>\n  <tbody>\n    <tr>\n      <th>0</th>\n      <td>536365</td>\n      <td>124950.0</td>\n      <td>139.12</td>\n    </tr>\n    <tr>\n      <th>1</th>\n      <td>536366</td>\n      <td>35700.0</td>\n      <td>22.20</td>\n    </tr>\n    <tr>\n      <th>2</th>\n      <td>536367</td>\n      <td>156564.0</td>\n      <td>278.73</td>\n    </tr>\n    <tr>\n      <th>3</th>\n      <td>536368</td>\n      <td>52188.0</td>\n      <td>70.05</td>\n    </tr>\n    <tr>\n      <th>4</th>\n      <td>536369</td>\n      <td>13047.0</td>\n      <td>17.85</td>\n    </tr>\n  </tbody>\n</table>\n</div>"
     },
     "execution_count": 19,
     "metadata": {},
     "output_type": "execute_result"
    }
   ]
  },
  {
   "cell_type": "code",
   "execution_count": 20,
   "outputs": [
    {
     "data": {
      "text/plain": "  InvoiceNo  CustomerID   Price         InvoiceDate         Country\n0    536365    124950.0  139.12 2010-12-01 08:26:00  United Kingdom\n1    536366     35700.0   22.20 2010-12-01 08:28:00  United Kingdom\n2    536367    156564.0  278.73 2010-12-01 08:34:00  United Kingdom\n3    536368     52188.0   70.05 2010-12-01 08:34:00  United Kingdom\n4    536369     13047.0   17.85 2010-12-01 08:35:00  United Kingdom",
      "text/html": "<div>\n<style scoped>\n    .dataframe tbody tr th:only-of-type {\n        vertical-align: middle;\n    }\n\n    .dataframe tbody tr th {\n        vertical-align: top;\n    }\n\n    .dataframe thead th {\n        text-align: right;\n    }\n</style>\n<table border=\"1\" class=\"dataframe\">\n  <thead>\n    <tr style=\"text-align: right;\">\n      <th></th>\n      <th>InvoiceNo</th>\n      <th>CustomerID</th>\n      <th>Price</th>\n      <th>InvoiceDate</th>\n      <th>Country</th>\n    </tr>\n  </thead>\n  <tbody>\n    <tr>\n      <th>0</th>\n      <td>536365</td>\n      <td>124950.0</td>\n      <td>139.12</td>\n      <td>2010-12-01 08:26:00</td>\n      <td>United Kingdom</td>\n    </tr>\n    <tr>\n      <th>1</th>\n      <td>536366</td>\n      <td>35700.0</td>\n      <td>22.20</td>\n      <td>2010-12-01 08:28:00</td>\n      <td>United Kingdom</td>\n    </tr>\n    <tr>\n      <th>2</th>\n      <td>536367</td>\n      <td>156564.0</td>\n      <td>278.73</td>\n      <td>2010-12-01 08:34:00</td>\n      <td>United Kingdom</td>\n    </tr>\n    <tr>\n      <th>3</th>\n      <td>536368</td>\n      <td>52188.0</td>\n      <td>70.05</td>\n      <td>2010-12-01 08:34:00</td>\n      <td>United Kingdom</td>\n    </tr>\n    <tr>\n      <th>4</th>\n      <td>536369</td>\n      <td>13047.0</td>\n      <td>17.85</td>\n      <td>2010-12-01 08:35:00</td>\n      <td>United Kingdom</td>\n    </tr>\n  </tbody>\n</table>\n</div>"
     },
     "execution_count": 20,
     "metadata": {},
     "output_type": "execute_result"
    }
   ],
   "source": [
    "purchases['InvoiceDate'] = ''\n",
    "purchases['Country'] = ''\n",
    "\n",
    "for row in range(purchases.shape[0]):\n",
    "    df_record = df[df['InvoiceNo'] == purchases.loc[row, 'InvoiceNo']].reset_index().iloc[0, :]\n",
    "    purchases.at[row, 'InvoiceDate'] = df_record['InvoiceDate']\n",
    "    purchases.at[row, 'Country'] = df_record['Country']\n",
    "\n",
    "purchases['InvoiceDate'] = pd.to_datetime(purchases['InvoiceDate'])\n",
    "purchases.head()"
   ],
   "metadata": {
    "collapsed": false,
    "pycharm": {
     "name": "#%%\n"
    }
   }
  },
  {
   "cell_type": "code",
   "execution_count": 21,
   "outputs": [
    {
     "data": {
      "text/plain": "18533"
     },
     "execution_count": 21,
     "metadata": {},
     "output_type": "execute_result"
    }
   ],
   "source": [
    "purchases.shape[0]"
   ],
   "metadata": {
    "collapsed": false,
    "pycharm": {
     "name": "#%%\n"
    }
   }
  },
  {
   "cell_type": "markdown",
   "metadata": {
    "id": "wsDjduFpfhqp"
   },
   "source": [
    "## ⭐️⭐️ Вопрос 16\n",
    "\n",
    "Исследуем, растут или убывают покупки наших клиентов после их первой покупки на сайте. Найдите среднюю цену первых покупок клиентов: для каждого клиента возьмите его первую покупку и усредните эти значения. Найдите среднюю цену покупок в целом. Округлите эти числа до целых и перечислите в этом порядке через запятую.\n",
    "\n",
    "\\* При равных TimeStamp по покупкам первой считается покупка с меньшим InvoiceNo."
   ]
  },
  {
   "cell_type": "markdown",
   "metadata": {
    "id": "rzpArrmkfhqq"
   },
   "source": [
    "#### Решение"
   ]
  },
  {
   "cell_type": "code",
   "metadata": {
    "id": "4fvR_p2Bfhqq"
   },
   "source": [
    "customer_ids = purchases['CustomerID'].unique()\n",
    "first_purchase_prices = [\n",
    "    purchases[purchases['CustomerID'] == customer_id]\\\n",
    "        .sort_values(['InvoiceDate', 'InvoiceNo'])\\\n",
    "        .reset_index()\\\n",
    "        .loc[0, 'Price']\n",
    "    for customer_id in customer_ids\n",
    "]\n",
    "first_purchases_mean = int(np.mean(first_purchase_prices))\n",
    "first_purchases_mean"
   ],
   "execution_count": 22,
   "outputs": [
    {
     "data": {
      "text/plain": "483"
     },
     "execution_count": 22,
     "metadata": {},
     "output_type": "execute_result"
    }
   ]
  },
  {
   "cell_type": "code",
   "execution_count": 23,
   "outputs": [
    {
     "data": {
      "text/plain": "480"
     },
     "execution_count": 23,
     "metadata": {},
     "output_type": "execute_result"
    }
   ],
   "source": [
    "total_purchase_mean = int(purchases['Price'].mean())\n",
    "total_purchase_mean"
   ],
   "metadata": {
    "collapsed": false,
    "pycharm": {
     "name": "#%%\n"
    }
   }
  },
  {
   "cell_type": "code",
   "execution_count": 24,
   "outputs": [
    {
     "data": {
      "text/plain": "'483, 480'"
     },
     "execution_count": 24,
     "metadata": {},
     "output_type": "execute_result"
    }
   ],
   "source": [
    "f'{first_purchases_mean}, {total_purchase_mean}'"
   ],
   "metadata": {
    "collapsed": false,
    "pycharm": {
     "name": "#%%\n"
    }
   }
  },
  {
   "cell_type": "markdown",
   "metadata": {
    "id": "Qxcpz-aVfhqv"
   },
   "source": [
    "## ⭐️⭐️⭐️ Вопрос 17\n",
    "\n",
    "В какой день недели было наибольшее число покупок? В ответе укажите русское название дня недели, начинающееся с заглавной буквы.\n",
    "\n",
    "\n",
    "Подсказка: \n",
    "* Преобразуйте тип данных в столбце InvoiceDate таблицы purchases из строк в datetime.\n",
    "* Для каждой покупки вычислите день недели, в который она была совершена. Сохраните в новый столбец.\n",
    "* Сгруппируйте таблицу по дням недели."
   ]
  },
  {
   "cell_type": "markdown",
   "metadata": {
    "id": "jlX_adwbfhqw"
   },
   "source": [
    "#### Решение"
   ]
  },
  {
   "cell_type": "code",
   "execution_count": 25,
   "outputs": [
    {
     "data": {
      "text/plain": "'ru_RU.UTF-8'"
     },
     "execution_count": 25,
     "metadata": {},
     "output_type": "execute_result"
    }
   ],
   "source": [
    "import locale\n",
    "locale.setlocale(locale.LC_ALL, 'ru_RU.UTF-8')"
   ],
   "metadata": {
    "collapsed": false,
    "pycharm": {
     "name": "#%%\n"
    }
   }
  },
  {
   "cell_type": "code",
   "metadata": {
    "id": "WTNLys9dfhqw"
   },
   "source": [
    "purchases['Weekday'] = purchases['InvoiceDate'].dt.strftime('%A')\n",
    "purchases.head()"
   ],
   "execution_count": 26,
   "outputs": [
    {
     "data": {
      "text/plain": "  InvoiceNo  CustomerID   Price         InvoiceDate         Country Weekday\n0    536365    124950.0  139.12 2010-12-01 08:26:00  United Kingdom   среда\n1    536366     35700.0   22.20 2010-12-01 08:28:00  United Kingdom   среда\n2    536367    156564.0  278.73 2010-12-01 08:34:00  United Kingdom   среда\n3    536368     52188.0   70.05 2010-12-01 08:34:00  United Kingdom   среда\n4    536369     13047.0   17.85 2010-12-01 08:35:00  United Kingdom   среда",
      "text/html": "<div>\n<style scoped>\n    .dataframe tbody tr th:only-of-type {\n        vertical-align: middle;\n    }\n\n    .dataframe tbody tr th {\n        vertical-align: top;\n    }\n\n    .dataframe thead th {\n        text-align: right;\n    }\n</style>\n<table border=\"1\" class=\"dataframe\">\n  <thead>\n    <tr style=\"text-align: right;\">\n      <th></th>\n      <th>InvoiceNo</th>\n      <th>CustomerID</th>\n      <th>Price</th>\n      <th>InvoiceDate</th>\n      <th>Country</th>\n      <th>Weekday</th>\n    </tr>\n  </thead>\n  <tbody>\n    <tr>\n      <th>0</th>\n      <td>536365</td>\n      <td>124950.0</td>\n      <td>139.12</td>\n      <td>2010-12-01 08:26:00</td>\n      <td>United Kingdom</td>\n      <td>среда</td>\n    </tr>\n    <tr>\n      <th>1</th>\n      <td>536366</td>\n      <td>35700.0</td>\n      <td>22.20</td>\n      <td>2010-12-01 08:28:00</td>\n      <td>United Kingdom</td>\n      <td>среда</td>\n    </tr>\n    <tr>\n      <th>2</th>\n      <td>536367</td>\n      <td>156564.0</td>\n      <td>278.73</td>\n      <td>2010-12-01 08:34:00</td>\n      <td>United Kingdom</td>\n      <td>среда</td>\n    </tr>\n    <tr>\n      <th>3</th>\n      <td>536368</td>\n      <td>52188.0</td>\n      <td>70.05</td>\n      <td>2010-12-01 08:34:00</td>\n      <td>United Kingdom</td>\n      <td>среда</td>\n    </tr>\n    <tr>\n      <th>4</th>\n      <td>536369</td>\n      <td>13047.0</td>\n      <td>17.85</td>\n      <td>2010-12-01 08:35:00</td>\n      <td>United Kingdom</td>\n      <td>среда</td>\n    </tr>\n  </tbody>\n</table>\n</div>"
     },
     "execution_count": 26,
     "metadata": {},
     "output_type": "execute_result"
    }
   ]
  },
  {
   "cell_type": "code",
   "execution_count": 27,
   "outputs": [
    {
     "data": {
      "text/plain": "'Четверг'"
     },
     "execution_count": 27,
     "metadata": {},
     "output_type": "execute_result"
    }
   ],
   "source": [
    "purchases\\\n",
    "    .groupby('Weekday')\\\n",
    "    .count()['InvoiceNo']\\\n",
    "    .nlargest(1)\\\n",
    "    .index[0]\\\n",
    "    .capitalize()"
   ],
   "metadata": {
    "collapsed": false,
    "pycharm": {
     "name": "#%%\n"
    }
   }
  },
  {
   "cell_type": "markdown",
   "metadata": {
    "id": "G84tAqVTfhq1"
   },
   "source": [
    "## ⭐️⭐️⭐️ Вопрос 18\n",
    "\n",
    "В какой год и месяц выручка была максимальной?\n",
    "\n",
    "Подсказка: \n",
    "* Преобразуйте тип данных в столбце InvoiceDate таблицы purchases из строк в datetime. \n",
    "* Для каждой покупки вычислите год и месяц, в которые она была совершена. Сохраните в новые столбцы.\n",
    "* Сгруппируйте таблицу по новым столбцам\n",
    "\n",
    "В ответе укажите два целых числа через запятую: год, месяц"
   ]
  },
  {
   "cell_type": "markdown",
   "metadata": {
    "id": "k7b_70CIfhq2"
   },
   "source": [
    "#### Решение"
   ]
  },
  {
   "cell_type": "code",
   "metadata": {
    "id": "C7YosvXBfhq2"
   },
   "source": [
    "purchases['Year'] = purchases['InvoiceDate'].dt.year\n",
    "purchases['Month'] = purchases['InvoiceDate'].dt.month\n",
    "purchases.head()"
   ],
   "execution_count": 28,
   "outputs": [
    {
     "data": {
      "text/plain": "  InvoiceNo  CustomerID   Price         InvoiceDate         Country Weekday  \\\n0    536365    124950.0  139.12 2010-12-01 08:26:00  United Kingdom   среда   \n1    536366     35700.0   22.20 2010-12-01 08:28:00  United Kingdom   среда   \n2    536367    156564.0  278.73 2010-12-01 08:34:00  United Kingdom   среда   \n3    536368     52188.0   70.05 2010-12-01 08:34:00  United Kingdom   среда   \n4    536369     13047.0   17.85 2010-12-01 08:35:00  United Kingdom   среда   \n\n   Year  Month  \n0  2010     12  \n1  2010     12  \n2  2010     12  \n3  2010     12  \n4  2010     12  ",
      "text/html": "<div>\n<style scoped>\n    .dataframe tbody tr th:only-of-type {\n        vertical-align: middle;\n    }\n\n    .dataframe tbody tr th {\n        vertical-align: top;\n    }\n\n    .dataframe thead th {\n        text-align: right;\n    }\n</style>\n<table border=\"1\" class=\"dataframe\">\n  <thead>\n    <tr style=\"text-align: right;\">\n      <th></th>\n      <th>InvoiceNo</th>\n      <th>CustomerID</th>\n      <th>Price</th>\n      <th>InvoiceDate</th>\n      <th>Country</th>\n      <th>Weekday</th>\n      <th>Year</th>\n      <th>Month</th>\n    </tr>\n  </thead>\n  <tbody>\n    <tr>\n      <th>0</th>\n      <td>536365</td>\n      <td>124950.0</td>\n      <td>139.12</td>\n      <td>2010-12-01 08:26:00</td>\n      <td>United Kingdom</td>\n      <td>среда</td>\n      <td>2010</td>\n      <td>12</td>\n    </tr>\n    <tr>\n      <th>1</th>\n      <td>536366</td>\n      <td>35700.0</td>\n      <td>22.20</td>\n      <td>2010-12-01 08:28:00</td>\n      <td>United Kingdom</td>\n      <td>среда</td>\n      <td>2010</td>\n      <td>12</td>\n    </tr>\n    <tr>\n      <th>2</th>\n      <td>536367</td>\n      <td>156564.0</td>\n      <td>278.73</td>\n      <td>2010-12-01 08:34:00</td>\n      <td>United Kingdom</td>\n      <td>среда</td>\n      <td>2010</td>\n      <td>12</td>\n    </tr>\n    <tr>\n      <th>3</th>\n      <td>536368</td>\n      <td>52188.0</td>\n      <td>70.05</td>\n      <td>2010-12-01 08:34:00</td>\n      <td>United Kingdom</td>\n      <td>среда</td>\n      <td>2010</td>\n      <td>12</td>\n    </tr>\n    <tr>\n      <th>4</th>\n      <td>536369</td>\n      <td>13047.0</td>\n      <td>17.85</td>\n      <td>2010-12-01 08:35:00</td>\n      <td>United Kingdom</td>\n      <td>среда</td>\n      <td>2010</td>\n      <td>12</td>\n    </tr>\n  </tbody>\n</table>\n</div>"
     },
     "execution_count": 28,
     "metadata": {},
     "output_type": "execute_result"
    }
   ]
  },
  {
   "cell_type": "code",
   "execution_count": 29,
   "outputs": [
    {
     "data": {
      "text/plain": "'2011, 11'"
     },
     "execution_count": 29,
     "metadata": {},
     "output_type": "execute_result"
    }
   ],
   "source": [
    "index = purchases.groupby(['Year', 'Month']).sum()['Price'].nlargest(1).index[0]\n",
    "', '.join(np.array(index).astype('str'))"
   ],
   "metadata": {
    "collapsed": false,
    "pycharm": {
     "name": "#%%\n"
    }
   }
  },
  {
   "cell_type": "markdown",
   "metadata": {
    "id": "sU7-9E2nfhq4"
   },
   "source": [
    "## ⭐️⭐️⭐️ Вопрос 19\n",
    "\n",
    "Магазин продаёт товары покупателям из разных стран (Country). В какой стране был наибольший процентный рост месячных продаж, если сравнить март 2011 и сентябрь 2011? Сколько процентов составил этот рост? В расчёт брать только страны, в которых были ненулевые продажи в обоих этих месяцах. В ответе укажите через запятую название страны и целое число (процентный рост, округлённый до целого числа)."
   ]
  },
  {
   "cell_type": "markdown",
   "metadata": {
    "id": "UyC1iE0nfhq5"
   },
   "source": [
    "#### Решение"
   ]
  },
  {
   "cell_type": "code",
   "metadata": {
    "id": "BB0tn1a_fhq5"
   },
   "source": [
    "march_sales = purchases[(purchases['Year'] == 2011) & (purchases['Month'] == 3)]\\\n",
    "    .groupby('Country')\\\n",
    "    .sum()['Price']\\\n",
    "    .reset_index()\n",
    "march_sales"
   ],
   "execution_count": 30,
   "outputs": [
    {
     "data": {
      "text/plain": "            Country      Price\n0         Australia   17223.99\n1           Austria    1708.12\n2           Belgium    3351.98\n3            Canada     140.54\n4   Channel Islands    3509.33\n5            Cyprus     938.39\n6           Denmark    3978.99\n7              EIRE   21674.36\n8           Finland    5936.82\n9            France   14589.55\n10          Germany   14392.69\n11           Greece     387.31\n12            Italy    1806.81\n13            Japan      48.90\n14      Netherlands   22416.49\n15           Norway    1265.31\n16           Poland     317.78\n17         Portugal    2660.85\n18            Spain    5363.15\n19           Sweden    4720.58\n20      Switzerland    1870.23\n21   United Kingdom  467198.59",
      "text/html": "<div>\n<style scoped>\n    .dataframe tbody tr th:only-of-type {\n        vertical-align: middle;\n    }\n\n    .dataframe tbody tr th {\n        vertical-align: top;\n    }\n\n    .dataframe thead th {\n        text-align: right;\n    }\n</style>\n<table border=\"1\" class=\"dataframe\">\n  <thead>\n    <tr style=\"text-align: right;\">\n      <th></th>\n      <th>Country</th>\n      <th>Price</th>\n    </tr>\n  </thead>\n  <tbody>\n    <tr>\n      <th>0</th>\n      <td>Australia</td>\n      <td>17223.99</td>\n    </tr>\n    <tr>\n      <th>1</th>\n      <td>Austria</td>\n      <td>1708.12</td>\n    </tr>\n    <tr>\n      <th>2</th>\n      <td>Belgium</td>\n      <td>3351.98</td>\n    </tr>\n    <tr>\n      <th>3</th>\n      <td>Canada</td>\n      <td>140.54</td>\n    </tr>\n    <tr>\n      <th>4</th>\n      <td>Channel Islands</td>\n      <td>3509.33</td>\n    </tr>\n    <tr>\n      <th>5</th>\n      <td>Cyprus</td>\n      <td>938.39</td>\n    </tr>\n    <tr>\n      <th>6</th>\n      <td>Denmark</td>\n      <td>3978.99</td>\n    </tr>\n    <tr>\n      <th>7</th>\n      <td>EIRE</td>\n      <td>21674.36</td>\n    </tr>\n    <tr>\n      <th>8</th>\n      <td>Finland</td>\n      <td>5936.82</td>\n    </tr>\n    <tr>\n      <th>9</th>\n      <td>France</td>\n      <td>14589.55</td>\n    </tr>\n    <tr>\n      <th>10</th>\n      <td>Germany</td>\n      <td>14392.69</td>\n    </tr>\n    <tr>\n      <th>11</th>\n      <td>Greece</td>\n      <td>387.31</td>\n    </tr>\n    <tr>\n      <th>12</th>\n      <td>Italy</td>\n      <td>1806.81</td>\n    </tr>\n    <tr>\n      <th>13</th>\n      <td>Japan</td>\n      <td>48.90</td>\n    </tr>\n    <tr>\n      <th>14</th>\n      <td>Netherlands</td>\n      <td>22416.49</td>\n    </tr>\n    <tr>\n      <th>15</th>\n      <td>Norway</td>\n      <td>1265.31</td>\n    </tr>\n    <tr>\n      <th>16</th>\n      <td>Poland</td>\n      <td>317.78</td>\n    </tr>\n    <tr>\n      <th>17</th>\n      <td>Portugal</td>\n      <td>2660.85</td>\n    </tr>\n    <tr>\n      <th>18</th>\n      <td>Spain</td>\n      <td>5363.15</td>\n    </tr>\n    <tr>\n      <th>19</th>\n      <td>Sweden</td>\n      <td>4720.58</td>\n    </tr>\n    <tr>\n      <th>20</th>\n      <td>Switzerland</td>\n      <td>1870.23</td>\n    </tr>\n    <tr>\n      <th>21</th>\n      <td>United Kingdom</td>\n      <td>467198.59</td>\n    </tr>\n  </tbody>\n</table>\n</div>"
     },
     "execution_count": 30,
     "metadata": {},
     "output_type": "execute_result"
    }
   ]
  },
  {
   "cell_type": "code",
   "execution_count": 31,
   "outputs": [
    {
     "data": {
      "text/plain": "                 Country       Price\n0              Australia    5106.730\n1                Belgium    4208.020\n2        Channel Islands    1323.750\n3                 Cyprus     196.350\n4                Denmark    4570.160\n5                   EIRE   40995.490\n6                Finland    1105.450\n7                 France   23428.040\n8                Germany   18091.220\n9                  Italy     279.800\n10                 Japan     112.080\n11           Netherlands   26937.260\n12                Norway    8678.940\n13                Poland     529.250\n14              Portugal    1433.220\n15                 Spain    5189.240\n16                Sweden    4575.210\n17           Switzerland    8284.860\n18  United Arab Emirates    1013.040\n19        United Kingdom  796780.272",
      "text/html": "<div>\n<style scoped>\n    .dataframe tbody tr th:only-of-type {\n        vertical-align: middle;\n    }\n\n    .dataframe tbody tr th {\n        vertical-align: top;\n    }\n\n    .dataframe thead th {\n        text-align: right;\n    }\n</style>\n<table border=\"1\" class=\"dataframe\">\n  <thead>\n    <tr style=\"text-align: right;\">\n      <th></th>\n      <th>Country</th>\n      <th>Price</th>\n    </tr>\n  </thead>\n  <tbody>\n    <tr>\n      <th>0</th>\n      <td>Australia</td>\n      <td>5106.730</td>\n    </tr>\n    <tr>\n      <th>1</th>\n      <td>Belgium</td>\n      <td>4208.020</td>\n    </tr>\n    <tr>\n      <th>2</th>\n      <td>Channel Islands</td>\n      <td>1323.750</td>\n    </tr>\n    <tr>\n      <th>3</th>\n      <td>Cyprus</td>\n      <td>196.350</td>\n    </tr>\n    <tr>\n      <th>4</th>\n      <td>Denmark</td>\n      <td>4570.160</td>\n    </tr>\n    <tr>\n      <th>5</th>\n      <td>EIRE</td>\n      <td>40995.490</td>\n    </tr>\n    <tr>\n      <th>6</th>\n      <td>Finland</td>\n      <td>1105.450</td>\n    </tr>\n    <tr>\n      <th>7</th>\n      <td>France</td>\n      <td>23428.040</td>\n    </tr>\n    <tr>\n      <th>8</th>\n      <td>Germany</td>\n      <td>18091.220</td>\n    </tr>\n    <tr>\n      <th>9</th>\n      <td>Italy</td>\n      <td>279.800</td>\n    </tr>\n    <tr>\n      <th>10</th>\n      <td>Japan</td>\n      <td>112.080</td>\n    </tr>\n    <tr>\n      <th>11</th>\n      <td>Netherlands</td>\n      <td>26937.260</td>\n    </tr>\n    <tr>\n      <th>12</th>\n      <td>Norway</td>\n      <td>8678.940</td>\n    </tr>\n    <tr>\n      <th>13</th>\n      <td>Poland</td>\n      <td>529.250</td>\n    </tr>\n    <tr>\n      <th>14</th>\n      <td>Portugal</td>\n      <td>1433.220</td>\n    </tr>\n    <tr>\n      <th>15</th>\n      <td>Spain</td>\n      <td>5189.240</td>\n    </tr>\n    <tr>\n      <th>16</th>\n      <td>Sweden</td>\n      <td>4575.210</td>\n    </tr>\n    <tr>\n      <th>17</th>\n      <td>Switzerland</td>\n      <td>8284.860</td>\n    </tr>\n    <tr>\n      <th>18</th>\n      <td>United Arab Emirates</td>\n      <td>1013.040</td>\n    </tr>\n    <tr>\n      <th>19</th>\n      <td>United Kingdom</td>\n      <td>796780.272</td>\n    </tr>\n  </tbody>\n</table>\n</div>"
     },
     "execution_count": 31,
     "metadata": {},
     "output_type": "execute_result"
    }
   ],
   "source": [
    "sept_sales = purchases[(purchases['Year'] == 2011) & (purchases['Month'] == 9)]\\\n",
    "    .groupby('Country')\\\n",
    "    .sum()['Price']\\\n",
    "    .reset_index()\n",
    "sept_sales"
   ],
   "metadata": {
    "collapsed": false,
    "pycharm": {
     "name": "#%%\n"
    }
   }
  },
  {
   "cell_type": "code",
   "execution_count": 32,
   "outputs": [
    {
     "data": {
      "text/plain": "'Norway, 585'"
     },
     "execution_count": 32,
     "metadata": {},
     "output_type": "execute_result"
    }
   ],
   "source": [
    "country_sales = march_sales.merge(sept_sales, on='Country', suffixes=['Mar', 'Sep'])\n",
    "country_sales['Growth'] = (((country_sales['PriceSep'] / country_sales['PriceMar']) - 1) * 100).apply(int)\n",
    "largest = country_sales\\\n",
    "    .nlargest(1, columns=['Growth'])\\\n",
    "    .reset_index()\\\n",
    "    .loc[0, :]\n",
    "f'{largest.loc[\"Country\"]}, {largest[\"Growth\"]}'"
   ],
   "metadata": {
    "collapsed": false,
    "pycharm": {
     "name": "#%%\n"
    }
   }
  },
  {
   "cell_type": "markdown",
   "metadata": {
    "id": "ZvCX0qZufhq7"
   },
   "source": [
    "## ⭐️⭐️⭐️ Вопрос 20\n",
    "\n",
    "Большинство клиентов все свои покупки делают из одной и той же страны. Выясним, однако, насколько велика доля путешественников среди клиентов. \n",
    "Сколько клиентов сделали покупки по крайней мере из двух разных стран? (ответ - целое число)"
   ]
  },
  {
   "cell_type": "markdown",
   "metadata": {
    "id": "2ujHtufofhq8"
   },
   "source": [
    "#### Решение"
   ]
  },
  {
   "cell_type": "code",
   "metadata": {
    "id": "2AhOPHJQfhq8"
   },
   "source": [
    "country_counts = purchases.groupby('CustomerID')['Country'].nunique()\n",
    "country_counts[country_counts > 1].shape[0]"
   ],
   "execution_count": 33,
   "outputs": [
    {
     "data": {
      "text/plain": "30"
     },
     "execution_count": 33,
     "metadata": {},
     "output_type": "execute_result"
    }
   ]
  },
  {
   "cell_type": "markdown",
   "metadata": {
    "id": "pQrKQuPEfhrA"
   },
   "source": [
    "## ⭐️⭐️⭐️ Вопрос 21\n",
    "\n",
    "Мы запускаем в Италии рекомендательную систему \"С этим товаром часто покупают...\", и для этого хотим узнать, какие различные товары чаще всего встречаются в одной покупке из этой страны. Определите, какая пара различных товаров чаще всего встречается в различных покупках с ```Country=='Italy'```, и в скольких покупках это происходит. Одинаковые товары или нет, проверяйте по равенству поля Description. \n",
    "\n",
    "(ответ: название (Description) первого товара, название (Description) второго товара, целое число)"
   ]
  },
  {
   "cell_type": "markdown",
   "metadata": {
    "id": "fiV0QEWJfhrA"
   },
   "source": [
    "#### Решение"
   ]
  },
  {
   "cell_type": "code",
   "metadata": {
    "id": "HDa1ruzgfhrA"
   },
   "source": [
    "df_italy = df[df['Country'] == 'Italy']\n",
    "df_italy.head()"
   ],
   "execution_count": 34,
   "outputs": [
    {
     "data": {
      "text/plain": "     InvoiceNo StockCode                          Description  Quantity  \\\n7214    537022     22791         T-LIGHT GLASS FLUTED ANTIQUE        12   \n7215    537022     21287         SCENTED VELVET LOUNGE CANDLE        12   \n7216    537022     79337        BLUE FLOCK GLASS CANDLEHOLDER         6   \n7217    537022     85111  SILVER GLITTER FLOWER VOTIVE HOLDER        12   \n7218    537022     85038      6 CHOCOLATE LOVE HEART T-LIGHTS         6   \n\n             InvoiceDate  UnitPrice  CustomerID Country  Price  \n7214 2010-12-03 15:45:00       1.25     12725.0   Italy   15.0  \n7215 2010-12-03 15:45:00       1.25     12725.0   Italy   15.0  \n7216 2010-12-03 15:45:00       1.65     12725.0   Italy    9.9  \n7217 2010-12-03 15:45:00       1.25     12725.0   Italy   15.0  \n7218 2010-12-03 15:45:00       2.10     12725.0   Italy   12.6  ",
      "text/html": "<div>\n<style scoped>\n    .dataframe tbody tr th:only-of-type {\n        vertical-align: middle;\n    }\n\n    .dataframe tbody tr th {\n        vertical-align: top;\n    }\n\n    .dataframe thead th {\n        text-align: right;\n    }\n</style>\n<table border=\"1\" class=\"dataframe\">\n  <thead>\n    <tr style=\"text-align: right;\">\n      <th></th>\n      <th>InvoiceNo</th>\n      <th>StockCode</th>\n      <th>Description</th>\n      <th>Quantity</th>\n      <th>InvoiceDate</th>\n      <th>UnitPrice</th>\n      <th>CustomerID</th>\n      <th>Country</th>\n      <th>Price</th>\n    </tr>\n  </thead>\n  <tbody>\n    <tr>\n      <th>7214</th>\n      <td>537022</td>\n      <td>22791</td>\n      <td>T-LIGHT GLASS FLUTED ANTIQUE</td>\n      <td>12</td>\n      <td>2010-12-03 15:45:00</td>\n      <td>1.25</td>\n      <td>12725.0</td>\n      <td>Italy</td>\n      <td>15.0</td>\n    </tr>\n    <tr>\n      <th>7215</th>\n      <td>537022</td>\n      <td>21287</td>\n      <td>SCENTED VELVET LOUNGE CANDLE</td>\n      <td>12</td>\n      <td>2010-12-03 15:45:00</td>\n      <td>1.25</td>\n      <td>12725.0</td>\n      <td>Italy</td>\n      <td>15.0</td>\n    </tr>\n    <tr>\n      <th>7216</th>\n      <td>537022</td>\n      <td>79337</td>\n      <td>BLUE FLOCK GLASS CANDLEHOLDER</td>\n      <td>6</td>\n      <td>2010-12-03 15:45:00</td>\n      <td>1.65</td>\n      <td>12725.0</td>\n      <td>Italy</td>\n      <td>9.9</td>\n    </tr>\n    <tr>\n      <th>7217</th>\n      <td>537022</td>\n      <td>85111</td>\n      <td>SILVER GLITTER FLOWER VOTIVE HOLDER</td>\n      <td>12</td>\n      <td>2010-12-03 15:45:00</td>\n      <td>1.25</td>\n      <td>12725.0</td>\n      <td>Italy</td>\n      <td>15.0</td>\n    </tr>\n    <tr>\n      <th>7218</th>\n      <td>537022</td>\n      <td>85038</td>\n      <td>6 CHOCOLATE LOVE HEART T-LIGHTS</td>\n      <td>6</td>\n      <td>2010-12-03 15:45:00</td>\n      <td>2.10</td>\n      <td>12725.0</td>\n      <td>Italy</td>\n      <td>12.6</td>\n    </tr>\n  </tbody>\n</table>\n</div>"
     },
     "execution_count": 34,
     "metadata": {},
     "output_type": "execute_result"
    }
   ]
  },
  {
   "cell_type": "code",
   "execution_count": 76,
   "outputs": [
    {
     "data": {
      "text/plain": "226100"
     },
     "execution_count": 76,
     "metadata": {},
     "output_type": "execute_result"
    }
   ],
   "source": [
    "descriptions = df_italy['Description'].unique()\n",
    "\n",
    "all_combinations = []\n",
    "for description1 in descriptions:\n",
    "    for description2 in descriptions:\n",
    "        if description1 != description2:\n",
    "            all_combinations.append((description1, description2))\n",
    "\n",
    "len(all_combinations)"
   ],
   "metadata": {
    "collapsed": false,
    "pycharm": {
     "name": "#%%\n"
    }
   }
  },
  {
   "cell_type": "code",
   "execution_count": 81,
   "outputs": [
    {
     "data": {
      "text/plain": "                  Description_x                        Description_x Count\n0  T-LIGHT GLASS FLUTED ANTIQUE         SCENTED VELVET LOUNGE CANDLE     1\n0  T-LIGHT GLASS FLUTED ANTIQUE        BLUE FLOCK GLASS CANDLEHOLDER     1\n0  T-LIGHT GLASS FLUTED ANTIQUE  SILVER GLITTER FLOWER VOTIVE HOLDER     1\n0  T-LIGHT GLASS FLUTED ANTIQUE      6 CHOCOLATE LOVE HEART T-LIGHTS     1\n0  T-LIGHT GLASS FLUTED ANTIQUE              SET OF 6 T-LIGHTS SANTA     1",
      "text/html": "<div>\n<style scoped>\n    .dataframe tbody tr th:only-of-type {\n        vertical-align: middle;\n    }\n\n    .dataframe tbody tr th {\n        vertical-align: top;\n    }\n\n    .dataframe thead th {\n        text-align: right;\n    }\n</style>\n<table border=\"1\" class=\"dataframe\">\n  <thead>\n    <tr style=\"text-align: right;\">\n      <th></th>\n      <th>Description_x</th>\n      <th>Description_x</th>\n      <th>Count</th>\n    </tr>\n  </thead>\n  <tbody>\n    <tr>\n      <th>0</th>\n      <td>T-LIGHT GLASS FLUTED ANTIQUE</td>\n      <td>SCENTED VELVET LOUNGE CANDLE</td>\n      <td>1</td>\n    </tr>\n    <tr>\n      <th>0</th>\n      <td>T-LIGHT GLASS FLUTED ANTIQUE</td>\n      <td>BLUE FLOCK GLASS CANDLEHOLDER</td>\n      <td>1</td>\n    </tr>\n    <tr>\n      <th>0</th>\n      <td>T-LIGHT GLASS FLUTED ANTIQUE</td>\n      <td>SILVER GLITTER FLOWER VOTIVE HOLDER</td>\n      <td>1</td>\n    </tr>\n    <tr>\n      <th>0</th>\n      <td>T-LIGHT GLASS FLUTED ANTIQUE</td>\n      <td>6 CHOCOLATE LOVE HEART T-LIGHTS</td>\n      <td>1</td>\n    </tr>\n    <tr>\n      <th>0</th>\n      <td>T-LIGHT GLASS FLUTED ANTIQUE</td>\n      <td>SET OF 6 T-LIGHTS SANTA</td>\n      <td>1</td>\n    </tr>\n  </tbody>\n</table>\n</div>"
     },
     "execution_count": 81,
     "metadata": {},
     "output_type": "execute_result"
    }
   ],
   "source": [
    "column_names = ['Description_x', 'Description_x', 'Count']\n",
    "df_pairs = pd.DataFrame(columns=column_names)\n",
    "\n",
    "for combination in all_combinations:\n",
    "    first_df = df_italy[df_italy['Description'] == combination[0]]\n",
    "    second_df = df_italy[df_italy['Description'] == combination[1]]\n",
    "    count = first_df\\\n",
    "        .merge(second_df, on='InvoiceNo', how='inner')\\\n",
    "        .groupby(['Description_x', 'Description_y'])\\\n",
    "        .size()\\\n",
    "        .to_frame()\\\n",
    "        .reset_index()\n",
    "    count.columns = column_names\n",
    "    df_pairs = pd.concat([df_pairs, count], axis=0)\n",
    "\n",
    "df_pairs.head()"
   ],
   "metadata": {
    "collapsed": false,
    "pycharm": {
     "name": "#%%\n"
    }
   }
  },
  {
   "cell_type": "code",
   "execution_count": 84,
   "outputs": [],
   "source": [
    "df_pairs['Count'] = df_pairs['Count'].astype(int)"
   ],
   "metadata": {
    "collapsed": false,
    "pycharm": {
     "name": "#%%\n"
    }
   }
  },
  {
   "cell_type": "code",
   "execution_count": 91,
   "outputs": [
    {
     "data": {
      "text/plain": "'TOY TIDY SPACEBOY, TOY TIDY PINK POLKADOT, 6'"
     },
     "execution_count": 91,
     "metadata": {},
     "output_type": "execute_result"
    }
   ],
   "source": [
    "most_sold_pair = df_pairs.nlargest(1, columns=['Count'])\n",
    "', '.join(most_sold_pair.iloc[0, :].apply(str).values)"
   ],
   "metadata": {
    "collapsed": false,
    "pycharm": {
     "name": "#%%\n"
    }
   }
  }
 ]
}