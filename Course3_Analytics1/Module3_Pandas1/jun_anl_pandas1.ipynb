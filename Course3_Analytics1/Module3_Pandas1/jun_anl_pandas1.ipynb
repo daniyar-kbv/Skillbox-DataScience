{
 "nbformat": 4,
 "nbformat_minor": 0,
 "metadata": {
  "kernelspec": {
   "display_name": "Python 3",
   "language": "python",
   "name": "python3"
  },
  "language_info": {
   "codemirror_mode": {
    "name": "ipython",
    "version": 3
   },
   "file_extension": ".py",
   "mimetype": "text/x-python",
   "name": "python",
   "nbconvert_exporter": "python",
   "pygments_lexer": "ipython3",
   "version": "3.6.3"
  },
  "colab": {
   "name": "jun_anl_pandas1.ipynb",
   "provenance": [],
   "collapsed_sections": []
  }
 },
 "cells": [
  {
   "cell_type": "markdown",
   "metadata": {
    "id": "TGSlEOmerPnD",
    "colab_type": "text"
   },
   "source": [
    "# Библиотека `pandas`: часть 1\n",
    "\n",
    "*Алла Тамбовцева*\n",
    "\n",
    "## Домашнее задание \n",
    "\n",
    "### Описание домашнего задания и формат сдачи\n",
    "\n",
    "В домашнем задании необходимо решить предложенные задачи по программированию – вписать свой код в ячейки после условий задач вместо комментария `### YOUR CODE HERE ###` в файле *homework-pandas1.ipynb* и сохранить изменения, используя опцию *Save and Checkpoint* из вкладки меню *File* или кнопку *Save and Checkpoint* на панели инструментов. Итоговый файл в формате `.ipynb` (файл Jupyter Notebook) необходимо загрузить в личный кабинет обучающей онлайн платформы Skillbox (https://go.skillbox.ru/) и отправить на проверку."
   ]
  },
  {
   "cell_type": "markdown",
   "metadata": {
    "id": "NExy7dE1rPnE",
    "colab_type": "text"
   },
   "source": [
    "### Задание 1\n",
    "\n",
    "Загрузить массив `NumPy` из файла `\"arr_pandas.npy\"` (как в задании к предыдущему модулю) и преобразовать его в датафрейм. Массив содержит данные по результатам соревнований Scottish Hill Races в 2000 году (полное описание на английском языке можно посмотреть на [странице](https://vincentarelbundock.github.io/Rdatasets/doc/DAAG/races2000.html) с документацией по исходному файлу с данными).\n",
    "\n",
    "**Подсказка (преобразование в датафрейм):**"
   ]
  },
  {
   "cell_type": "code",
   "execution_count": 62,
   "outputs": [],
   "source": [
    "import numpy as np\n",
    "import pandas as pd"
   ],
   "metadata": {
    "collapsed": false,
    "pycharm": {
     "name": "#%%\n"
    }
   }
  },
  {
   "cell_type": "code",
   "metadata": {
    "id": "KuLeAnNQrPnF",
    "colab_type": "code",
    "colab": {}
   },
   "source": [
    "arr = np.load('arr_pandas.npy', allow_pickle=True)\n",
    "dat = pd.DataFrame(arr)"
   ],
   "execution_count": 63,
   "outputs": []
  },
  {
   "cell_type": "markdown",
   "metadata": {
    "id": "DKJF6IXCrPnL",
    "colab_type": "text"
   },
   "source": [
    "### Задание 2\n",
    "\n",
    "Определить, сколько в датафрейме строк и столбцов. Привести код и указать ответ в виде текста или комментария к коду."
   ]
  },
  {
   "cell_type": "code",
   "metadata": {
    "id": "8b-UkWU8rPnL",
    "colab_type": "code",
    "colab": {}
   },
   "source": [
    "print(f'Rows: {dat.shape[0]}\\nColumns: {dat.shape[1]}')"
   ],
   "execution_count": 64,
   "outputs": [
    {
     "name": "stdout",
     "output_type": "stream",
     "text": [
      "Rows: 77\n",
      "Columns: 6\n"
     ]
    }
   ]
  },
  {
   "cell_type": "markdown",
   "metadata": {
    "id": "FGDqgiAxrPnP",
    "colab_type": "text"
   },
   "source": [
    "### Задание 3\n",
    "\n",
    "Присвоить столбцам следующие названия (указаны с пояснениями): \n",
    "\n",
    "* `id`: id участника\n",
    "* `dist`: расстояние в милях (по карте)\n",
    "* `climb`: высота, достигнутая на маршруте (в сумме за весь маршрут, в футах)\n",
    "* `time`: время (в часах)\n",
    "* `timef`: время для женщин (в часах)\n",
    "* `type`: тип гонки (*hill*, *marathon*, *relay*, *uphill* or *other*)"
   ]
  },
  {
   "cell_type": "code",
   "metadata": {
    "id": "NY-269FGrPnQ",
    "colab_type": "code",
    "colab": {}
   },
   "source": [
    "dat.columns = ['id', 'dist', 'climb', 'time', 'timef', 'type']\n",
    "dat.head()"
   ],
   "execution_count": 65,
   "outputs": [
    {
     "data": {
      "text/plain": "                   id  dist climb      time     timef    type\n0  Aonach Mor Gondola   2.0  2000  0.403611  0.518889  uphill\n1   Broughton Brewery   2.0   650  0.254444  0.316667   other\n2         El-Brim-Ick   3.0   750  0.485833  0.389167   other\n3  The Devils Burdens  21.0  4100  2.399722  3.093333   relay\n4       Tiso Carnethy   6.0  2500  0.782222  0.919167    hill",
      "text/html": "<div>\n<style scoped>\n    .dataframe tbody tr th:only-of-type {\n        vertical-align: middle;\n    }\n\n    .dataframe tbody tr th {\n        vertical-align: top;\n    }\n\n    .dataframe thead th {\n        text-align: right;\n    }\n</style>\n<table border=\"1\" class=\"dataframe\">\n  <thead>\n    <tr style=\"text-align: right;\">\n      <th></th>\n      <th>id</th>\n      <th>dist</th>\n      <th>climb</th>\n      <th>time</th>\n      <th>timef</th>\n      <th>type</th>\n    </tr>\n  </thead>\n  <tbody>\n    <tr>\n      <th>0</th>\n      <td>Aonach Mor Gondola</td>\n      <td>2.0</td>\n      <td>2000</td>\n      <td>0.403611</td>\n      <td>0.518889</td>\n      <td>uphill</td>\n    </tr>\n    <tr>\n      <th>1</th>\n      <td>Broughton Brewery</td>\n      <td>2.0</td>\n      <td>650</td>\n      <td>0.254444</td>\n      <td>0.316667</td>\n      <td>other</td>\n    </tr>\n    <tr>\n      <th>2</th>\n      <td>El-Brim-Ick</td>\n      <td>3.0</td>\n      <td>750</td>\n      <td>0.485833</td>\n      <td>0.389167</td>\n      <td>other</td>\n    </tr>\n    <tr>\n      <th>3</th>\n      <td>The Devils Burdens</td>\n      <td>21.0</td>\n      <td>4100</td>\n      <td>2.399722</td>\n      <td>3.093333</td>\n      <td>relay</td>\n    </tr>\n    <tr>\n      <th>4</th>\n      <td>Tiso Carnethy</td>\n      <td>6.0</td>\n      <td>2500</td>\n      <td>0.782222</td>\n      <td>0.919167</td>\n      <td>hill</td>\n    </tr>\n  </tbody>\n</table>\n</div>"
     },
     "execution_count": 65,
     "metadata": {},
     "output_type": "execute_result"
    }
   ]
  },
  {
   "cell_type": "markdown",
   "source": [
    "### Задание 4\n",
    "\n",
    "Вывести на экран значение высоты, достигнутой на маршруте участником *Norman's Law*."
   ],
   "metadata": {
    "collapsed": false,
    "pycharm": {
     "name": "#%% md\n"
    }
   }
  },
  {
   "cell_type": "code",
   "execution_count": 66,
   "outputs": [
    {
     "data": {
      "text/plain": "             id climb\n7  Norman's Law   700",
      "text/html": "<div>\n<style scoped>\n    .dataframe tbody tr th:only-of-type {\n        vertical-align: middle;\n    }\n\n    .dataframe tbody tr th {\n        vertical-align: top;\n    }\n\n    .dataframe thead th {\n        text-align: right;\n    }\n</style>\n<table border=\"1\" class=\"dataframe\">\n  <thead>\n    <tr style=\"text-align: right;\">\n      <th></th>\n      <th>id</th>\n      <th>climb</th>\n    </tr>\n  </thead>\n  <tbody>\n    <tr>\n      <th>7</th>\n      <td>Norman's Law</td>\n      <td>700</td>\n    </tr>\n  </tbody>\n</table>\n</div>"
     },
     "execution_count": 66,
     "metadata": {},
     "output_type": "execute_result"
    }
   ],
   "source": [
    "dat.loc[dat.id == 'Norman\\'s Law', ['id', 'climb']]"
   ],
   "metadata": {
    "collapsed": false,
    "pycharm": {
     "name": "#%%\n"
    }
   }
  },
  {
   "cell_type": "markdown",
   "source": [
    "### Задание 5\n",
    "Вывести на экран значения показателей `dist`, `climb` , `time` для первых 10 участников."
   ],
   "metadata": {
    "collapsed": false
   }
  },
  {
   "cell_type": "code",
   "metadata": {
    "id": "Rx8FCk-1rPnX",
    "colab_type": "code",
    "colab": {}
   },
   "source": [
    "dat.loc[:10, ['dist', 'climb', 'time']]"
   ],
   "execution_count": 67,
   "outputs": [
    {
     "data": {
      "text/plain": "    dist climb      time\n0    2.0  2000  0.403611\n1    2.0   650  0.254444\n2    3.0   750  0.485833\n3   21.0  4100  2.399722\n4    6.0  2500  0.782222\n5    7.0  1800  0.793333\n6    1.5  1400  0.314444\n7    5.0   700  0.464167\n8    6.0   900  0.546111\n9    5.0  1200  0.623333\n10   4.0  1300  0.458889",
      "text/html": "<div>\n<style scoped>\n    .dataframe tbody tr th:only-of-type {\n        vertical-align: middle;\n    }\n\n    .dataframe tbody tr th {\n        vertical-align: top;\n    }\n\n    .dataframe thead th {\n        text-align: right;\n    }\n</style>\n<table border=\"1\" class=\"dataframe\">\n  <thead>\n    <tr style=\"text-align: right;\">\n      <th></th>\n      <th>dist</th>\n      <th>climb</th>\n      <th>time</th>\n    </tr>\n  </thead>\n  <tbody>\n    <tr>\n      <th>0</th>\n      <td>2.0</td>\n      <td>2000</td>\n      <td>0.403611</td>\n    </tr>\n    <tr>\n      <th>1</th>\n      <td>2.0</td>\n      <td>650</td>\n      <td>0.254444</td>\n    </tr>\n    <tr>\n      <th>2</th>\n      <td>3.0</td>\n      <td>750</td>\n      <td>0.485833</td>\n    </tr>\n    <tr>\n      <th>3</th>\n      <td>21.0</td>\n      <td>4100</td>\n      <td>2.399722</td>\n    </tr>\n    <tr>\n      <th>4</th>\n      <td>6.0</td>\n      <td>2500</td>\n      <td>0.782222</td>\n    </tr>\n    <tr>\n      <th>5</th>\n      <td>7.0</td>\n      <td>1800</td>\n      <td>0.793333</td>\n    </tr>\n    <tr>\n      <th>6</th>\n      <td>1.5</td>\n      <td>1400</td>\n      <td>0.314444</td>\n    </tr>\n    <tr>\n      <th>7</th>\n      <td>5.0</td>\n      <td>700</td>\n      <td>0.464167</td>\n    </tr>\n    <tr>\n      <th>8</th>\n      <td>6.0</td>\n      <td>900</td>\n      <td>0.546111</td>\n    </tr>\n    <tr>\n      <th>9</th>\n      <td>5.0</td>\n      <td>1200</td>\n      <td>0.623333</td>\n    </tr>\n    <tr>\n      <th>10</th>\n      <td>4.0</td>\n      <td>1300</td>\n      <td>0.458889</td>\n    </tr>\n  </tbody>\n</table>\n</div>"
     },
     "execution_count": 67,
     "metadata": {},
     "output_type": "execute_result"
    }
   ]
  },
  {
   "cell_type": "markdown",
   "metadata": {
    "id": "hE_DuG3zrPnb",
    "colab_type": "text"
   },
   "source": [
    "### Задание 6\n",
    "\n",
    "Вывести на экран сводную информацию по датафрейму, которая включает типы всех столбцов. Сколько столбцов типа `float` в датафрейме? Привести ответ на вопрос в виде текста или комментария к коду."
   ]
  },
  {
   "cell_type": "code",
   "metadata": {
    "id": "GPMKlBTArPnb",
    "colab_type": "code",
    "colab": {}
   },
   "source": [
    "dat.info()"
   ],
   "execution_count": 68,
   "outputs": [
    {
     "name": "stdout",
     "output_type": "stream",
     "text": [
      "<class 'pandas.core.frame.DataFrame'>\n",
      "RangeIndex: 77 entries, 0 to 76\n",
      "Data columns (total 6 columns):\n",
      " #   Column  Non-Null Count  Dtype \n",
      "---  ------  --------------  ----- \n",
      " 0   id      77 non-null     object\n",
      " 1   dist    77 non-null     object\n",
      " 2   climb   77 non-null     object\n",
      " 3   time    77 non-null     object\n",
      " 4   timef   75 non-null     object\n",
      " 5   type    77 non-null     object\n",
      "dtypes: object(6)\n",
      "memory usage: 3.7+ KB\n"
     ]
    }
   ]
  },
  {
   "cell_type": "markdown",
   "source": [
    "# No float columns"
   ],
   "metadata": {
    "collapsed": false,
    "pycharm": {
     "name": "#%% md\n"
    }
   }
  },
  {
   "cell_type": "markdown",
   "metadata": {
    "id": "HZk0YywrrPne",
    "colab_type": "text"
   },
   "source": [
    "### Задание 7\n",
    "\n",
    "Выбрать строки, которые соответствуют участникам эстафеты (*relay*)."
   ]
  },
  {
   "cell_type": "code",
   "metadata": {
    "id": "oVotUFlMrPne",
    "colab_type": "code",
    "colab": {}
   },
   "source": [
    "dat[dat.type == 'relay']"
   ],
   "execution_count": 69,
   "outputs": [
    {
     "data": {
      "text/plain": "                    id  dist climb      time     timef   type\n3   The Devils Burdens  21.0  4100  2.399722  3.093333  relay\n16             Ben Rha   7.5   800  0.738056  0.997222  relay\n74              Elrick   3.6   650  0.358056    0.4425  relay",
      "text/html": "<div>\n<style scoped>\n    .dataframe tbody tr th:only-of-type {\n        vertical-align: middle;\n    }\n\n    .dataframe tbody tr th {\n        vertical-align: top;\n    }\n\n    .dataframe thead th {\n        text-align: right;\n    }\n</style>\n<table border=\"1\" class=\"dataframe\">\n  <thead>\n    <tr style=\"text-align: right;\">\n      <th></th>\n      <th>id</th>\n      <th>dist</th>\n      <th>climb</th>\n      <th>time</th>\n      <th>timef</th>\n      <th>type</th>\n    </tr>\n  </thead>\n  <tbody>\n    <tr>\n      <th>3</th>\n      <td>The Devils Burdens</td>\n      <td>21.0</td>\n      <td>4100</td>\n      <td>2.399722</td>\n      <td>3.093333</td>\n      <td>relay</td>\n    </tr>\n    <tr>\n      <th>16</th>\n      <td>Ben Rha</td>\n      <td>7.5</td>\n      <td>800</td>\n      <td>0.738056</td>\n      <td>0.997222</td>\n      <td>relay</td>\n    </tr>\n    <tr>\n      <th>74</th>\n      <td>Elrick</td>\n      <td>3.6</td>\n      <td>650</td>\n      <td>0.358056</td>\n      <td>0.4425</td>\n      <td>relay</td>\n    </tr>\n  </tbody>\n</table>\n</div>"
     },
     "execution_count": 69,
     "metadata": {},
     "output_type": "execute_result"
    }
   ]
  },
  {
   "cell_type": "markdown",
   "metadata": {
    "id": "kzFdcYCCrPnh",
    "colab_type": "text"
   },
   "source": [
    "### Задание 8\n",
    "\n",
    "Выбрать строки, которые соответствуют участникам гонки в холмах (*hill*), которые в сумме достигли высоты более 1000 футов. Посчитать, сколько таких участников."
   ]
  },
  {
   "cell_type": "code",
   "metadata": {
    "id": "QqaztdTGrPni",
    "colab_type": "code",
    "colab": {}
   },
   "source": [
    "dat[(dat.type == 'hill') & (dat.climb > 1000)].shape[0]"
   ],
   "execution_count": 70,
   "outputs": [
    {
     "data": {
      "text/plain": "39"
     },
     "execution_count": 70,
     "metadata": {},
     "output_type": "execute_result"
    }
   ]
  },
  {
   "cell_type": "markdown",
   "metadata": {
    "id": "DpE3J3EgrPnk",
    "colab_type": "text"
   },
   "source": [
    "### Задание 9\n",
    "\n",
    "Выбрать строки, соответствующие участникам, которые либо достигли высоты более 4000 футов, либо потратили менее 0.5 часов."
   ]
  },
  {
   "cell_type": "code",
   "metadata": {
    "id": "PLoGXxynrPnk",
    "colab_type": "code",
    "colab": {}
   },
   "source": [
    "dat[(dat.climb > 4000) | (dat.time < 0.5)]"
   ],
   "execution_count": 71,
   "outputs": [
    {
     "data": {
      "text/plain": "                       id  dist climb       time      timef      type\n0      Aonach Mor Gondola   2.0  2000   0.403611   0.518889    uphill\n1       Broughton Brewery   2.0   650   0.254444   0.316667     other\n2             El-Brim-Ick   3.0   750   0.485833   0.389167     other\n3      The Devils Burdens  21.0  4100   2.399722   3.093333     relay\n6              Chapelgill   1.5  1400   0.314444   0.376667      hill\n7            Norman's Law   5.0   700   0.464167   0.609167      hill\n10                 Screel   4.0  1300   0.458889   0.543611      hill\n12            Hunters Bog   4.5   800   0.409444   0.477778     other\n13         Aberfoyle Dash   3.0  1000     0.3375   0.381389    uphill\n14          Manx Mountain  30.5  8000   4.469722   5.523333  marathon\n15          Whangie Whizz   3.5   800   0.395556   0.464167      hill\n17          Stuc A'Chroin  14.0  5000   1.983333   2.398889      hill\n20               Kinnoull   4.0   800   0.387222     0.4525      hill\n22  Scottish Nuclear Kaim   3.5  1250   0.431111       0.54      hill\n25           Isle of Jura  16.0  7500   3.116389   3.839444     other\n26                 Scolty   5.0   800   0.495833   0.579167      hill\n28           12 Trig Trog  46.0  7500   8.306944  13.547778      hill\n33             Ben Sheann   2.5  1400   0.381667   0.484722      hill\n34              Glen Rosa  13.0  5500   2.220278   2.704722      hill\n35      West Highland Way  95.0  9200  15.438889  18.879167     other\n38             Eildon Two   4.5  1500   0.427222   0.507778     other\n44             Black Hill   4.0   600   0.447778   0.532222      hill\n48       Meall Ant-Suidhe   3.5  1500      0.465   0.609722      hill\n50            Lochaber AC   2.0   900   0.284722   0.360556      hill\n51      Lochaber Highland   2.0   900   0.294167   0.473056      hill\n53            Ben Rhinnes  14.0  4900   1.976111   2.355833      hill\n55             Creag Dubh   3.0  1223   0.463889   0.601667      hill\n56             Glen Clova  15.0  5500   2.567222   2.962222      hill\n57             Caerketton   2.5   800   0.208611   0.246667      hill\n61                   Oban  2.25   500   0.232222   0.298889      hill\n62              Ben Nevis  10.0  4400   1.426111   1.723611      hill\n63                Braemar   4.0  2000   0.407778        NaN     other\n64        Moffat Beef Tub   2.0  1500   0.332222   0.436944      hill\n69          Two Breweries  18.0  4900   2.565833   3.088333      hill\n71               Pentland  16.0  6200   2.377778      2.785      hill\n72                  Tinto   4.5  1500   0.499444   0.581111      hill\n74                 Elrick   3.6   650   0.358056     0.4425     relay\n75                Gondola   2.5  2000   0.387222   0.518889    uphill\n76            Greenmantle   2.0   650   0.254444   0.316667     other",
      "text/html": "<div>\n<style scoped>\n    .dataframe tbody tr th:only-of-type {\n        vertical-align: middle;\n    }\n\n    .dataframe tbody tr th {\n        vertical-align: top;\n    }\n\n    .dataframe thead th {\n        text-align: right;\n    }\n</style>\n<table border=\"1\" class=\"dataframe\">\n  <thead>\n    <tr style=\"text-align: right;\">\n      <th></th>\n      <th>id</th>\n      <th>dist</th>\n      <th>climb</th>\n      <th>time</th>\n      <th>timef</th>\n      <th>type</th>\n    </tr>\n  </thead>\n  <tbody>\n    <tr>\n      <th>0</th>\n      <td>Aonach Mor Gondola</td>\n      <td>2.0</td>\n      <td>2000</td>\n      <td>0.403611</td>\n      <td>0.518889</td>\n      <td>uphill</td>\n    </tr>\n    <tr>\n      <th>1</th>\n      <td>Broughton Brewery</td>\n      <td>2.0</td>\n      <td>650</td>\n      <td>0.254444</td>\n      <td>0.316667</td>\n      <td>other</td>\n    </tr>\n    <tr>\n      <th>2</th>\n      <td>El-Brim-Ick</td>\n      <td>3.0</td>\n      <td>750</td>\n      <td>0.485833</td>\n      <td>0.389167</td>\n      <td>other</td>\n    </tr>\n    <tr>\n      <th>3</th>\n      <td>The Devils Burdens</td>\n      <td>21.0</td>\n      <td>4100</td>\n      <td>2.399722</td>\n      <td>3.093333</td>\n      <td>relay</td>\n    </tr>\n    <tr>\n      <th>6</th>\n      <td>Chapelgill</td>\n      <td>1.5</td>\n      <td>1400</td>\n      <td>0.314444</td>\n      <td>0.376667</td>\n      <td>hill</td>\n    </tr>\n    <tr>\n      <th>7</th>\n      <td>Norman's Law</td>\n      <td>5.0</td>\n      <td>700</td>\n      <td>0.464167</td>\n      <td>0.609167</td>\n      <td>hill</td>\n    </tr>\n    <tr>\n      <th>10</th>\n      <td>Screel</td>\n      <td>4.0</td>\n      <td>1300</td>\n      <td>0.458889</td>\n      <td>0.543611</td>\n      <td>hill</td>\n    </tr>\n    <tr>\n      <th>12</th>\n      <td>Hunters Bog</td>\n      <td>4.5</td>\n      <td>800</td>\n      <td>0.409444</td>\n      <td>0.477778</td>\n      <td>other</td>\n    </tr>\n    <tr>\n      <th>13</th>\n      <td>Aberfoyle Dash</td>\n      <td>3.0</td>\n      <td>1000</td>\n      <td>0.3375</td>\n      <td>0.381389</td>\n      <td>uphill</td>\n    </tr>\n    <tr>\n      <th>14</th>\n      <td>Manx Mountain</td>\n      <td>30.5</td>\n      <td>8000</td>\n      <td>4.469722</td>\n      <td>5.523333</td>\n      <td>marathon</td>\n    </tr>\n    <tr>\n      <th>15</th>\n      <td>Whangie Whizz</td>\n      <td>3.5</td>\n      <td>800</td>\n      <td>0.395556</td>\n      <td>0.464167</td>\n      <td>hill</td>\n    </tr>\n    <tr>\n      <th>17</th>\n      <td>Stuc A'Chroin</td>\n      <td>14.0</td>\n      <td>5000</td>\n      <td>1.983333</td>\n      <td>2.398889</td>\n      <td>hill</td>\n    </tr>\n    <tr>\n      <th>20</th>\n      <td>Kinnoull</td>\n      <td>4.0</td>\n      <td>800</td>\n      <td>0.387222</td>\n      <td>0.4525</td>\n      <td>hill</td>\n    </tr>\n    <tr>\n      <th>22</th>\n      <td>Scottish Nuclear Kaim</td>\n      <td>3.5</td>\n      <td>1250</td>\n      <td>0.431111</td>\n      <td>0.54</td>\n      <td>hill</td>\n    </tr>\n    <tr>\n      <th>25</th>\n      <td>Isle of Jura</td>\n      <td>16.0</td>\n      <td>7500</td>\n      <td>3.116389</td>\n      <td>3.839444</td>\n      <td>other</td>\n    </tr>\n    <tr>\n      <th>26</th>\n      <td>Scolty</td>\n      <td>5.0</td>\n      <td>800</td>\n      <td>0.495833</td>\n      <td>0.579167</td>\n      <td>hill</td>\n    </tr>\n    <tr>\n      <th>28</th>\n      <td>12 Trig Trog</td>\n      <td>46.0</td>\n      <td>7500</td>\n      <td>8.306944</td>\n      <td>13.547778</td>\n      <td>hill</td>\n    </tr>\n    <tr>\n      <th>33</th>\n      <td>Ben Sheann</td>\n      <td>2.5</td>\n      <td>1400</td>\n      <td>0.381667</td>\n      <td>0.484722</td>\n      <td>hill</td>\n    </tr>\n    <tr>\n      <th>34</th>\n      <td>Glen Rosa</td>\n      <td>13.0</td>\n      <td>5500</td>\n      <td>2.220278</td>\n      <td>2.704722</td>\n      <td>hill</td>\n    </tr>\n    <tr>\n      <th>35</th>\n      <td>West Highland Way</td>\n      <td>95.0</td>\n      <td>9200</td>\n      <td>15.438889</td>\n      <td>18.879167</td>\n      <td>other</td>\n    </tr>\n    <tr>\n      <th>38</th>\n      <td>Eildon Two</td>\n      <td>4.5</td>\n      <td>1500</td>\n      <td>0.427222</td>\n      <td>0.507778</td>\n      <td>other</td>\n    </tr>\n    <tr>\n      <th>44</th>\n      <td>Black Hill</td>\n      <td>4.0</td>\n      <td>600</td>\n      <td>0.447778</td>\n      <td>0.532222</td>\n      <td>hill</td>\n    </tr>\n    <tr>\n      <th>48</th>\n      <td>Meall Ant-Suidhe</td>\n      <td>3.5</td>\n      <td>1500</td>\n      <td>0.465</td>\n      <td>0.609722</td>\n      <td>hill</td>\n    </tr>\n    <tr>\n      <th>50</th>\n      <td>Lochaber AC</td>\n      <td>2.0</td>\n      <td>900</td>\n      <td>0.284722</td>\n      <td>0.360556</td>\n      <td>hill</td>\n    </tr>\n    <tr>\n      <th>51</th>\n      <td>Lochaber Highland</td>\n      <td>2.0</td>\n      <td>900</td>\n      <td>0.294167</td>\n      <td>0.473056</td>\n      <td>hill</td>\n    </tr>\n    <tr>\n      <th>53</th>\n      <td>Ben Rhinnes</td>\n      <td>14.0</td>\n      <td>4900</td>\n      <td>1.976111</td>\n      <td>2.355833</td>\n      <td>hill</td>\n    </tr>\n    <tr>\n      <th>55</th>\n      <td>Creag Dubh</td>\n      <td>3.0</td>\n      <td>1223</td>\n      <td>0.463889</td>\n      <td>0.601667</td>\n      <td>hill</td>\n    </tr>\n    <tr>\n      <th>56</th>\n      <td>Glen Clova</td>\n      <td>15.0</td>\n      <td>5500</td>\n      <td>2.567222</td>\n      <td>2.962222</td>\n      <td>hill</td>\n    </tr>\n    <tr>\n      <th>57</th>\n      <td>Caerketton</td>\n      <td>2.5</td>\n      <td>800</td>\n      <td>0.208611</td>\n      <td>0.246667</td>\n      <td>hill</td>\n    </tr>\n    <tr>\n      <th>61</th>\n      <td>Oban</td>\n      <td>2.25</td>\n      <td>500</td>\n      <td>0.232222</td>\n      <td>0.298889</td>\n      <td>hill</td>\n    </tr>\n    <tr>\n      <th>62</th>\n      <td>Ben Nevis</td>\n      <td>10.0</td>\n      <td>4400</td>\n      <td>1.426111</td>\n      <td>1.723611</td>\n      <td>hill</td>\n    </tr>\n    <tr>\n      <th>63</th>\n      <td>Braemar</td>\n      <td>4.0</td>\n      <td>2000</td>\n      <td>0.407778</td>\n      <td>NaN</td>\n      <td>other</td>\n    </tr>\n    <tr>\n      <th>64</th>\n      <td>Moffat Beef Tub</td>\n      <td>2.0</td>\n      <td>1500</td>\n      <td>0.332222</td>\n      <td>0.436944</td>\n      <td>hill</td>\n    </tr>\n    <tr>\n      <th>69</th>\n      <td>Two Breweries</td>\n      <td>18.0</td>\n      <td>4900</td>\n      <td>2.565833</td>\n      <td>3.088333</td>\n      <td>hill</td>\n    </tr>\n    <tr>\n      <th>71</th>\n      <td>Pentland</td>\n      <td>16.0</td>\n      <td>6200</td>\n      <td>2.377778</td>\n      <td>2.785</td>\n      <td>hill</td>\n    </tr>\n    <tr>\n      <th>72</th>\n      <td>Tinto</td>\n      <td>4.5</td>\n      <td>1500</td>\n      <td>0.499444</td>\n      <td>0.581111</td>\n      <td>hill</td>\n    </tr>\n    <tr>\n      <th>74</th>\n      <td>Elrick</td>\n      <td>3.6</td>\n      <td>650</td>\n      <td>0.358056</td>\n      <td>0.4425</td>\n      <td>relay</td>\n    </tr>\n    <tr>\n      <th>75</th>\n      <td>Gondola</td>\n      <td>2.5</td>\n      <td>2000</td>\n      <td>0.387222</td>\n      <td>0.518889</td>\n      <td>uphill</td>\n    </tr>\n    <tr>\n      <th>76</th>\n      <td>Greenmantle</td>\n      <td>2.0</td>\n      <td>650</td>\n      <td>0.254444</td>\n      <td>0.316667</td>\n      <td>other</td>\n    </tr>\n  </tbody>\n</table>\n</div>"
     },
     "execution_count": 71,
     "metadata": {},
     "output_type": "execute_result"
    }
   ]
  },
  {
   "cell_type": "markdown",
   "metadata": {
    "id": "GL_JBYmarPnn",
    "colab_type": "text"
   },
   "source": [
    "### Задание 10\n",
    "\n",
    "Создать столбец `time_min`, который содержит время маршрута, измеренное в минутах."
   ]
  },
  {
   "cell_type": "code",
   "metadata": {
    "id": "Z9BCFTSsrPno",
    "colab_type": "code",
    "colab": {}
   },
   "source": [
    "dat['time_min'] = dat.time * 60\n",
    "dat.head()"
   ],
   "execution_count": 72,
   "outputs": [
    {
     "data": {
      "text/plain": "                   id  dist climb      time     timef    type    time_min\n0  Aonach Mor Gondola   2.0  2000  0.403611  0.518889  uphill   24.216667\n1   Broughton Brewery   2.0   650  0.254444  0.316667   other   15.266667\n2         El-Brim-Ick   3.0   750  0.485833  0.389167   other       29.15\n3  The Devils Burdens  21.0  4100  2.399722  3.093333   relay  143.983333\n4       Tiso Carnethy   6.0  2500  0.782222  0.919167    hill   46.933333",
      "text/html": "<div>\n<style scoped>\n    .dataframe tbody tr th:only-of-type {\n        vertical-align: middle;\n    }\n\n    .dataframe tbody tr th {\n        vertical-align: top;\n    }\n\n    .dataframe thead th {\n        text-align: right;\n    }\n</style>\n<table border=\"1\" class=\"dataframe\">\n  <thead>\n    <tr style=\"text-align: right;\">\n      <th></th>\n      <th>id</th>\n      <th>dist</th>\n      <th>climb</th>\n      <th>time</th>\n      <th>timef</th>\n      <th>type</th>\n      <th>time_min</th>\n    </tr>\n  </thead>\n  <tbody>\n    <tr>\n      <th>0</th>\n      <td>Aonach Mor Gondola</td>\n      <td>2.0</td>\n      <td>2000</td>\n      <td>0.403611</td>\n      <td>0.518889</td>\n      <td>uphill</td>\n      <td>24.216667</td>\n    </tr>\n    <tr>\n      <th>1</th>\n      <td>Broughton Brewery</td>\n      <td>2.0</td>\n      <td>650</td>\n      <td>0.254444</td>\n      <td>0.316667</td>\n      <td>other</td>\n      <td>15.266667</td>\n    </tr>\n    <tr>\n      <th>2</th>\n      <td>El-Brim-Ick</td>\n      <td>3.0</td>\n      <td>750</td>\n      <td>0.485833</td>\n      <td>0.389167</td>\n      <td>other</td>\n      <td>29.15</td>\n    </tr>\n    <tr>\n      <th>3</th>\n      <td>The Devils Burdens</td>\n      <td>21.0</td>\n      <td>4100</td>\n      <td>2.399722</td>\n      <td>3.093333</td>\n      <td>relay</td>\n      <td>143.983333</td>\n    </tr>\n    <tr>\n      <th>4</th>\n      <td>Tiso Carnethy</td>\n      <td>6.0</td>\n      <td>2500</td>\n      <td>0.782222</td>\n      <td>0.919167</td>\n      <td>hill</td>\n      <td>46.933333</td>\n    </tr>\n  </tbody>\n</table>\n</div>"
     },
     "execution_count": 72,
     "metadata": {},
     "output_type": "execute_result"
    }
   ]
  },
  {
   "cell_type": "markdown",
   "metadata": {
    "id": "AlVDMiverPnq",
    "colab_type": "text"
   },
   "source": [
    "### Задание 11\n",
    "\n",
    "Создать столбец `year` с годом соревнований (везде 2000 год). Внимание: столбец с годом должен быть числовым (целочисленным)."
   ]
  },
  {
   "cell_type": "code",
   "metadata": {
    "id": "NZVwqWRbrPnq",
    "colab_type": "code",
    "colab": {}
   },
   "source": [
    "dat['year'] = 2000\n",
    "dat.year.dtype"
   ],
   "execution_count": 73,
   "outputs": [
    {
     "data": {
      "text/plain": "dtype('int64')"
     },
     "execution_count": 73,
     "metadata": {},
     "output_type": "execute_result"
    }
   ]
  },
  {
   "cell_type": "markdown",
   "metadata": {
    "id": "XfY_zdL1rPnt",
    "colab_type": "text"
   },
   "source": [
    ".<br> .<br> .<br> .<br> .<br> .<br> .<br> .<br> .<br> .<br> .<br> .<br> .<br> .<br> .<br> .<br> .<br> .<br> \n",
    "# Дополнительное (необязательное) задание.\n",
    "<br>\n",
    "\n"
   ]
  },
  {
   "cell_type": "markdown",
   "metadata": {
    "id": "npN8fNXDrPnt",
    "colab_type": "text"
   },
   "source": [
    "### Задание 1\n",
    "\n",
    "Загрузить датафрейм из файла `extraversion.csv`, используя код ниже. При этом файл `extraversion.csv` должен находиться в той же папке, что и ноутбук с решениями. Его можно поместить в ту же папку, нажав кнопку *Upload* в *Home*."
   ]
  },
  {
   "cell_type": "code",
   "metadata": {
    "id": "lW-vcZnxrPnu",
    "colab_type": "code",
    "colab": {}
   },
   "source": [
    "# кодировка UTF-8, чтобы кириллица корректно считывалась на Windows\n",
    "ps = pd.read_csv(\"extraversion.csv\", encoding=\"UTF-8\")"
   ],
   "execution_count": 74,
   "outputs": []
  },
  {
   "cell_type": "markdown",
   "metadata": {
    "id": "d9CEJ_GZrPny",
    "colab_type": "text"
   },
   "source": [
    "Файл содержит результаты учебного психометрического исследования, целью которого является выявление связи между уровнем экстраверсии человека и его склонности к участию в волонтёрской деятельности. Датафрейм содержит следующие столбцы:\n",
    "\n",
    "* `sex`: пол респондента (Женский, Мужской);\n",
    "* `volunteer`: регулярное участие в волонтёрской деятельности (Да, Нет);\n",
    "* `Q 1` - `Q 57`: ответы на вопросы по анкете Айзенка (Да, Нет), информацию об анкете и сами вопросы можно найти на [этой](http://ipp.hse.ru/57-testytest-ajzenka-ekstraversiya-introversiya-nejrotizm) странице."
   ]
  },
  {
   "cell_type": "code",
   "metadata": {
    "id": "zUb0Cp7ZrPny",
    "colab_type": "code",
    "colab": {}
   },
   "source": [
    "ps.head()"
   ],
   "execution_count": 75,
   "outputs": [
    {
     "data": {
      "text/plain": "   Unnamed: 0.1  Unnamed: 0      sex volunteer Q 1  Q 2  Q 3  Q 4 Q 5 Q 6  \\\n0             0           1  Женский       Нет  Да  Нет  Нет   Да  Да  Да   \n1             1           2  Женский        Да  Да   Да  Нет   Да  Да  Да   \n2             2           3  Женский        Да  Да   Да  Нет  Нет  Да  Да   \n3             3           4  Женский       Нет  Да   Да  Нет  Нет  Да  Да   \n4             4           5  Женский       Нет  Да   Да  Нет   Да  Да  Да   \n\n   ... Q 48 Q 49 Q 50 Q 51 Q 52 Q 53 Q 54 Q 55 Q 56 Q 57  \n0  ...   Да  Нет  Нет   Да   Да  Нет  Нет  Нет  Нет   Да  \n1  ...   Да   Да  Нет  Нет  Нет   Да  Нет   Да   Да  Нет  \n2  ...   Да   Да  Нет  Нет   Да  Нет  Нет   Да   Да  Нет  \n3  ...   Да  Нет   Да   Да  Нет  Нет  Нет   Да  Нет  Нет  \n4  ...   Да   Да  Нет  Нет   Да   Да   Да   Да   Да  Нет  \n\n[5 rows x 61 columns]",
      "text/html": "<div>\n<style scoped>\n    .dataframe tbody tr th:only-of-type {\n        vertical-align: middle;\n    }\n\n    .dataframe tbody tr th {\n        vertical-align: top;\n    }\n\n    .dataframe thead th {\n        text-align: right;\n    }\n</style>\n<table border=\"1\" class=\"dataframe\">\n  <thead>\n    <tr style=\"text-align: right;\">\n      <th></th>\n      <th>Unnamed: 0.1</th>\n      <th>Unnamed: 0</th>\n      <th>sex</th>\n      <th>volunteer</th>\n      <th>Q 1</th>\n      <th>Q 2</th>\n      <th>Q 3</th>\n      <th>Q 4</th>\n      <th>Q 5</th>\n      <th>Q 6</th>\n      <th>...</th>\n      <th>Q 48</th>\n      <th>Q 49</th>\n      <th>Q 50</th>\n      <th>Q 51</th>\n      <th>Q 52</th>\n      <th>Q 53</th>\n      <th>Q 54</th>\n      <th>Q 55</th>\n      <th>Q 56</th>\n      <th>Q 57</th>\n    </tr>\n  </thead>\n  <tbody>\n    <tr>\n      <th>0</th>\n      <td>0</td>\n      <td>1</td>\n      <td>Женский</td>\n      <td>Нет</td>\n      <td>Да</td>\n      <td>Нет</td>\n      <td>Нет</td>\n      <td>Да</td>\n      <td>Да</td>\n      <td>Да</td>\n      <td>...</td>\n      <td>Да</td>\n      <td>Нет</td>\n      <td>Нет</td>\n      <td>Да</td>\n      <td>Да</td>\n      <td>Нет</td>\n      <td>Нет</td>\n      <td>Нет</td>\n      <td>Нет</td>\n      <td>Да</td>\n    </tr>\n    <tr>\n      <th>1</th>\n      <td>1</td>\n      <td>2</td>\n      <td>Женский</td>\n      <td>Да</td>\n      <td>Да</td>\n      <td>Да</td>\n      <td>Нет</td>\n      <td>Да</td>\n      <td>Да</td>\n      <td>Да</td>\n      <td>...</td>\n      <td>Да</td>\n      <td>Да</td>\n      <td>Нет</td>\n      <td>Нет</td>\n      <td>Нет</td>\n      <td>Да</td>\n      <td>Нет</td>\n      <td>Да</td>\n      <td>Да</td>\n      <td>Нет</td>\n    </tr>\n    <tr>\n      <th>2</th>\n      <td>2</td>\n      <td>3</td>\n      <td>Женский</td>\n      <td>Да</td>\n      <td>Да</td>\n      <td>Да</td>\n      <td>Нет</td>\n      <td>Нет</td>\n      <td>Да</td>\n      <td>Да</td>\n      <td>...</td>\n      <td>Да</td>\n      <td>Да</td>\n      <td>Нет</td>\n      <td>Нет</td>\n      <td>Да</td>\n      <td>Нет</td>\n      <td>Нет</td>\n      <td>Да</td>\n      <td>Да</td>\n      <td>Нет</td>\n    </tr>\n    <tr>\n      <th>3</th>\n      <td>3</td>\n      <td>4</td>\n      <td>Женский</td>\n      <td>Нет</td>\n      <td>Да</td>\n      <td>Да</td>\n      <td>Нет</td>\n      <td>Нет</td>\n      <td>Да</td>\n      <td>Да</td>\n      <td>...</td>\n      <td>Да</td>\n      <td>Нет</td>\n      <td>Да</td>\n      <td>Да</td>\n      <td>Нет</td>\n      <td>Нет</td>\n      <td>Нет</td>\n      <td>Да</td>\n      <td>Нет</td>\n      <td>Нет</td>\n    </tr>\n    <tr>\n      <th>4</th>\n      <td>4</td>\n      <td>5</td>\n      <td>Женский</td>\n      <td>Нет</td>\n      <td>Да</td>\n      <td>Да</td>\n      <td>Нет</td>\n      <td>Да</td>\n      <td>Да</td>\n      <td>Да</td>\n      <td>...</td>\n      <td>Да</td>\n      <td>Да</td>\n      <td>Нет</td>\n      <td>Нет</td>\n      <td>Да</td>\n      <td>Да</td>\n      <td>Да</td>\n      <td>Да</td>\n      <td>Да</td>\n      <td>Нет</td>\n    </tr>\n  </tbody>\n</table>\n<p>5 rows × 61 columns</p>\n</div>"
     },
     "execution_count": 75,
     "metadata": {},
     "output_type": "execute_result"
    }
   ]
  },
  {
   "cell_type": "markdown",
   "metadata": {
    "id": "pX6jOfagrPn0",
    "colab_type": "text"
   },
   "source": [
    "### Задание 2\n",
    "\n",
    "Определить, сколько в датафрейме строк и столбцов. Привести код и указать ответ в виде текста или комментария к коду."
   ]
  },
  {
   "cell_type": "code",
   "metadata": {
    "id": "mfBZmgiPrPn1",
    "colab_type": "code",
    "colab": {}
   },
   "source": [
    "print(f'Rows: {ps.shape[0]}\\nColumns: {ps.shape[1]}')"
   ],
   "execution_count": 76,
   "outputs": [
    {
     "name": "stdout",
     "output_type": "stream",
     "text": [
      "Rows: 52\n",
      "Columns: 61\n"
     ]
    }
   ]
  },
  {
   "cell_type": "markdown",
   "metadata": {
    "id": "s2lazwhYrPn4",
    "colab_type": "text"
   },
   "source": [
    "### Задание 3\n",
    "\n",
    "Переименовать столбцы `Q 1`-`Q 57` в `Q1`-`Q57`, другими словами, убрать в названиях всех столбцов пробелы в середине (если есть). \n",
    "\n",
    "**Подсказка 1:** Метод `.replace()` для строк на [pythontutor.ru](https://pythontutor.ru/lessons/str/).\n",
    "\n",
    "**Подсказка 2:** Для выполнения этого задания можно написать функцию, которая будет заменять пробелы на «пустоту», а потом применить её с помощью функции `map()` ко всем элементам списка. Пример ниже иллюстрирует применение функции для изменения регистра текста."
   ]
  },
  {
   "cell_type": "code",
   "metadata": {
    "id": "2s4fVpufrPn5",
    "colab_type": "code",
    "colab": {},
    "outputId": "5642c90f-9aed-465e-b5d7-1a70aa01946e"
   },
   "source": [
    "# Пример\n",
    "\n",
    "L = ['яблоко', 'груша', 'слива']  # исходный список\n",
    "\n",
    "# функция принимает на вход строку x и возвращает её же,\n",
    "# но большими буквами – метод .upper()\n",
    "\n",
    "def f(x):\n",
    "    \"\"\"\n",
    "    Input: x is a string.\n",
    "    Output: x is a string.\n",
    "    Makes all letters uppercase.\n",
    "    \"\"\"\n",
    "    return x.upper()\n",
    "\n",
    "# результат: применяем функцию f к списку L через map и преобразуем в список\n",
    "# можно убрать list() вначале и убедиться, что он здесь нужен\n",
    "\n",
    "list(map(f, L))  "
   ],
   "execution_count": null,
   "outputs": [
    {
     "output_type": "execute_result",
     "data": {
      "text/plain": [
       "['ЯБЛОКО', 'ГРУША', 'СЛИВА']"
      ]
     },
     "metadata": {
      "tags": []
     },
     "execution_count": 2
    }
   ]
  },
  {
   "cell_type": "code",
   "metadata": {
    "id": "ykhvSZWdrPn7",
    "colab_type": "code",
    "colab": {}
   },
   "source": [
    "ps.columns = list(ps.columns[:4]) + list(map(lambda col: col.replace(' ', ''), ps.columns[4:]))\n",
    "ps.columns"
   ],
   "execution_count": 81,
   "outputs": [
    {
     "data": {
      "text/plain": "Index(['Unnamed: 0.1', 'Unnamed: 0', 'sex', 'volunteer', 'Q1', 'Q2', 'Q3',\n       'Q4', 'Q5', 'Q6', 'Q7', 'Q8', 'Q9', 'Q10', 'Q11', 'Q12', 'Q13', 'Q14',\n       'Q15', 'Q16', 'Q17', 'Q18', 'Q19', 'Q20', 'Q21', 'Q22', 'Q23', 'Q24',\n       'Q25', 'Q26', 'Q27', 'Q28', 'Q29', 'Q30', 'Q31', 'Q32', 'Q33', 'Q34',\n       'Q35', 'Q36', 'Q37', 'Q38', 'Q39', 'Q40', 'Q41', 'Q42', 'Q43', 'Q44',\n       'Q45', 'Q46', 'Q47', 'Q48', 'Q49', 'Q50', 'Q51', 'Q52', 'Q53', 'Q54',\n       'Q55', 'Q56', 'Q57'],\n      dtype='object')"
     },
     "execution_count": 81,
     "metadata": {},
     "output_type": "execute_result"
    }
   ]
  },
  {
   "cell_type": "markdown",
   "metadata": {
    "id": "mBKHqz_nrPn9",
    "colab_type": "text",
    "pycharm": {
     "name": "#%% md\n"
    }
   },
   "source": [
    "### Задание 4\n",
    "\n",
    "Выбрать столбцы `Q1`, `Q3`, `Q8`, `Q10`, `Q13`, `Q17`, `Q22`, `Q25`, `Q27`, `Q39`, `Q44`, `Q46`, `Q49`, `Q53`, `Q56` и сохранить их в отдельный датафрейм `extra_yes`. \n",
    "\n",
    "Выбрать столбцы `Q5`, `Q15`, `Q20`, `Q29`, `Q32`, `Q34`, `Q37`,`Q41`, `Q51` и сохранить их в отдельный датафрейм `extra_no`.\n",
    "\n",
    "Эти столбцы будут использоваться для вычисления индекса экстраверсии."
   ]
  },
  {
   "cell_type": "code",
   "metadata": {
    "id": "pBs51NxWrPn-",
    "colab_type": "code",
    "colab": {}
   },
   "source": [
    "extra_yes = ps[['Q1', 'Q3', 'Q8', 'Q10', 'Q13', 'Q17', 'Q22', 'Q25', 'Q27', 'Q39', 'Q44', 'Q46', 'Q49', 'Q53', 'Q56']]\n",
    "extra_yes.head()"
   ],
   "execution_count": 93,
   "outputs": [
    {
     "data": {
      "text/plain": "   Q1   Q3   Q8  Q10  Q13  Q17  Q22  Q25  Q27  Q39  Q44  Q46  Q49  Q53  Q56\n0  Да  Нет  Нет  Нет   Да  Нет  Нет  Нет   Да  Нет  Нет  Нет  Нет  Нет  Нет\n1  Да  Нет   Да   Да  Нет   Да  Нет   Да   Да   Да  Нет  Нет   Да   Да   Да\n2  Да  Нет  Нет  Нет  Нет   Да  Нет   Да   Да   Да   Да  Нет   Да  Нет   Да\n3  Да  Нет  Нет  Нет  Нет   Да  Нет  Нет  Нет  Нет  Нет  Нет  Нет  Нет  Нет\n4  Да  Нет  Нет  Нет   Да   Да  Нет   Да   Да  Нет  Нет   Да   Да   Да   Да",
      "text/html": "<div>\n<style scoped>\n    .dataframe tbody tr th:only-of-type {\n        vertical-align: middle;\n    }\n\n    .dataframe tbody tr th {\n        vertical-align: top;\n    }\n\n    .dataframe thead th {\n        text-align: right;\n    }\n</style>\n<table border=\"1\" class=\"dataframe\">\n  <thead>\n    <tr style=\"text-align: right;\">\n      <th></th>\n      <th>Q1</th>\n      <th>Q3</th>\n      <th>Q8</th>\n      <th>Q10</th>\n      <th>Q13</th>\n      <th>Q17</th>\n      <th>Q22</th>\n      <th>Q25</th>\n      <th>Q27</th>\n      <th>Q39</th>\n      <th>Q44</th>\n      <th>Q46</th>\n      <th>Q49</th>\n      <th>Q53</th>\n      <th>Q56</th>\n    </tr>\n  </thead>\n  <tbody>\n    <tr>\n      <th>0</th>\n      <td>Да</td>\n      <td>Нет</td>\n      <td>Нет</td>\n      <td>Нет</td>\n      <td>Да</td>\n      <td>Нет</td>\n      <td>Нет</td>\n      <td>Нет</td>\n      <td>Да</td>\n      <td>Нет</td>\n      <td>Нет</td>\n      <td>Нет</td>\n      <td>Нет</td>\n      <td>Нет</td>\n      <td>Нет</td>\n    </tr>\n    <tr>\n      <th>1</th>\n      <td>Да</td>\n      <td>Нет</td>\n      <td>Да</td>\n      <td>Да</td>\n      <td>Нет</td>\n      <td>Да</td>\n      <td>Нет</td>\n      <td>Да</td>\n      <td>Да</td>\n      <td>Да</td>\n      <td>Нет</td>\n      <td>Нет</td>\n      <td>Да</td>\n      <td>Да</td>\n      <td>Да</td>\n    </tr>\n    <tr>\n      <th>2</th>\n      <td>Да</td>\n      <td>Нет</td>\n      <td>Нет</td>\n      <td>Нет</td>\n      <td>Нет</td>\n      <td>Да</td>\n      <td>Нет</td>\n      <td>Да</td>\n      <td>Да</td>\n      <td>Да</td>\n      <td>Да</td>\n      <td>Нет</td>\n      <td>Да</td>\n      <td>Нет</td>\n      <td>Да</td>\n    </tr>\n    <tr>\n      <th>3</th>\n      <td>Да</td>\n      <td>Нет</td>\n      <td>Нет</td>\n      <td>Нет</td>\n      <td>Нет</td>\n      <td>Да</td>\n      <td>Нет</td>\n      <td>Нет</td>\n      <td>Нет</td>\n      <td>Нет</td>\n      <td>Нет</td>\n      <td>Нет</td>\n      <td>Нет</td>\n      <td>Нет</td>\n      <td>Нет</td>\n    </tr>\n    <tr>\n      <th>4</th>\n      <td>Да</td>\n      <td>Нет</td>\n      <td>Нет</td>\n      <td>Нет</td>\n      <td>Да</td>\n      <td>Да</td>\n      <td>Нет</td>\n      <td>Да</td>\n      <td>Да</td>\n      <td>Нет</td>\n      <td>Нет</td>\n      <td>Да</td>\n      <td>Да</td>\n      <td>Да</td>\n      <td>Да</td>\n    </tr>\n  </tbody>\n</table>\n</div>"
     },
     "execution_count": 93,
     "metadata": {},
     "output_type": "execute_result"
    }
   ]
  },
  {
   "cell_type": "code",
   "execution_count": 94,
   "outputs": [
    {
     "data": {
      "text/plain": "   Q5  Q15 Q20  Q29  Q32  Q34  Q37  Q41  Q51\n0  Да   Да  Да   Да   Да  Нет   Да  Нет   Да\n1  Да  Нет  Да  Нет  Нет   Да  Нет  Нет  Нет\n2  Да   Да  Да  Нет  Нет   Да  Нет  Нет  Нет\n3  Да  Нет  Да   Да   Да   Да   Да  Нет   Да\n4  Да  Нет  Да  Нет   Да   Да   Да  Нет  Нет",
      "text/html": "<div>\n<style scoped>\n    .dataframe tbody tr th:only-of-type {\n        vertical-align: middle;\n    }\n\n    .dataframe tbody tr th {\n        vertical-align: top;\n    }\n\n    .dataframe thead th {\n        text-align: right;\n    }\n</style>\n<table border=\"1\" class=\"dataframe\">\n  <thead>\n    <tr style=\"text-align: right;\">\n      <th></th>\n      <th>Q5</th>\n      <th>Q15</th>\n      <th>Q20</th>\n      <th>Q29</th>\n      <th>Q32</th>\n      <th>Q34</th>\n      <th>Q37</th>\n      <th>Q41</th>\n      <th>Q51</th>\n    </tr>\n  </thead>\n  <tbody>\n    <tr>\n      <th>0</th>\n      <td>Да</td>\n      <td>Да</td>\n      <td>Да</td>\n      <td>Да</td>\n      <td>Да</td>\n      <td>Нет</td>\n      <td>Да</td>\n      <td>Нет</td>\n      <td>Да</td>\n    </tr>\n    <tr>\n      <th>1</th>\n      <td>Да</td>\n      <td>Нет</td>\n      <td>Да</td>\n      <td>Нет</td>\n      <td>Нет</td>\n      <td>Да</td>\n      <td>Нет</td>\n      <td>Нет</td>\n      <td>Нет</td>\n    </tr>\n    <tr>\n      <th>2</th>\n      <td>Да</td>\n      <td>Да</td>\n      <td>Да</td>\n      <td>Нет</td>\n      <td>Нет</td>\n      <td>Да</td>\n      <td>Нет</td>\n      <td>Нет</td>\n      <td>Нет</td>\n    </tr>\n    <tr>\n      <th>3</th>\n      <td>Да</td>\n      <td>Нет</td>\n      <td>Да</td>\n      <td>Да</td>\n      <td>Да</td>\n      <td>Да</td>\n      <td>Да</td>\n      <td>Нет</td>\n      <td>Да</td>\n    </tr>\n    <tr>\n      <th>4</th>\n      <td>Да</td>\n      <td>Нет</td>\n      <td>Да</td>\n      <td>Нет</td>\n      <td>Да</td>\n      <td>Да</td>\n      <td>Да</td>\n      <td>Нет</td>\n      <td>Нет</td>\n    </tr>\n  </tbody>\n</table>\n</div>"
     },
     "execution_count": 94,
     "metadata": {},
     "output_type": "execute_result"
    }
   ],
   "source": [
    "extra_no = ps[['Q5', 'Q15', 'Q20', 'Q29', 'Q32', 'Q34', 'Q37','Q41', 'Q51']]\n",
    "extra_no.head()"
   ],
   "metadata": {
    "collapsed": false,
    "pycharm": {
     "name": "#%%\n"
    }
   }
  },
  {
   "cell_type": "markdown",
   "metadata": {
    "id": "w051Hsq2rPoA",
    "colab_type": "text"
   },
   "source": [
    "### Задание 5\n",
    "\n",
    "Посчитать для каждой строки в датафрейме `extra_yes` число ответов `\"Да\"` и полученный результат сохранить в переменную `extra_yes_sum`. Посчитать для каждой строки в датафрейме `extra_no` число ответов `\"Нет\"` и полученный результат сохранить в переменную `extra_no_sum`.\n",
    "\n",
    "**Подсказка 1:** метод `.isin()` для [датафреймов](https://pandas.pydata.org/pandas-docs/stable/reference/api/pandas.DataFrame.isin.html) `pandas`.\n",
    "\n",
    "**Подсказка 2:** метод `.sum()` для [датафреймов](https://pandas.pydata.org/pandas-docs/stable/reference/api/pandas.DataFrame.sum.html) `pandas`. "
   ]
  },
  {
   "cell_type": "code",
   "execution_count": 107,
   "outputs": [
    {
     "data": {
      "text/plain": "0     3\n1    10\n2     8\n3     2\n4     9\ndtype: int64"
     },
     "execution_count": 107,
     "metadata": {},
     "output_type": "execute_result"
    }
   ],
   "source": [
    "extra_yes_sum = extra_yes.isin(['Да']).sum(axis=1)\n",
    "extra_yes_sum.head()"
   ],
   "metadata": {
    "collapsed": false,
    "pycharm": {
     "name": "#%%\n"
    }
   }
  },
  {
   "cell_type": "code",
   "execution_count": 108,
   "outputs": [
    {
     "data": {
      "text/plain": "0    2\n1    6\n2    5\n3    2\n4    4\ndtype: int64"
     },
     "execution_count": 108,
     "metadata": {},
     "output_type": "execute_result"
    }
   ],
   "source": [
    "extra_no_sum = extra_no.isin(['Нет']).sum(axis=1)\n",
    "extra_no_sum.head()"
   ],
   "metadata": {
    "collapsed": false,
    "pycharm": {
     "name": "#%%\n"
    }
   }
  },
  {
   "cell_type": "markdown",
   "metadata": {
    "id": "BlvTatd9rPoD",
    "colab_type": "text"
   },
   "source": [
    "### Задание 6\n",
    "\n",
    "Добавить в исходный датафрейм столбец `extra`, который представляет собой индекс экстраверсии, который считается так: сумма числа ответов \"Да\" в `extra_yes` и числа ответов \"Нет\" в `extra_no`."
   ]
  },
  {
   "cell_type": "code",
   "metadata": {
    "id": "kRJBzjoPrPoD",
    "colab_type": "code",
    "colab": {}
   },
   "source": [
    "ps['extra'] = extra_yes_sum + extra_no_sum\n",
    "ps.head()"
   ],
   "execution_count": 109,
   "outputs": [
    {
     "data": {
      "text/plain": "   Unnamed: 0.1  Unnamed: 0      sex volunteer  Q1   Q2   Q3   Q4  Q5  Q6  \\\n0             0           1  Женский       Нет  Да  Нет  Нет   Да  Да  Да   \n1             1           2  Женский        Да  Да   Да  Нет   Да  Да  Да   \n2             2           3  Женский        Да  Да   Да  Нет  Нет  Да  Да   \n3             3           4  Женский       Нет  Да   Да  Нет  Нет  Да  Да   \n4             4           5  Женский       Нет  Да   Да  Нет   Да  Да  Да   \n\n   ...  Q50  Q51  Q52  Q53  Q54  Q55  Q56  Q57 extra female  \n0  ...  Нет   Да   Да  Нет  Нет  Нет  Нет   Да     5      1  \n1  ...  Нет  Нет  Нет   Да  Нет   Да   Да  Нет    16      1  \n2  ...  Нет  Нет   Да  Нет  Нет   Да   Да  Нет    13      1  \n3  ...   Да   Да  Нет  Нет  Нет   Да  Нет  Нет     4      1  \n4  ...  Нет  Нет   Да   Да   Да   Да   Да  Нет    13      1  \n\n[5 rows x 63 columns]",
      "text/html": "<div>\n<style scoped>\n    .dataframe tbody tr th:only-of-type {\n        vertical-align: middle;\n    }\n\n    .dataframe tbody tr th {\n        vertical-align: top;\n    }\n\n    .dataframe thead th {\n        text-align: right;\n    }\n</style>\n<table border=\"1\" class=\"dataframe\">\n  <thead>\n    <tr style=\"text-align: right;\">\n      <th></th>\n      <th>Unnamed: 0.1</th>\n      <th>Unnamed: 0</th>\n      <th>sex</th>\n      <th>volunteer</th>\n      <th>Q1</th>\n      <th>Q2</th>\n      <th>Q3</th>\n      <th>Q4</th>\n      <th>Q5</th>\n      <th>Q6</th>\n      <th>...</th>\n      <th>Q50</th>\n      <th>Q51</th>\n      <th>Q52</th>\n      <th>Q53</th>\n      <th>Q54</th>\n      <th>Q55</th>\n      <th>Q56</th>\n      <th>Q57</th>\n      <th>extra</th>\n      <th>female</th>\n    </tr>\n  </thead>\n  <tbody>\n    <tr>\n      <th>0</th>\n      <td>0</td>\n      <td>1</td>\n      <td>Женский</td>\n      <td>Нет</td>\n      <td>Да</td>\n      <td>Нет</td>\n      <td>Нет</td>\n      <td>Да</td>\n      <td>Да</td>\n      <td>Да</td>\n      <td>...</td>\n      <td>Нет</td>\n      <td>Да</td>\n      <td>Да</td>\n      <td>Нет</td>\n      <td>Нет</td>\n      <td>Нет</td>\n      <td>Нет</td>\n      <td>Да</td>\n      <td>5</td>\n      <td>1</td>\n    </tr>\n    <tr>\n      <th>1</th>\n      <td>1</td>\n      <td>2</td>\n      <td>Женский</td>\n      <td>Да</td>\n      <td>Да</td>\n      <td>Да</td>\n      <td>Нет</td>\n      <td>Да</td>\n      <td>Да</td>\n      <td>Да</td>\n      <td>...</td>\n      <td>Нет</td>\n      <td>Нет</td>\n      <td>Нет</td>\n      <td>Да</td>\n      <td>Нет</td>\n      <td>Да</td>\n      <td>Да</td>\n      <td>Нет</td>\n      <td>16</td>\n      <td>1</td>\n    </tr>\n    <tr>\n      <th>2</th>\n      <td>2</td>\n      <td>3</td>\n      <td>Женский</td>\n      <td>Да</td>\n      <td>Да</td>\n      <td>Да</td>\n      <td>Нет</td>\n      <td>Нет</td>\n      <td>Да</td>\n      <td>Да</td>\n      <td>...</td>\n      <td>Нет</td>\n      <td>Нет</td>\n      <td>Да</td>\n      <td>Нет</td>\n      <td>Нет</td>\n      <td>Да</td>\n      <td>Да</td>\n      <td>Нет</td>\n      <td>13</td>\n      <td>1</td>\n    </tr>\n    <tr>\n      <th>3</th>\n      <td>3</td>\n      <td>4</td>\n      <td>Женский</td>\n      <td>Нет</td>\n      <td>Да</td>\n      <td>Да</td>\n      <td>Нет</td>\n      <td>Нет</td>\n      <td>Да</td>\n      <td>Да</td>\n      <td>...</td>\n      <td>Да</td>\n      <td>Да</td>\n      <td>Нет</td>\n      <td>Нет</td>\n      <td>Нет</td>\n      <td>Да</td>\n      <td>Нет</td>\n      <td>Нет</td>\n      <td>4</td>\n      <td>1</td>\n    </tr>\n    <tr>\n      <th>4</th>\n      <td>4</td>\n      <td>5</td>\n      <td>Женский</td>\n      <td>Нет</td>\n      <td>Да</td>\n      <td>Да</td>\n      <td>Нет</td>\n      <td>Да</td>\n      <td>Да</td>\n      <td>Да</td>\n      <td>...</td>\n      <td>Нет</td>\n      <td>Нет</td>\n      <td>Да</td>\n      <td>Да</td>\n      <td>Да</td>\n      <td>Да</td>\n      <td>Да</td>\n      <td>Нет</td>\n      <td>13</td>\n      <td>1</td>\n    </tr>\n  </tbody>\n</table>\n<p>5 rows × 63 columns</p>\n</div>"
     },
     "execution_count": 109,
     "metadata": {},
     "output_type": "execute_result"
    }
   ]
  },
  {
   "cell_type": "markdown",
   "metadata": {
    "id": "sTaxQ5ydrPoF",
    "colab_type": "text"
   },
   "source": [
    "### Задание 7"
   ]
  },
  {
   "cell_type": "markdown",
   "metadata": {
    "id": "byt7Xgv3rPoF",
    "colab_type": "text"
   },
   "source": [
    "Добавить в исходный датафрейм столбец `female`, состоящий из значений 0 и 1 (0 — Мужской, 1 — Женский). \n",
    "\n",
    "**Подсказка:** возможно, пригодится метод `.astype()` для [Series](https://pandas.pydata.org/pandas-docs/version/0.23.4/generated/pandas.Series.astype.html) в `pandas`, он преобразует типы столбцов."
   ]
  },
  {
   "cell_type": "code",
   "metadata": {
    "id": "Dcei2X8ErPoG",
    "colab_type": "code",
    "colab": {}
   },
   "source": [
    "ps['female'] = (ps.sex == 'Женский').astype('int64')\n",
    "ps[['sex', 'female']]"
   ],
   "execution_count": 110,
   "outputs": [
    {
     "data": {
      "text/plain": "        sex  female\n0   Женский       1\n1   Женский       1\n2   Женский       1\n3   Женский       1\n4   Женский       1\n5   Женский       1\n6   Женский       1\n7   Женский       1\n8   Женский       1\n9   Женский       1\n10  Мужской       0\n11  Женский       1\n12  Женский       1\n13  Женский       1\n14  Женский       1\n15  Женский       1\n16  Женский       1\n17  Женский       1\n18  Женский       1\n19  Женский       1\n20  Женский       1\n21  Женский       1\n22  Женский       1\n23  Мужской       0\n24  Мужской       0\n25  Женский       1\n26  Женский       1\n27  Женский       1\n28  Женский       1\n29  Женский       1\n30  Женский       1\n31  Женский       1\n32  Женский       1\n33  Мужской       0\n34  Женский       1\n35  Женский       1\n36  Женский       1\n37  Женский       1\n38  Женский       1\n39  Женский       1\n40  Женский       1\n41  Женский       1\n42  Женский       1\n43  Женский       1\n44  Женский       1\n45  Женский       1\n46  Женский       1\n47  Женский       1\n48  Женский       1\n49  Женский       1\n50  Женский       1\n51  Женский       1",
      "text/html": "<div>\n<style scoped>\n    .dataframe tbody tr th:only-of-type {\n        vertical-align: middle;\n    }\n\n    .dataframe tbody tr th {\n        vertical-align: top;\n    }\n\n    .dataframe thead th {\n        text-align: right;\n    }\n</style>\n<table border=\"1\" class=\"dataframe\">\n  <thead>\n    <tr style=\"text-align: right;\">\n      <th></th>\n      <th>sex</th>\n      <th>female</th>\n    </tr>\n  </thead>\n  <tbody>\n    <tr>\n      <th>0</th>\n      <td>Женский</td>\n      <td>1</td>\n    </tr>\n    <tr>\n      <th>1</th>\n      <td>Женский</td>\n      <td>1</td>\n    </tr>\n    <tr>\n      <th>2</th>\n      <td>Женский</td>\n      <td>1</td>\n    </tr>\n    <tr>\n      <th>3</th>\n      <td>Женский</td>\n      <td>1</td>\n    </tr>\n    <tr>\n      <th>4</th>\n      <td>Женский</td>\n      <td>1</td>\n    </tr>\n    <tr>\n      <th>5</th>\n      <td>Женский</td>\n      <td>1</td>\n    </tr>\n    <tr>\n      <th>6</th>\n      <td>Женский</td>\n      <td>1</td>\n    </tr>\n    <tr>\n      <th>7</th>\n      <td>Женский</td>\n      <td>1</td>\n    </tr>\n    <tr>\n      <th>8</th>\n      <td>Женский</td>\n      <td>1</td>\n    </tr>\n    <tr>\n      <th>9</th>\n      <td>Женский</td>\n      <td>1</td>\n    </tr>\n    <tr>\n      <th>10</th>\n      <td>Мужской</td>\n      <td>0</td>\n    </tr>\n    <tr>\n      <th>11</th>\n      <td>Женский</td>\n      <td>1</td>\n    </tr>\n    <tr>\n      <th>12</th>\n      <td>Женский</td>\n      <td>1</td>\n    </tr>\n    <tr>\n      <th>13</th>\n      <td>Женский</td>\n      <td>1</td>\n    </tr>\n    <tr>\n      <th>14</th>\n      <td>Женский</td>\n      <td>1</td>\n    </tr>\n    <tr>\n      <th>15</th>\n      <td>Женский</td>\n      <td>1</td>\n    </tr>\n    <tr>\n      <th>16</th>\n      <td>Женский</td>\n      <td>1</td>\n    </tr>\n    <tr>\n      <th>17</th>\n      <td>Женский</td>\n      <td>1</td>\n    </tr>\n    <tr>\n      <th>18</th>\n      <td>Женский</td>\n      <td>1</td>\n    </tr>\n    <tr>\n      <th>19</th>\n      <td>Женский</td>\n      <td>1</td>\n    </tr>\n    <tr>\n      <th>20</th>\n      <td>Женский</td>\n      <td>1</td>\n    </tr>\n    <tr>\n      <th>21</th>\n      <td>Женский</td>\n      <td>1</td>\n    </tr>\n    <tr>\n      <th>22</th>\n      <td>Женский</td>\n      <td>1</td>\n    </tr>\n    <tr>\n      <th>23</th>\n      <td>Мужской</td>\n      <td>0</td>\n    </tr>\n    <tr>\n      <th>24</th>\n      <td>Мужской</td>\n      <td>0</td>\n    </tr>\n    <tr>\n      <th>25</th>\n      <td>Женский</td>\n      <td>1</td>\n    </tr>\n    <tr>\n      <th>26</th>\n      <td>Женский</td>\n      <td>1</td>\n    </tr>\n    <tr>\n      <th>27</th>\n      <td>Женский</td>\n      <td>1</td>\n    </tr>\n    <tr>\n      <th>28</th>\n      <td>Женский</td>\n      <td>1</td>\n    </tr>\n    <tr>\n      <th>29</th>\n      <td>Женский</td>\n      <td>1</td>\n    </tr>\n    <tr>\n      <th>30</th>\n      <td>Женский</td>\n      <td>1</td>\n    </tr>\n    <tr>\n      <th>31</th>\n      <td>Женский</td>\n      <td>1</td>\n    </tr>\n    <tr>\n      <th>32</th>\n      <td>Женский</td>\n      <td>1</td>\n    </tr>\n    <tr>\n      <th>33</th>\n      <td>Мужской</td>\n      <td>0</td>\n    </tr>\n    <tr>\n      <th>34</th>\n      <td>Женский</td>\n      <td>1</td>\n    </tr>\n    <tr>\n      <th>35</th>\n      <td>Женский</td>\n      <td>1</td>\n    </tr>\n    <tr>\n      <th>36</th>\n      <td>Женский</td>\n      <td>1</td>\n    </tr>\n    <tr>\n      <th>37</th>\n      <td>Женский</td>\n      <td>1</td>\n    </tr>\n    <tr>\n      <th>38</th>\n      <td>Женский</td>\n      <td>1</td>\n    </tr>\n    <tr>\n      <th>39</th>\n      <td>Женский</td>\n      <td>1</td>\n    </tr>\n    <tr>\n      <th>40</th>\n      <td>Женский</td>\n      <td>1</td>\n    </tr>\n    <tr>\n      <th>41</th>\n      <td>Женский</td>\n      <td>1</td>\n    </tr>\n    <tr>\n      <th>42</th>\n      <td>Женский</td>\n      <td>1</td>\n    </tr>\n    <tr>\n      <th>43</th>\n      <td>Женский</td>\n      <td>1</td>\n    </tr>\n    <tr>\n      <th>44</th>\n      <td>Женский</td>\n      <td>1</td>\n    </tr>\n    <tr>\n      <th>45</th>\n      <td>Женский</td>\n      <td>1</td>\n    </tr>\n    <tr>\n      <th>46</th>\n      <td>Женский</td>\n      <td>1</td>\n    </tr>\n    <tr>\n      <th>47</th>\n      <td>Женский</td>\n      <td>1</td>\n    </tr>\n    <tr>\n      <th>48</th>\n      <td>Женский</td>\n      <td>1</td>\n    </tr>\n    <tr>\n      <th>49</th>\n      <td>Женский</td>\n      <td>1</td>\n    </tr>\n    <tr>\n      <th>50</th>\n      <td>Женский</td>\n      <td>1</td>\n    </tr>\n    <tr>\n      <th>51</th>\n      <td>Женский</td>\n      <td>1</td>\n    </tr>\n  </tbody>\n</table>\n</div>"
     },
     "execution_count": 110,
     "metadata": {},
     "output_type": "execute_result"
    }
   ]
  },
  {
   "cell_type": "markdown",
   "metadata": {
    "id": "QpMX93eyrPoJ",
    "colab_type": "text"
   },
   "source": [
    "### Задание 8\n",
    "\n",
    "Выбрать из исходного датафрейма строки, которые соответствуют либо волонтёрам с индексом экстраверсии выше 15, либо не-волонтёрам с индексом экстраверсии ниже 15. Сохранить в датафрейм `pure`."
   ]
  },
  {
   "cell_type": "code",
   "metadata": {
    "id": "IpcX8c75rPoJ",
    "colab_type": "code",
    "colab": {}
   },
   "source": [
    "pure = ps[((ps.volunteer == 'Да') & (ps.extra > 15)) | ((ps.volunteer != 'Да') & (ps.extra < 15))]\n",
    "pure.head()"
   ],
   "execution_count": 112,
   "outputs": [
    {
     "data": {
      "text/plain": "   Unnamed: 0.1  Unnamed: 0      sex volunteer  Q1   Q2   Q3   Q4  Q5  Q6  \\\n0             0           1  Женский       Нет  Да  Нет  Нет   Да  Да  Да   \n1             1           2  Женский        Да  Да   Да  Нет   Да  Да  Да   \n3             3           4  Женский       Нет  Да   Да  Нет  Нет  Да  Да   \n4             4           5  Женский       Нет  Да   Да  Нет   Да  Да  Да   \n7             7           8  Женский        Да  Да   Да   Да  Нет  Да  Да   \n\n   ...  Q50  Q51  Q52  Q53  Q54  Q55  Q56  Q57 extra female  \n0  ...  Нет   Да   Да  Нет  Нет  Нет  Нет   Да     5      1  \n1  ...  Нет  Нет  Нет   Да  Нет   Да   Да  Нет    16      1  \n3  ...   Да   Да  Нет  Нет  Нет   Да  Нет  Нет     4      1  \n4  ...  Нет  Нет   Да   Да   Да   Да   Да  Нет    13      1  \n7  ...   Да  Нет   Да   Да   Да   Да   Да  Нет    21      1  \n\n[5 rows x 63 columns]",
      "text/html": "<div>\n<style scoped>\n    .dataframe tbody tr th:only-of-type {\n        vertical-align: middle;\n    }\n\n    .dataframe tbody tr th {\n        vertical-align: top;\n    }\n\n    .dataframe thead th {\n        text-align: right;\n    }\n</style>\n<table border=\"1\" class=\"dataframe\">\n  <thead>\n    <tr style=\"text-align: right;\">\n      <th></th>\n      <th>Unnamed: 0.1</th>\n      <th>Unnamed: 0</th>\n      <th>sex</th>\n      <th>volunteer</th>\n      <th>Q1</th>\n      <th>Q2</th>\n      <th>Q3</th>\n      <th>Q4</th>\n      <th>Q5</th>\n      <th>Q6</th>\n      <th>...</th>\n      <th>Q50</th>\n      <th>Q51</th>\n      <th>Q52</th>\n      <th>Q53</th>\n      <th>Q54</th>\n      <th>Q55</th>\n      <th>Q56</th>\n      <th>Q57</th>\n      <th>extra</th>\n      <th>female</th>\n    </tr>\n  </thead>\n  <tbody>\n    <tr>\n      <th>0</th>\n      <td>0</td>\n      <td>1</td>\n      <td>Женский</td>\n      <td>Нет</td>\n      <td>Да</td>\n      <td>Нет</td>\n      <td>Нет</td>\n      <td>Да</td>\n      <td>Да</td>\n      <td>Да</td>\n      <td>...</td>\n      <td>Нет</td>\n      <td>Да</td>\n      <td>Да</td>\n      <td>Нет</td>\n      <td>Нет</td>\n      <td>Нет</td>\n      <td>Нет</td>\n      <td>Да</td>\n      <td>5</td>\n      <td>1</td>\n    </tr>\n    <tr>\n      <th>1</th>\n      <td>1</td>\n      <td>2</td>\n      <td>Женский</td>\n      <td>Да</td>\n      <td>Да</td>\n      <td>Да</td>\n      <td>Нет</td>\n      <td>Да</td>\n      <td>Да</td>\n      <td>Да</td>\n      <td>...</td>\n      <td>Нет</td>\n      <td>Нет</td>\n      <td>Нет</td>\n      <td>Да</td>\n      <td>Нет</td>\n      <td>Да</td>\n      <td>Да</td>\n      <td>Нет</td>\n      <td>16</td>\n      <td>1</td>\n    </tr>\n    <tr>\n      <th>3</th>\n      <td>3</td>\n      <td>4</td>\n      <td>Женский</td>\n      <td>Нет</td>\n      <td>Да</td>\n      <td>Да</td>\n      <td>Нет</td>\n      <td>Нет</td>\n      <td>Да</td>\n      <td>Да</td>\n      <td>...</td>\n      <td>Да</td>\n      <td>Да</td>\n      <td>Нет</td>\n      <td>Нет</td>\n      <td>Нет</td>\n      <td>Да</td>\n      <td>Нет</td>\n      <td>Нет</td>\n      <td>4</td>\n      <td>1</td>\n    </tr>\n    <tr>\n      <th>4</th>\n      <td>4</td>\n      <td>5</td>\n      <td>Женский</td>\n      <td>Нет</td>\n      <td>Да</td>\n      <td>Да</td>\n      <td>Нет</td>\n      <td>Да</td>\n      <td>Да</td>\n      <td>Да</td>\n      <td>...</td>\n      <td>Нет</td>\n      <td>Нет</td>\n      <td>Да</td>\n      <td>Да</td>\n      <td>Да</td>\n      <td>Да</td>\n      <td>Да</td>\n      <td>Нет</td>\n      <td>13</td>\n      <td>1</td>\n    </tr>\n    <tr>\n      <th>7</th>\n      <td>7</td>\n      <td>8</td>\n      <td>Женский</td>\n      <td>Да</td>\n      <td>Да</td>\n      <td>Да</td>\n      <td>Да</td>\n      <td>Нет</td>\n      <td>Да</td>\n      <td>Да</td>\n      <td>...</td>\n      <td>Да</td>\n      <td>Нет</td>\n      <td>Да</td>\n      <td>Да</td>\n      <td>Да</td>\n      <td>Да</td>\n      <td>Да</td>\n      <td>Нет</td>\n      <td>21</td>\n      <td>1</td>\n    </tr>\n  </tbody>\n</table>\n<p>5 rows × 63 columns</p>\n</div>"
     },
     "execution_count": 112,
     "metadata": {},
     "output_type": "execute_result"
    }
   ]
  },
  {
   "cell_type": "markdown",
   "metadata": {
    "id": "bx3eYrHNrPoM",
    "colab_type": "text"
   },
   "source": [
    "### Задание 9\n",
    "\n",
    "Определить (любым способом, кроме явного подсчёта), сколько волонтёров и не-волонтёров в датафрейме `pure`."
   ]
  },
  {
   "cell_type": "code",
   "metadata": {
    "id": "EmHHO76urPoM",
    "colab_type": "code",
    "colab": {}
   },
   "source": [
    "pure.groupby('volunteer').size()"
   ],
   "execution_count": 121,
   "outputs": [
    {
     "data": {
      "text/plain": "volunteer\nДа      6\nНет    21\ndtype: int64"
     },
     "execution_count": 121,
     "metadata": {},
     "output_type": "execute_result"
    }
   ]
  },
  {
   "cell_type": "markdown",
   "metadata": {
    "id": "ZaFJACawrPoO",
    "colab_type": "text"
   },
   "source": [
    "### Задание 10\n",
    "\n",
    "Определить минимальное, максимальное, среднее и медианное значение индекса экстраверсии в датафрейме `pure`. Сохранить полученные результаты в отдельные переменные (их должно быть 4).\n",
    "\n",
    "Добавить в датафрейм `pure` столбец `high`, состоящий из 0 и 1, где 1 соответствует респондентам, уровень экстраверсии которых выше значения $m = \\max\\{\\text{median}, \\text{mean}\\}$, то есть максимума из медианного и среднего значения, а 0 — респондентам с уровнем экстраверсии не выше $m$."
   ]
  },
  {
   "cell_type": "code",
   "execution_count": 134,
   "outputs": [
    {
     "data": {
      "text/plain": "count    27.000000\nmean     11.222222\nstd       4.901596\nmin       2.000000\n25%       8.500000\n50%      11.000000\n75%      14.000000\nmax      21.000000\nName: extra, dtype: float64"
     },
     "execution_count": 134,
     "metadata": {},
     "output_type": "execute_result"
    }
   ],
   "source": [
    "pure.describe()['extra']"
   ],
   "metadata": {
    "collapsed": false,
    "pycharm": {
     "name": "#%%\n"
    }
   }
  },
  {
   "cell_type": "code",
   "metadata": {
    "id": "tejD-fLSrPoP",
    "colab_type": "code",
    "colab": {},
    "pycharm": {
     "name": "#%%\n"
    }
   },
   "source": [
    "min = pure.describe().loc['min', 'extra']\n",
    "max = pure.describe().loc['max', 'extra']\n",
    "mean = pure.describe().loc['mean', 'extra']\n",
    "median = pure.describe().loc['50%', 'extra']\n",
    "\n",
    "m = np.max([mean, median])"
   ],
   "execution_count": 133,
   "outputs": []
  },
  {
   "cell_type": "code",
   "execution_count": 136,
   "outputs": [
    {
     "name": "stderr",
     "output_type": "stream",
     "text": [
      "/var/folders/cj/7pbw4t016v72qg78txbzq1b40000gn/T/ipykernel_7765/872219538.py:1: SettingWithCopyWarning: \n",
      "A value is trying to be set on a copy of a slice from a DataFrame.\n",
      "Try using .loc[row_indexer,col_indexer] = value instead\n",
      "\n",
      "See the caveats in the documentation: https://pandas.pydata.org/pandas-docs/stable/user_guide/indexing.html#returning-a-view-versus-a-copy\n",
      "  pure['high'] = (pure.extra > m).astype(int)\n"
     ]
    },
    {
     "data": {
      "text/plain": "    extra  high\n0       5     0\n1      16     1\n3       4     0\n4      13     1\n7      21     1\n8      12     1\n9      19     1\n10      8     0\n11     17     1\n14      6     0\n16     14     1\n18     11     0\n19      9     0\n20     11     0\n23     17     1\n26     12     1\n29      3     0\n33      9     0\n34      9     0\n37      8     0\n38     10     0\n40     12     1\n43     10     0\n45     14     1\n47      2     0\n48     18     1\n50     13     1",
      "text/html": "<div>\n<style scoped>\n    .dataframe tbody tr th:only-of-type {\n        vertical-align: middle;\n    }\n\n    .dataframe tbody tr th {\n        vertical-align: top;\n    }\n\n    .dataframe thead th {\n        text-align: right;\n    }\n</style>\n<table border=\"1\" class=\"dataframe\">\n  <thead>\n    <tr style=\"text-align: right;\">\n      <th></th>\n      <th>extra</th>\n      <th>high</th>\n    </tr>\n  </thead>\n  <tbody>\n    <tr>\n      <th>0</th>\n      <td>5</td>\n      <td>0</td>\n    </tr>\n    <tr>\n      <th>1</th>\n      <td>16</td>\n      <td>1</td>\n    </tr>\n    <tr>\n      <th>3</th>\n      <td>4</td>\n      <td>0</td>\n    </tr>\n    <tr>\n      <th>4</th>\n      <td>13</td>\n      <td>1</td>\n    </tr>\n    <tr>\n      <th>7</th>\n      <td>21</td>\n      <td>1</td>\n    </tr>\n    <tr>\n      <th>8</th>\n      <td>12</td>\n      <td>1</td>\n    </tr>\n    <tr>\n      <th>9</th>\n      <td>19</td>\n      <td>1</td>\n    </tr>\n    <tr>\n      <th>10</th>\n      <td>8</td>\n      <td>0</td>\n    </tr>\n    <tr>\n      <th>11</th>\n      <td>17</td>\n      <td>1</td>\n    </tr>\n    <tr>\n      <th>14</th>\n      <td>6</td>\n      <td>0</td>\n    </tr>\n    <tr>\n      <th>16</th>\n      <td>14</td>\n      <td>1</td>\n    </tr>\n    <tr>\n      <th>18</th>\n      <td>11</td>\n      <td>0</td>\n    </tr>\n    <tr>\n      <th>19</th>\n      <td>9</td>\n      <td>0</td>\n    </tr>\n    <tr>\n      <th>20</th>\n      <td>11</td>\n      <td>0</td>\n    </tr>\n    <tr>\n      <th>23</th>\n      <td>17</td>\n      <td>1</td>\n    </tr>\n    <tr>\n      <th>26</th>\n      <td>12</td>\n      <td>1</td>\n    </tr>\n    <tr>\n      <th>29</th>\n      <td>3</td>\n      <td>0</td>\n    </tr>\n    <tr>\n      <th>33</th>\n      <td>9</td>\n      <td>0</td>\n    </tr>\n    <tr>\n      <th>34</th>\n      <td>9</td>\n      <td>0</td>\n    </tr>\n    <tr>\n      <th>37</th>\n      <td>8</td>\n      <td>0</td>\n    </tr>\n    <tr>\n      <th>38</th>\n      <td>10</td>\n      <td>0</td>\n    </tr>\n    <tr>\n      <th>40</th>\n      <td>12</td>\n      <td>1</td>\n    </tr>\n    <tr>\n      <th>43</th>\n      <td>10</td>\n      <td>0</td>\n    </tr>\n    <tr>\n      <th>45</th>\n      <td>14</td>\n      <td>1</td>\n    </tr>\n    <tr>\n      <th>47</th>\n      <td>2</td>\n      <td>0</td>\n    </tr>\n    <tr>\n      <th>48</th>\n      <td>18</td>\n      <td>1</td>\n    </tr>\n    <tr>\n      <th>50</th>\n      <td>13</td>\n      <td>1</td>\n    </tr>\n  </tbody>\n</table>\n</div>"
     },
     "execution_count": 136,
     "metadata": {},
     "output_type": "execute_result"
    }
   ],
   "source": [
    "pure['high'] = (pure.extra > m).astype(int)\n",
    "pure[['extra', 'high']]"
   ],
   "metadata": {
    "collapsed": false,
    "pycharm": {
     "name": "#%%\n"
    }
   }
  }
 ]
}