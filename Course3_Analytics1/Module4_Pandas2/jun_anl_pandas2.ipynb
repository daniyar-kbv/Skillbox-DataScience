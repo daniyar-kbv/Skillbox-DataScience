{
 "nbformat": 4,
 "nbformat_minor": 0,
 "metadata": {
  "kernelspec": {
   "display_name": "Python 3",
   "language": "python",
   "name": "python3"
  },
  "language_info": {
   "codemirror_mode": {
    "name": "ipython",
    "version": 3
   },
   "file_extension": ".py",
   "mimetype": "text/x-python",
   "name": "python",
   "nbconvert_exporter": "python",
   "pygments_lexer": "ipython3",
   "version": "3.6.3"
  },
  "colab": {
   "name": "jun_anl_pandas2.ipynb",
   "provenance": [],
   "collapsed_sections": []
  }
 },
 "cells": [
  {
   "cell_type": "markdown",
   "metadata": {
    "id": "IRzgxJDujF9X",
    "colab_type": "text"
   },
   "source": [
    "# Библиотека `pandas`: часть 2\n",
    "\n",
    "*Алла Тамбовцева*\n",
    "\n",
    "## Домашнее задание \n",
    "\n",
    "### Описание домашнего задания и формат сдачи\n",
    "\n",
    "В домашнем задании необходимо решить предложенные задачи по программированию – вписать свой код в ячейки после условий задач вместо комментария `### YOUR CODE HERE ###` в файле *homework-pandas2.ipynb* и сохранить изменения, используя опцию *Save and Checkpoint* из вкладки меню *File* или кнопку *Save and Checkpoint* на панели инструментов. Итоговый файл в формате `.ipynb` (файл Jupyter Notebook) необходимо загрузить в личный кабинет обучающей онлайн платформы Skillbox (https://go.skillbox.ru/) и отправить на проверку."
   ]
  },
  {
   "cell_type": "markdown",
   "metadata": {
    "id": "y_pBPl8ajF9k",
    "colab_type": "text"
   },
   "source": [
    "Файл `Fishing.csv` содержит результаты опроса о рыбалке: респонденты, заполняя опросник, подробно описывали свою недавнюю рыбалку.\n",
    "\n",
    "**Описание переменных в датафрейме:**\n",
    "\n",
    "\n",
    "* `mode`: выбранный тип рыбалки: на берегу (`beach`), на пирсе (`pier`), в своей лодке (`boat`) и в арендованной лодке (`charter`);\n",
    "\n",
    "* `price`: стоимость выбранного типа рыбалки;\n",
    "\n",
    "* `catch`: коэффициент улова при выбранном типе рыбалки;\n",
    "\n",
    "* `pbeach`: стоимость рыбалки на берегу;\n",
    "\n",
    "* `ppier`: стоимость рыбалки на пирсе;\n",
    "\n",
    "* `pboat`: стоимость рыбалки на своей лодке;\n",
    "\n",
    "* `pcharter`: стоимость рыбалки на арендованной лодке;\n",
    "\n",
    "* `cbeach`: коэффициент улова на рыбалке на берегу;\n",
    "\n",
    "* `cpier`: коэффициент улова на рыбалке на пирсе;\n",
    "\n",
    "* `cboat`: коэффициент улова на рыбалке на своей лодке;\n",
    "\n",
    "* `ccharter`: коэффициент улова на рыбалке на арендованной лодке;\n",
    "\n",
    "* `income`: доход в месяц.\n",
    "\n",
    "Подробнее об опросе и исследовании можно почитать в [статье](https://core.ac.uk/download/pdf/38934845.pdf) J.Herriges, C.Kling *\"Nonlinear Income Effects in Random Utility Models\"* (1999)."
   ]
  },
  {
   "cell_type": "markdown",
   "metadata": {
    "id": "S3vpJhOfjF9o",
    "colab_type": "text"
   },
   "source": [
    "### Задание 1\n",
    "\n",
    "Загрузить таблицу из файла `Fishing.csv` и сохранить её в датафрейм `dat`. \n",
    "Вывести на экран первые 8 строк загруженного датафрейма."
   ]
  },
  {
   "cell_type": "code",
   "execution_count": 2,
   "outputs": [],
   "source": [
    "import pandas as pd\n",
    "import numpy as np"
   ],
   "metadata": {
    "collapsed": false,
    "pycharm": {
     "name": "#%%\n"
    }
   }
  },
  {
   "cell_type": "code",
   "metadata": {
    "id": "i5C7RZxOjF9u",
    "colab_type": "code",
    "colab": {}
   },
   "source": [
    "df = pd.read_csv('Fishing.csv')\n",
    "df.head(8)"
   ],
   "execution_count": 3,
   "outputs": [
    {
     "data": {
      "text/plain": "   Unnamed: 0.1  Unnamed: 0     mode    price   catch   pbeach    ppier  \\\n0             0           1  charter  182.930  0.5391  157.930  157.930   \n1             1           2  charter   34.534  0.4671   15.114   15.114   \n2             2           3     boat   24.334  0.2413  161.874  161.874   \n3             3           4     pier   15.134  0.0789   15.134   15.134   \n4             4           5     boat   41.514  0.1082  106.930  106.930   \n5             5           6  charter   63.934  0.3975  192.474  192.474   \n6             6           7    beach   51.934  0.0678   51.934   51.934   \n7             7           8  charter   56.714  0.0209   15.134   15.134   \n\n     pboat  pcharter  cbeach   cpier   cboat  ccharter     income  \n0  157.930   182.930  0.0678  0.0503  0.2601    0.5391  7083.3317  \n1   10.534    34.534  0.1049  0.0451  0.1574    0.4671  1249.9998  \n2   24.334    59.334  0.5333  0.4522  0.2413    1.0266  3749.9999  \n3   55.930    84.930  0.0678  0.0789  0.1643    0.5391  2083.3332  \n4   41.514    71.014  0.0678  0.0503  0.1082    0.3240  4583.3320  \n5   28.934    63.934  0.5333  0.4522  0.1665    0.3975  4583.3320  \n6  191.930   220.930  0.0678  0.0789  0.1643    0.5391  8750.0010  \n7   21.714    56.714  0.0678  0.0789  0.0102    0.0209  2083.3332  ",
      "text/html": "<div>\n<style scoped>\n    .dataframe tbody tr th:only-of-type {\n        vertical-align: middle;\n    }\n\n    .dataframe tbody tr th {\n        vertical-align: top;\n    }\n\n    .dataframe thead th {\n        text-align: right;\n    }\n</style>\n<table border=\"1\" class=\"dataframe\">\n  <thead>\n    <tr style=\"text-align: right;\">\n      <th></th>\n      <th>Unnamed: 0.1</th>\n      <th>Unnamed: 0</th>\n      <th>mode</th>\n      <th>price</th>\n      <th>catch</th>\n      <th>pbeach</th>\n      <th>ppier</th>\n      <th>pboat</th>\n      <th>pcharter</th>\n      <th>cbeach</th>\n      <th>cpier</th>\n      <th>cboat</th>\n      <th>ccharter</th>\n      <th>income</th>\n    </tr>\n  </thead>\n  <tbody>\n    <tr>\n      <th>0</th>\n      <td>0</td>\n      <td>1</td>\n      <td>charter</td>\n      <td>182.930</td>\n      <td>0.5391</td>\n      <td>157.930</td>\n      <td>157.930</td>\n      <td>157.930</td>\n      <td>182.930</td>\n      <td>0.0678</td>\n      <td>0.0503</td>\n      <td>0.2601</td>\n      <td>0.5391</td>\n      <td>7083.3317</td>\n    </tr>\n    <tr>\n      <th>1</th>\n      <td>1</td>\n      <td>2</td>\n      <td>charter</td>\n      <td>34.534</td>\n      <td>0.4671</td>\n      <td>15.114</td>\n      <td>15.114</td>\n      <td>10.534</td>\n      <td>34.534</td>\n      <td>0.1049</td>\n      <td>0.0451</td>\n      <td>0.1574</td>\n      <td>0.4671</td>\n      <td>1249.9998</td>\n    </tr>\n    <tr>\n      <th>2</th>\n      <td>2</td>\n      <td>3</td>\n      <td>boat</td>\n      <td>24.334</td>\n      <td>0.2413</td>\n      <td>161.874</td>\n      <td>161.874</td>\n      <td>24.334</td>\n      <td>59.334</td>\n      <td>0.5333</td>\n      <td>0.4522</td>\n      <td>0.2413</td>\n      <td>1.0266</td>\n      <td>3749.9999</td>\n    </tr>\n    <tr>\n      <th>3</th>\n      <td>3</td>\n      <td>4</td>\n      <td>pier</td>\n      <td>15.134</td>\n      <td>0.0789</td>\n      <td>15.134</td>\n      <td>15.134</td>\n      <td>55.930</td>\n      <td>84.930</td>\n      <td>0.0678</td>\n      <td>0.0789</td>\n      <td>0.1643</td>\n      <td>0.5391</td>\n      <td>2083.3332</td>\n    </tr>\n    <tr>\n      <th>4</th>\n      <td>4</td>\n      <td>5</td>\n      <td>boat</td>\n      <td>41.514</td>\n      <td>0.1082</td>\n      <td>106.930</td>\n      <td>106.930</td>\n      <td>41.514</td>\n      <td>71.014</td>\n      <td>0.0678</td>\n      <td>0.0503</td>\n      <td>0.1082</td>\n      <td>0.3240</td>\n      <td>4583.3320</td>\n    </tr>\n    <tr>\n      <th>5</th>\n      <td>5</td>\n      <td>6</td>\n      <td>charter</td>\n      <td>63.934</td>\n      <td>0.3975</td>\n      <td>192.474</td>\n      <td>192.474</td>\n      <td>28.934</td>\n      <td>63.934</td>\n      <td>0.5333</td>\n      <td>0.4522</td>\n      <td>0.1665</td>\n      <td>0.3975</td>\n      <td>4583.3320</td>\n    </tr>\n    <tr>\n      <th>6</th>\n      <td>6</td>\n      <td>7</td>\n      <td>beach</td>\n      <td>51.934</td>\n      <td>0.0678</td>\n      <td>51.934</td>\n      <td>51.934</td>\n      <td>191.930</td>\n      <td>220.930</td>\n      <td>0.0678</td>\n      <td>0.0789</td>\n      <td>0.1643</td>\n      <td>0.5391</td>\n      <td>8750.0010</td>\n    </tr>\n    <tr>\n      <th>7</th>\n      <td>7</td>\n      <td>8</td>\n      <td>charter</td>\n      <td>56.714</td>\n      <td>0.0209</td>\n      <td>15.134</td>\n      <td>15.134</td>\n      <td>21.714</td>\n      <td>56.714</td>\n      <td>0.0678</td>\n      <td>0.0789</td>\n      <td>0.0102</td>\n      <td>0.0209</td>\n      <td>2083.3332</td>\n    </tr>\n  </tbody>\n</table>\n</div>"
     },
     "execution_count": 3,
     "metadata": {},
     "output_type": "execute_result"
    }
   ]
  },
  {
   "cell_type": "markdown",
   "metadata": {
    "id": "x6MuTfpUjF-F",
    "colab_type": "text"
   },
   "source": [
    "### Задание 2\n",
    "\n",
    "Добавить, используя метод `.apply()`, столбец `log_income`, содержащий натуральный логарифм доходов респондентов."
   ]
  },
  {
   "cell_type": "code",
   "metadata": {
    "id": "L091ksP8jF-K",
    "colab_type": "code",
    "colab": {}
   },
   "source": [
    "df['log_income'] = df.income.apply(np.log)\n",
    "df.head()"
   ],
   "execution_count": 4,
   "outputs": [
    {
     "data": {
      "text/plain": "   Unnamed: 0.1  Unnamed: 0     mode    price   catch   pbeach    ppier  \\\n0             0           1  charter  182.930  0.5391  157.930  157.930   \n1             1           2  charter   34.534  0.4671   15.114   15.114   \n2             2           3     boat   24.334  0.2413  161.874  161.874   \n3             3           4     pier   15.134  0.0789   15.134   15.134   \n4             4           5     boat   41.514  0.1082  106.930  106.930   \n\n     pboat  pcharter  cbeach   cpier   cboat  ccharter     income  log_income  \n0  157.930   182.930  0.0678  0.0503  0.2601    0.5391  7083.3317    8.865500  \n1   10.534    34.534  0.1049  0.0451  0.1574    0.4671  1249.9998    7.130899  \n2   24.334    59.334  0.5333  0.4522  0.2413    1.0266  3749.9999    8.229511  \n3   55.930    84.930  0.0678  0.0789  0.1643    0.5391  2083.3332    7.641724  \n4   41.514    71.014  0.0678  0.0503  0.1082    0.3240  4583.3320    8.430182  ",
      "text/html": "<div>\n<style scoped>\n    .dataframe tbody tr th:only-of-type {\n        vertical-align: middle;\n    }\n\n    .dataframe tbody tr th {\n        vertical-align: top;\n    }\n\n    .dataframe thead th {\n        text-align: right;\n    }\n</style>\n<table border=\"1\" class=\"dataframe\">\n  <thead>\n    <tr style=\"text-align: right;\">\n      <th></th>\n      <th>Unnamed: 0.1</th>\n      <th>Unnamed: 0</th>\n      <th>mode</th>\n      <th>price</th>\n      <th>catch</th>\n      <th>pbeach</th>\n      <th>ppier</th>\n      <th>pboat</th>\n      <th>pcharter</th>\n      <th>cbeach</th>\n      <th>cpier</th>\n      <th>cboat</th>\n      <th>ccharter</th>\n      <th>income</th>\n      <th>log_income</th>\n    </tr>\n  </thead>\n  <tbody>\n    <tr>\n      <th>0</th>\n      <td>0</td>\n      <td>1</td>\n      <td>charter</td>\n      <td>182.930</td>\n      <td>0.5391</td>\n      <td>157.930</td>\n      <td>157.930</td>\n      <td>157.930</td>\n      <td>182.930</td>\n      <td>0.0678</td>\n      <td>0.0503</td>\n      <td>0.2601</td>\n      <td>0.5391</td>\n      <td>7083.3317</td>\n      <td>8.865500</td>\n    </tr>\n    <tr>\n      <th>1</th>\n      <td>1</td>\n      <td>2</td>\n      <td>charter</td>\n      <td>34.534</td>\n      <td>0.4671</td>\n      <td>15.114</td>\n      <td>15.114</td>\n      <td>10.534</td>\n      <td>34.534</td>\n      <td>0.1049</td>\n      <td>0.0451</td>\n      <td>0.1574</td>\n      <td>0.4671</td>\n      <td>1249.9998</td>\n      <td>7.130899</td>\n    </tr>\n    <tr>\n      <th>2</th>\n      <td>2</td>\n      <td>3</td>\n      <td>boat</td>\n      <td>24.334</td>\n      <td>0.2413</td>\n      <td>161.874</td>\n      <td>161.874</td>\n      <td>24.334</td>\n      <td>59.334</td>\n      <td>0.5333</td>\n      <td>0.4522</td>\n      <td>0.2413</td>\n      <td>1.0266</td>\n      <td>3749.9999</td>\n      <td>8.229511</td>\n    </tr>\n    <tr>\n      <th>3</th>\n      <td>3</td>\n      <td>4</td>\n      <td>pier</td>\n      <td>15.134</td>\n      <td>0.0789</td>\n      <td>15.134</td>\n      <td>15.134</td>\n      <td>55.930</td>\n      <td>84.930</td>\n      <td>0.0678</td>\n      <td>0.0789</td>\n      <td>0.1643</td>\n      <td>0.5391</td>\n      <td>2083.3332</td>\n      <td>7.641724</td>\n    </tr>\n    <tr>\n      <th>4</th>\n      <td>4</td>\n      <td>5</td>\n      <td>boat</td>\n      <td>41.514</td>\n      <td>0.1082</td>\n      <td>106.930</td>\n      <td>106.930</td>\n      <td>41.514</td>\n      <td>71.014</td>\n      <td>0.0678</td>\n      <td>0.0503</td>\n      <td>0.1082</td>\n      <td>0.3240</td>\n      <td>4583.3320</td>\n      <td>8.430182</td>\n    </tr>\n  </tbody>\n</table>\n</div>"
     },
     "execution_count": 4,
     "metadata": {},
     "output_type": "execute_result"
    }
   ]
  },
  {
   "cell_type": "markdown",
   "metadata": {
    "id": "OEX7QOpHjF-V",
    "colab_type": "text"
   },
   "source": [
    "### Задание 3\n",
    "\n",
    "Посчитать для каждого респондента абсолютное значение отклонения `price` от `pbeach`  и сохранить результат в столбец `pdiff`.\n",
    "\n",
    "***Подсказка 1:*** для нахождения абсолютного значения числа используется функция `abs()`. Пример:\n",
    "\n",
    "    abs(-8)\n",
    "    8\n",
    "\n",
    "***Подсказка 2:*** пример с lamda-функцией в первом уроке этого модуля."
   ]
  },
  {
   "cell_type": "code",
   "execution_count": 17,
   "outputs": [
    {
     "data": {
      "text/plain": "   Unnamed: 0.1  Unnamed: 0     mode    price   catch   pbeach    ppier  \\\n0             0           1  charter  182.930  0.5391  157.930  157.930   \n1             1           2  charter   34.534  0.4671   15.114   15.114   \n2             2           3     boat   24.334  0.2413  161.874  161.874   \n3             3           4     pier   15.134  0.0789   15.134   15.134   \n4             4           5     boat   41.514  0.1082  106.930  106.930   \n\n     pboat  pcharter  cbeach   cpier   cboat  ccharter     income  log_income  \\\n0  157.930   182.930  0.0678  0.0503  0.2601    0.5391  7083.3317    8.865500   \n1   10.534    34.534  0.1049  0.0451  0.1574    0.4671  1249.9998    7.130899   \n2   24.334    59.334  0.5333  0.4522  0.2413    1.0266  3749.9999    8.229511   \n3   55.930    84.930  0.0678  0.0789  0.1643    0.5391  2083.3332    7.641724   \n4   41.514    71.014  0.0678  0.0503  0.1082    0.3240  4583.3320    8.430182   \n\n     pdiff  \n0   25.000  \n1   19.420  \n2  137.540  \n3    0.000  \n4   65.416  ",
      "text/html": "<div>\n<style scoped>\n    .dataframe tbody tr th:only-of-type {\n        vertical-align: middle;\n    }\n\n    .dataframe tbody tr th {\n        vertical-align: top;\n    }\n\n    .dataframe thead th {\n        text-align: right;\n    }\n</style>\n<table border=\"1\" class=\"dataframe\">\n  <thead>\n    <tr style=\"text-align: right;\">\n      <th></th>\n      <th>Unnamed: 0.1</th>\n      <th>Unnamed: 0</th>\n      <th>mode</th>\n      <th>price</th>\n      <th>catch</th>\n      <th>pbeach</th>\n      <th>ppier</th>\n      <th>pboat</th>\n      <th>pcharter</th>\n      <th>cbeach</th>\n      <th>cpier</th>\n      <th>cboat</th>\n      <th>ccharter</th>\n      <th>income</th>\n      <th>log_income</th>\n      <th>pdiff</th>\n    </tr>\n  </thead>\n  <tbody>\n    <tr>\n      <th>0</th>\n      <td>0</td>\n      <td>1</td>\n      <td>charter</td>\n      <td>182.930</td>\n      <td>0.5391</td>\n      <td>157.930</td>\n      <td>157.930</td>\n      <td>157.930</td>\n      <td>182.930</td>\n      <td>0.0678</td>\n      <td>0.0503</td>\n      <td>0.2601</td>\n      <td>0.5391</td>\n      <td>7083.3317</td>\n      <td>8.865500</td>\n      <td>25.000</td>\n    </tr>\n    <tr>\n      <th>1</th>\n      <td>1</td>\n      <td>2</td>\n      <td>charter</td>\n      <td>34.534</td>\n      <td>0.4671</td>\n      <td>15.114</td>\n      <td>15.114</td>\n      <td>10.534</td>\n      <td>34.534</td>\n      <td>0.1049</td>\n      <td>0.0451</td>\n      <td>0.1574</td>\n      <td>0.4671</td>\n      <td>1249.9998</td>\n      <td>7.130899</td>\n      <td>19.420</td>\n    </tr>\n    <tr>\n      <th>2</th>\n      <td>2</td>\n      <td>3</td>\n      <td>boat</td>\n      <td>24.334</td>\n      <td>0.2413</td>\n      <td>161.874</td>\n      <td>161.874</td>\n      <td>24.334</td>\n      <td>59.334</td>\n      <td>0.5333</td>\n      <td>0.4522</td>\n      <td>0.2413</td>\n      <td>1.0266</td>\n      <td>3749.9999</td>\n      <td>8.229511</td>\n      <td>137.540</td>\n    </tr>\n    <tr>\n      <th>3</th>\n      <td>3</td>\n      <td>4</td>\n      <td>pier</td>\n      <td>15.134</td>\n      <td>0.0789</td>\n      <td>15.134</td>\n      <td>15.134</td>\n      <td>55.930</td>\n      <td>84.930</td>\n      <td>0.0678</td>\n      <td>0.0789</td>\n      <td>0.1643</td>\n      <td>0.5391</td>\n      <td>2083.3332</td>\n      <td>7.641724</td>\n      <td>0.000</td>\n    </tr>\n    <tr>\n      <th>4</th>\n      <td>4</td>\n      <td>5</td>\n      <td>boat</td>\n      <td>41.514</td>\n      <td>0.1082</td>\n      <td>106.930</td>\n      <td>106.930</td>\n      <td>41.514</td>\n      <td>71.014</td>\n      <td>0.0678</td>\n      <td>0.0503</td>\n      <td>0.1082</td>\n      <td>0.3240</td>\n      <td>4583.3320</td>\n      <td>8.430182</td>\n      <td>65.416</td>\n    </tr>\n  </tbody>\n</table>\n</div>"
     },
     "execution_count": 17,
     "metadata": {},
     "output_type": "execute_result"
    }
   ],
   "source": [
    "df['pdiff'] = np.abs(df.price - df.pbeach)\n",
    "df.head()"
   ],
   "metadata": {
    "collapsed": false,
    "pycharm": {
     "name": "#%%\n"
    }
   }
  },
  {
   "cell_type": "markdown",
   "metadata": {
    "id": "u15HSI6SjF-f",
    "colab_type": "text"
   },
   "source": [
    "### Задание 4\n",
    "\n",
    "Сгруппировать наблюдения в таблице по признаку тип рыбалки (`mode`) и вывести для каждого типа среднюю цену (`price`), которую респонденты заплатили за рыбалку."
   ]
  },
  {
   "cell_type": "code",
   "metadata": {
    "id": "o2J6et18jF-j",
    "colab_type": "code",
    "colab": {}
   },
   "source": [
    "df.groupby('mode').price.mean()"
   ],
   "execution_count": 18,
   "outputs": [
    {
     "data": {
      "text/plain": "mode\nbeach      35.699493\nboat       41.606813\ncharter    75.096942\npier       30.571326\nName: price, dtype: float64"
     },
     "execution_count": 18,
     "metadata": {},
     "output_type": "execute_result"
    }
   ]
  },
  {
   "cell_type": "markdown",
   "metadata": {
    "id": "KxeyzFlDjF-s",
    "colab_type": "text"
   },
   "source": [
    "### Задание 5\n",
    "\n",
    "Сгруппировать наблюдения в таблице по признаку тип рыбалки (`mode`) и вывести для каждого типа разницу между медианным и средним значением цены (`price`), которую респонденты заплатили за рыбалку.\n",
    "\n",
    "**Посказка:** можно написать свою lambda-функцию для подсчёта разницы между медианой и средним и применить её внутри метода для агрегирования. Внимание: название самостоятельно написанной функции будет уже вводиться без кавычек. "
   ]
  },
  {
   "cell_type": "code",
   "metadata": {
    "id": "oBhzhp9AjF-u",
    "colab_type": "code",
    "colab": {}
   },
   "source": [
    "df.groupby('mode').agg(lambda x: np.abs(np.mean(x) - np.median(x))).price"
   ],
   "execution_count": 33,
   "outputs": [
    {
     "data": {
      "text/plain": "mode\nbeach      16.391493\nboat       17.004813\ncharter    18.226942\npier       13.942326\nName: price, dtype: float64"
     },
     "execution_count": 33,
     "metadata": {},
     "output_type": "execute_result"
    }
   ]
  },
  {
   "cell_type": "markdown",
   "metadata": {
    "id": "I5xSKReCjF-3",
    "colab_type": "text"
   },
   "source": [
    "### Задание 6\n",
    "\n",
    "Сгруппировать наблюдения в таблице по признаку тип рыбалки (`mode`) и сохранить полученные датафреймы (один для каждого типа рыбалки) в отдельные csv-файлы. В итоге должно получиться четыре разных csv-файла.\n",
    "\n",
    "**Подсказка 1:** можно запустить следующий код и посмотреть, что получится: "
   ]
  },
  {
   "cell_type": "code",
   "metadata": {
    "id": "HmIG6WIejF-6",
    "colab_type": "code",
    "colab": {}
   },
   "source": [
    "for name, data in df.groupby(\"mode\"):\n",
    "    print(name, data)"
   ],
   "execution_count": 41,
   "outputs": []
  },
  {
   "cell_type": "markdown",
   "metadata": {
    "id": "XOv77OsdjF_B",
    "colab_type": "text"
   },
   "source": [
    "**Подсказка 2:** для сохранения датафрейма в файл используется метод `.to_csv()`. Например, такой код сохранит датафрейм `dat` в файл `\"Fish.csv\"`:"
   ]
  },
  {
   "cell_type": "code",
   "metadata": {
    "id": "Pqu3iSoUjF_E",
    "colab_type": "code",
    "colab": {}
   },
   "source": [
    "df.to_csv(\"Fish.csv\")"
   ],
   "execution_count": 0,
   "outputs": []
  },
  {
   "cell_type": "markdown",
   "metadata": {
    "id": "oqHSgJF1jF_K",
    "colab_type": "text"
   },
   "source": [
    "**Подсказка 3:** для склеивания строк можно использовать оператор `+`, например:"
   ]
  },
  {
   "cell_type": "code",
   "metadata": {
    "id": "5q4QrwSjjF_M",
    "colab_type": "code",
    "colab": {},
    "outputId": "4cefdb62-1fd9-4983-e5b6-932a4dbd4f35"
   },
   "source": [
    "\"my_file\" + \".xlsx\""
   ],
   "execution_count": 0,
   "outputs": [
    {
     "output_type": "execute_result",
     "data": {
      "text/plain": [
       "'my_file.xlsx'"
      ]
     },
     "metadata": {
      "tags": []
     },
     "execution_count": 1
    }
   ]
  },
  {
   "cell_type": "code",
   "metadata": {
    "id": "-fNqxf6WjF_V",
    "colab_type": "code",
    "colab": {}
   },
   "source": [
    "for name, data in df.groupby(\"mode\"):\n",
    "    data.to_csv(f'mode_data/{name}.csv')"
   ],
   "execution_count": 42,
   "outputs": []
  },
  {
   "cell_type": "markdown",
   "metadata": {
    "id": "0-2KFE5GjF_Z",
    "colab_type": "text"
   },
   "source": [
    "### Задание 7\n",
    "\n",
    "Отсортировать строки в датафрейме в соответствии со значениями `income` в порядке убывания таким образом, чтобы результаты сортировки сохранились в исходном датафрейме."
   ]
  },
  {
   "cell_type": "code",
   "metadata": {
    "id": "oFzcnf6YjF_a",
    "colab_type": "code",
    "colab": {}
   },
   "source": [
    "df.sort_values(['income'], ascending=False, inplace=True)\n",
    "df"
   ],
   "execution_count": 44,
   "outputs": [
    {
     "data": {
      "text/plain": "      Unnamed: 0.1  Unnamed: 0     mode    price   catch   pbeach    ppier  \\\n524            524         525  charter  240.586  0.5391  167.374  167.374   \n656            656         657     boat   37.896  0.0238  202.112  202.112   \n1085          1085        1086     boat   37.896  0.7369  227.376  227.376   \n1118          1118        1119     boat   15.790  0.7369  180.006  180.006   \n1145          1145        1146  charter   40.790  2.3101  180.006  180.006   \n...            ...         ...      ...      ...     ...      ...      ...   \n981            981         982     pier    2.322  0.4522    2.322    2.322   \n978            978         979    beach    7.998  0.5333    7.998    7.998   \n1180          1180        1181    beach   36.636  0.5333   36.636   36.636   \n878            878         879     boat    3.870  0.7369   22.446   22.446   \n1013          1013        1014    beach    1.290  0.5333    1.290    1.290   \n\n        pboat  pcharter  cbeach   cpier   cboat  ccharter       income  \\\n524   211.586   240.586  0.0678  0.0789  0.1643    0.5391  12499.99800   \n656    37.896    61.896  0.1049  0.0451  0.0238    0.0468  12499.99800   \n1085   37.896    62.896  0.2537  0.1498  0.7369    2.3101  12499.99800   \n1118   15.790    40.790  0.2537  0.1498  0.7369    2.3101  12499.99800   \n1145   15.790    40.790  0.2537  0.1498  0.7369    2.3101  12499.99800   \n...       ...       ...     ...     ...     ...       ...          ...   \n981    55.470    90.470  0.5333  0.4522  0.2413    1.0266    416.66668   \n978    51.858    86.858  0.5333  0.4522  0.2413    1.0266    416.66668   \n1180   61.146    96.146  0.5333  0.4522  0.1665    0.3975    416.66668   \n878     3.870    28.870  0.2537  0.1498  0.7369    2.3101    416.66668   \n1013   39.990    74.990  0.5333  0.4522  0.2413    1.0266    416.66668   \n\n      log_income    pdiff  \n524     9.433484   73.212  \n656     9.433484  164.216  \n1085    9.433484  189.480  \n1118    9.433484  164.216  \n1145    9.433484  139.216  \n...          ...      ...  \n981     6.032287    0.000  \n978     6.032287    0.000  \n1180    6.032287    0.000  \n878     6.032287   18.576  \n1013    6.032287    0.000  \n\n[1182 rows x 16 columns]",
      "text/html": "<div>\n<style scoped>\n    .dataframe tbody tr th:only-of-type {\n        vertical-align: middle;\n    }\n\n    .dataframe tbody tr th {\n        vertical-align: top;\n    }\n\n    .dataframe thead th {\n        text-align: right;\n    }\n</style>\n<table border=\"1\" class=\"dataframe\">\n  <thead>\n    <tr style=\"text-align: right;\">\n      <th></th>\n      <th>Unnamed: 0.1</th>\n      <th>Unnamed: 0</th>\n      <th>mode</th>\n      <th>price</th>\n      <th>catch</th>\n      <th>pbeach</th>\n      <th>ppier</th>\n      <th>pboat</th>\n      <th>pcharter</th>\n      <th>cbeach</th>\n      <th>cpier</th>\n      <th>cboat</th>\n      <th>ccharter</th>\n      <th>income</th>\n      <th>log_income</th>\n      <th>pdiff</th>\n    </tr>\n  </thead>\n  <tbody>\n    <tr>\n      <th>524</th>\n      <td>524</td>\n      <td>525</td>\n      <td>charter</td>\n      <td>240.586</td>\n      <td>0.5391</td>\n      <td>167.374</td>\n      <td>167.374</td>\n      <td>211.586</td>\n      <td>240.586</td>\n      <td>0.0678</td>\n      <td>0.0789</td>\n      <td>0.1643</td>\n      <td>0.5391</td>\n      <td>12499.99800</td>\n      <td>9.433484</td>\n      <td>73.212</td>\n    </tr>\n    <tr>\n      <th>656</th>\n      <td>656</td>\n      <td>657</td>\n      <td>boat</td>\n      <td>37.896</td>\n      <td>0.0238</td>\n      <td>202.112</td>\n      <td>202.112</td>\n      <td>37.896</td>\n      <td>61.896</td>\n      <td>0.1049</td>\n      <td>0.0451</td>\n      <td>0.0238</td>\n      <td>0.0468</td>\n      <td>12499.99800</td>\n      <td>9.433484</td>\n      <td>164.216</td>\n    </tr>\n    <tr>\n      <th>1085</th>\n      <td>1085</td>\n      <td>1086</td>\n      <td>boat</td>\n      <td>37.896</td>\n      <td>0.7369</td>\n      <td>227.376</td>\n      <td>227.376</td>\n      <td>37.896</td>\n      <td>62.896</td>\n      <td>0.2537</td>\n      <td>0.1498</td>\n      <td>0.7369</td>\n      <td>2.3101</td>\n      <td>12499.99800</td>\n      <td>9.433484</td>\n      <td>189.480</td>\n    </tr>\n    <tr>\n      <th>1118</th>\n      <td>1118</td>\n      <td>1119</td>\n      <td>boat</td>\n      <td>15.790</td>\n      <td>0.7369</td>\n      <td>180.006</td>\n      <td>180.006</td>\n      <td>15.790</td>\n      <td>40.790</td>\n      <td>0.2537</td>\n      <td>0.1498</td>\n      <td>0.7369</td>\n      <td>2.3101</td>\n      <td>12499.99800</td>\n      <td>9.433484</td>\n      <td>164.216</td>\n    </tr>\n    <tr>\n      <th>1145</th>\n      <td>1145</td>\n      <td>1146</td>\n      <td>charter</td>\n      <td>40.790</td>\n      <td>2.3101</td>\n      <td>180.006</td>\n      <td>180.006</td>\n      <td>15.790</td>\n      <td>40.790</td>\n      <td>0.2537</td>\n      <td>0.1498</td>\n      <td>0.7369</td>\n      <td>2.3101</td>\n      <td>12499.99800</td>\n      <td>9.433484</td>\n      <td>139.216</td>\n    </tr>\n    <tr>\n      <th>...</th>\n      <td>...</td>\n      <td>...</td>\n      <td>...</td>\n      <td>...</td>\n      <td>...</td>\n      <td>...</td>\n      <td>...</td>\n      <td>...</td>\n      <td>...</td>\n      <td>...</td>\n      <td>...</td>\n      <td>...</td>\n      <td>...</td>\n      <td>...</td>\n      <td>...</td>\n      <td>...</td>\n    </tr>\n    <tr>\n      <th>981</th>\n      <td>981</td>\n      <td>982</td>\n      <td>pier</td>\n      <td>2.322</td>\n      <td>0.4522</td>\n      <td>2.322</td>\n      <td>2.322</td>\n      <td>55.470</td>\n      <td>90.470</td>\n      <td>0.5333</td>\n      <td>0.4522</td>\n      <td>0.2413</td>\n      <td>1.0266</td>\n      <td>416.66668</td>\n      <td>6.032287</td>\n      <td>0.000</td>\n    </tr>\n    <tr>\n      <th>978</th>\n      <td>978</td>\n      <td>979</td>\n      <td>beach</td>\n      <td>7.998</td>\n      <td>0.5333</td>\n      <td>7.998</td>\n      <td>7.998</td>\n      <td>51.858</td>\n      <td>86.858</td>\n      <td>0.5333</td>\n      <td>0.4522</td>\n      <td>0.2413</td>\n      <td>1.0266</td>\n      <td>416.66668</td>\n      <td>6.032287</td>\n      <td>0.000</td>\n    </tr>\n    <tr>\n      <th>1180</th>\n      <td>1180</td>\n      <td>1181</td>\n      <td>beach</td>\n      <td>36.636</td>\n      <td>0.5333</td>\n      <td>36.636</td>\n      <td>36.636</td>\n      <td>61.146</td>\n      <td>96.146</td>\n      <td>0.5333</td>\n      <td>0.4522</td>\n      <td>0.1665</td>\n      <td>0.3975</td>\n      <td>416.66668</td>\n      <td>6.032287</td>\n      <td>0.000</td>\n    </tr>\n    <tr>\n      <th>878</th>\n      <td>878</td>\n      <td>879</td>\n      <td>boat</td>\n      <td>3.870</td>\n      <td>0.7369</td>\n      <td>22.446</td>\n      <td>22.446</td>\n      <td>3.870</td>\n      <td>28.870</td>\n      <td>0.2537</td>\n      <td>0.1498</td>\n      <td>0.7369</td>\n      <td>2.3101</td>\n      <td>416.66668</td>\n      <td>6.032287</td>\n      <td>18.576</td>\n    </tr>\n    <tr>\n      <th>1013</th>\n      <td>1013</td>\n      <td>1014</td>\n      <td>beach</td>\n      <td>1.290</td>\n      <td>0.5333</td>\n      <td>1.290</td>\n      <td>1.290</td>\n      <td>39.990</td>\n      <td>74.990</td>\n      <td>0.5333</td>\n      <td>0.4522</td>\n      <td>0.2413</td>\n      <td>1.0266</td>\n      <td>416.66668</td>\n      <td>6.032287</td>\n      <td>0.000</td>\n    </tr>\n  </tbody>\n</table>\n<p>1182 rows × 16 columns</p>\n</div>"
     },
     "execution_count": 44,
     "metadata": {},
     "output_type": "execute_result"
    }
   ]
  },
  {
   "cell_type": "markdown",
   "metadata": {
    "id": "OBEI5NDFjF_e",
    "colab_type": "text"
   },
   "source": [
    "### Задание 8\n",
    "\n",
    "Отсортировать строки в датафрейме в соответствии со значениями `price` и `income` в порядке возрастания. Можно ли сказать, что люди с более низким доходом и выбравшие более дешёвый тип рыбалки, в целом, предпочитают один тип рыбалки, а люди с более высоким доходом и более дорогой рыбалкой – другой? Ответ записать в виде текстовой ячейки или в виде комментария."
   ]
  },
  {
   "cell_type": "code",
   "metadata": {
    "id": "k5CTodiMjF_g",
    "colab_type": "code",
    "colab": {}
   },
   "source": [
    "df.sort_values(['price', 'income'])[['mode', 'price', 'income']]"
   ],
   "execution_count": 55,
   "outputs": [
    {
     "data": {
      "text/plain": "         mode    price       income\n1157     pier    1.290    416.66668\n1105     pier    1.290    416.66668\n1013    beach    1.290    416.66668\n1012    beach    2.290   1249.99980\n339      boat    2.290   1249.99980\n...       ...      ...          ...\n377      boat  328.432  12499.99800\n588   charter  330.072   6250.00130\n446   charter  335.314   8750.00100\n211   charter  387.208   7916.66630\n249      boat  666.110   8750.00100\n\n[1182 rows x 3 columns]",
      "text/html": "<div>\n<style scoped>\n    .dataframe tbody tr th:only-of-type {\n        vertical-align: middle;\n    }\n\n    .dataframe tbody tr th {\n        vertical-align: top;\n    }\n\n    .dataframe thead th {\n        text-align: right;\n    }\n</style>\n<table border=\"1\" class=\"dataframe\">\n  <thead>\n    <tr style=\"text-align: right;\">\n      <th></th>\n      <th>mode</th>\n      <th>price</th>\n      <th>income</th>\n    </tr>\n  </thead>\n  <tbody>\n    <tr>\n      <th>1157</th>\n      <td>pier</td>\n      <td>1.290</td>\n      <td>416.66668</td>\n    </tr>\n    <tr>\n      <th>1105</th>\n      <td>pier</td>\n      <td>1.290</td>\n      <td>416.66668</td>\n    </tr>\n    <tr>\n      <th>1013</th>\n      <td>beach</td>\n      <td>1.290</td>\n      <td>416.66668</td>\n    </tr>\n    <tr>\n      <th>1012</th>\n      <td>beach</td>\n      <td>2.290</td>\n      <td>1249.99980</td>\n    </tr>\n    <tr>\n      <th>339</th>\n      <td>boat</td>\n      <td>2.290</td>\n      <td>1249.99980</td>\n    </tr>\n    <tr>\n      <th>...</th>\n      <td>...</td>\n      <td>...</td>\n      <td>...</td>\n    </tr>\n    <tr>\n      <th>377</th>\n      <td>boat</td>\n      <td>328.432</td>\n      <td>12499.99800</td>\n    </tr>\n    <tr>\n      <th>588</th>\n      <td>charter</td>\n      <td>330.072</td>\n      <td>6250.00130</td>\n    </tr>\n    <tr>\n      <th>446</th>\n      <td>charter</td>\n      <td>335.314</td>\n      <td>8750.00100</td>\n    </tr>\n    <tr>\n      <th>211</th>\n      <td>charter</td>\n      <td>387.208</td>\n      <td>7916.66630</td>\n    </tr>\n    <tr>\n      <th>249</th>\n      <td>boat</td>\n      <td>666.110</td>\n      <td>8750.00100</td>\n    </tr>\n  </tbody>\n</table>\n<p>1182 rows × 3 columns</p>\n</div>"
     },
     "execution_count": 55,
     "metadata": {},
     "output_type": "execute_result"
    }
   ]
  },
  {
   "cell_type": "code",
   "execution_count": 62,
   "outputs": [
    {
     "data": {
      "text/plain": "             price       income\nmode                           \nbeach    35.699493  4051.616731\nboat     41.606813  4654.106543\ncharter  75.096942  3880.899520\npier     30.571326  3387.172123",
      "text/html": "<div>\n<style scoped>\n    .dataframe tbody tr th:only-of-type {\n        vertical-align: middle;\n    }\n\n    .dataframe tbody tr th {\n        vertical-align: top;\n    }\n\n    .dataframe thead th {\n        text-align: right;\n    }\n</style>\n<table border=\"1\" class=\"dataframe\">\n  <thead>\n    <tr style=\"text-align: right;\">\n      <th></th>\n      <th>price</th>\n      <th>income</th>\n    </tr>\n    <tr>\n      <th>mode</th>\n      <th></th>\n      <th></th>\n    </tr>\n  </thead>\n  <tbody>\n    <tr>\n      <th>beach</th>\n      <td>35.699493</td>\n      <td>4051.616731</td>\n    </tr>\n    <tr>\n      <th>boat</th>\n      <td>41.606813</td>\n      <td>4654.106543</td>\n    </tr>\n    <tr>\n      <th>charter</th>\n      <td>75.096942</td>\n      <td>3880.899520</td>\n    </tr>\n    <tr>\n      <th>pier</th>\n      <td>30.571326</td>\n      <td>3387.172123</td>\n    </tr>\n  </tbody>\n</table>\n</div>"
     },
     "execution_count": 62,
     "metadata": {},
     "output_type": "execute_result"
    }
   ],
   "source": [
    "df.groupby('mode').mean()[['price', 'income']]"
   ],
   "metadata": {
    "collapsed": false,
    "pycharm": {
     "name": "#%%\n"
    }
   }
  },
  {
   "cell_type": "code",
   "execution_count": 60,
   "outputs": [
    {
     "data": {
      "text/plain": "mode\nbeach      3749.9999\nboat       3749.9999\ncharter    3749.9999\npier       2916.6666\nName: income, dtype: float64"
     },
     "execution_count": 60,
     "metadata": {},
     "output_type": "execute_result"
    }
   ],
   "source": [
    "df.groupby('mode').median()['income']"
   ],
   "metadata": {
    "collapsed": false,
    "pycharm": {
     "name": "#%%\n"
    }
   }
  },
  {
   "cell_type": "markdown",
   "source": [
    "### Люди с более низким доходом выбирают pier который является более дешевым"
   ],
   "metadata": {
    "collapsed": false,
    "pycharm": {
     "name": "#%% md\n"
    }
   }
  },
  {
   "cell_type": "markdown",
   "metadata": {
    "id": "MFxbxsb9jF_n",
    "colab_type": "text"
   },
   "source": [
    "### Задание 9\n",
    "\n",
    "Любым известным способом проверить, есть ли в датафрейме пропущенные значения. Если есть, удалить строки с пропущенными значениями. Если нет, написать комментарий, что таких нет."
   ]
  },
  {
   "cell_type": "code",
   "metadata": {
    "id": "VBlnzIiyjF_o",
    "colab_type": "code",
    "colab": {}
   },
   "source": [
    "df.isna().sum()"
   ],
   "execution_count": 64,
   "outputs": [
    {
     "data": {
      "text/plain": "Unnamed: 0.1    0\nUnnamed: 0      0\nmode            0\nprice           0\ncatch           0\npbeach          0\nppier           0\npboat           0\npcharter        0\ncbeach          0\ncpier           0\ncboat           0\nccharter        0\nincome          0\nlog_income      0\npdiff           0\ndtype: int64"
     },
     "execution_count": 64,
     "metadata": {},
     "output_type": "execute_result"
    }
   ]
  },
  {
   "cell_type": "markdown",
   "source": [
    "### Таких нет"
   ],
   "metadata": {
    "collapsed": false,
    "pycharm": {
     "name": "#%% md\n"
    }
   }
  },
  {
   "cell_type": "markdown",
   "metadata": {
    "id": "jeFnySMWjF_s",
    "colab_type": "text"
   },
   "source": [
    ".<br> .<br> .<br> .<br> .<br> .<br> .<br> .<br> .<br> .<br> .<br> .<br> .<br> .<br> .<br> .<br> .<br> .<br> \n",
    "# Дополнительное (необязательное) задание.\n",
    "<br>"
   ]
  },
  {
   "cell_type": "markdown",
   "metadata": {
    "id": "4HEGeC5MjF_t",
    "colab_type": "text"
   },
   "source": [
    "### Задание 1\n",
    "\n",
    "Загрузить датафрейм из файла `wgi_fh.csv`, учитывая, что в качестве разделителя столбцов используется точка с запятой, а в качестве десятичного разделителя – запятая (опции `sep=` и `decimal=` в функции `read_csv()` соответственно).\n",
    "\n",
    "Файл содержит данные за 2016 по различным политологическим индексам. Датафрейм содержит следующие столбцы:\n",
    "\n",
    "* `country`: страна;\n",
    "* `cnt_code`: код страны (аббревиатура);\n",
    "* `year`: год;\n",
    "* `va`: индекс подотчётности *Voice & Accountability (WGI)*;\n",
    "* `ps`: индекс политической стабильности *Political Stability and Lack of Violence (WGI)*;\n",
    "* `ge`: индекс эффективности правительства *Government Effectiveness (WGI)*;\n",
    "* `rq`: индекс качества управления *Regulatory Quality (WGI)*;\n",
    "* `rl`: индекс верховенства закона *Rule of Law (WGI)*;\n",
    "* `cc`: индекс контроля коррупции *Control of Corruption (WGI)*;\n",
    "* `fh`: индекс свободы *Freedom House (Freedom Rating)*.\n",
    "\n",
    "Подробнее про индексы можно почитать на этой [странице](https://www.hse.ru/org/hse/4432173/mathbase/databases/db_18)."
   ]
  },
  {
   "cell_type": "code",
   "metadata": {
    "id": "aQnqZrDYjF_v",
    "colab_type": "code",
    "colab": {}
   },
   "source": [
    "data = pd.read_csv('wgi_fh.csv', sep=';', decimal=',')\n",
    "data.head()"
   ],
   "execution_count": 75,
   "outputs": [
    {
     "data": {
      "text/plain": "       country cnt_code  year    va    ps    ge    rq    rl    cc   fh\n0        Aruba      ABW  2016  1.27  1.28  0.90  1.35  1.29  1.29  NaN\n1      Andorra      ADO  2016  1.20  1.40  1.86  0.87  1.56  1.23  1.0\n2  Afghanistan      AFG  2016 -1.09 -2.75 -1.22 -1.33 -1.62 -1.56  6.0\n3       Angola      AGO  2016 -1.17 -0.39 -1.04 -1.00 -1.08 -1.41  6.0\n4     Anguilla      AIA  2016   NaN  1.31  1.33  0.87 -0.09  1.23  NaN",
      "text/html": "<div>\n<style scoped>\n    .dataframe tbody tr th:only-of-type {\n        vertical-align: middle;\n    }\n\n    .dataframe tbody tr th {\n        vertical-align: top;\n    }\n\n    .dataframe thead th {\n        text-align: right;\n    }\n</style>\n<table border=\"1\" class=\"dataframe\">\n  <thead>\n    <tr style=\"text-align: right;\">\n      <th></th>\n      <th>country</th>\n      <th>cnt_code</th>\n      <th>year</th>\n      <th>va</th>\n      <th>ps</th>\n      <th>ge</th>\n      <th>rq</th>\n      <th>rl</th>\n      <th>cc</th>\n      <th>fh</th>\n    </tr>\n  </thead>\n  <tbody>\n    <tr>\n      <th>0</th>\n      <td>Aruba</td>\n      <td>ABW</td>\n      <td>2016</td>\n      <td>1.27</td>\n      <td>1.28</td>\n      <td>0.90</td>\n      <td>1.35</td>\n      <td>1.29</td>\n      <td>1.29</td>\n      <td>NaN</td>\n    </tr>\n    <tr>\n      <th>1</th>\n      <td>Andorra</td>\n      <td>ADO</td>\n      <td>2016</td>\n      <td>1.20</td>\n      <td>1.40</td>\n      <td>1.86</td>\n      <td>0.87</td>\n      <td>1.56</td>\n      <td>1.23</td>\n      <td>1.0</td>\n    </tr>\n    <tr>\n      <th>2</th>\n      <td>Afghanistan</td>\n      <td>AFG</td>\n      <td>2016</td>\n      <td>-1.09</td>\n      <td>-2.75</td>\n      <td>-1.22</td>\n      <td>-1.33</td>\n      <td>-1.62</td>\n      <td>-1.56</td>\n      <td>6.0</td>\n    </tr>\n    <tr>\n      <th>3</th>\n      <td>Angola</td>\n      <td>AGO</td>\n      <td>2016</td>\n      <td>-1.17</td>\n      <td>-0.39</td>\n      <td>-1.04</td>\n      <td>-1.00</td>\n      <td>-1.08</td>\n      <td>-1.41</td>\n      <td>6.0</td>\n    </tr>\n    <tr>\n      <th>4</th>\n      <td>Anguilla</td>\n      <td>AIA</td>\n      <td>2016</td>\n      <td>NaN</td>\n      <td>1.31</td>\n      <td>1.33</td>\n      <td>0.87</td>\n      <td>-0.09</td>\n      <td>1.23</td>\n      <td>NaN</td>\n    </tr>\n  </tbody>\n</table>\n</div>"
     },
     "execution_count": 75,
     "metadata": {},
     "output_type": "execute_result"
    }
   ]
  },
  {
   "cell_type": "markdown",
   "metadata": {
    "id": "njU246bujF_y",
    "colab_type": "text"
   },
   "source": [
    "### Задание 2\n",
    "\n",
    "Вывести общую информацию по датафрейму: число строк и столбцов, типы данных в таблице. Есть ли в таблице пропущенные значения? Привести код и дать ответ в виде комментария."
   ]
  },
  {
   "cell_type": "code",
   "execution_count": 76,
   "outputs": [
    {
     "name": "stdout",
     "output_type": "stream",
     "text": [
      "<class 'pandas.core.frame.DataFrame'>\n",
      "RangeIndex: 214 entries, 0 to 213\n",
      "Data columns (total 10 columns):\n",
      " #   Column    Non-Null Count  Dtype  \n",
      "---  ------    --------------  -----  \n",
      " 0   country   214 non-null    object \n",
      " 1   cnt_code  214 non-null    object \n",
      " 2   year      214 non-null    int64  \n",
      " 3   va        204 non-null    float64\n",
      " 4   ps        211 non-null    float64\n",
      " 5   ge        209 non-null    float64\n",
      " 6   rq        209 non-null    float64\n",
      " 7   rl        209 non-null    float64\n",
      " 8   cc        209 non-null    float64\n",
      " 9   fh        197 non-null    float64\n",
      "dtypes: float64(7), int64(1), object(2)\n",
      "memory usage: 16.8+ KB\n"
     ]
    }
   ],
   "source": [
    "data.info()"
   ],
   "metadata": {
    "collapsed": false,
    "pycharm": {
     "name": "#%%\n"
    }
   }
  },
  {
   "cell_type": "code",
   "execution_count": 77,
   "outputs": [
    {
     "data": {
      "text/plain": "country      0\ncnt_code     0\nyear         0\nva          10\nps           3\nge           5\nrq           5\nrl           5\ncc           5\nfh          17\ndtype: int64"
     },
     "execution_count": 77,
     "metadata": {},
     "output_type": "execute_result"
    }
   ],
   "source": [
    "data.isna().sum()"
   ],
   "metadata": {
    "collapsed": false,
    "pycharm": {
     "name": "#%%\n"
    }
   }
  },
  {
   "cell_type": "markdown",
   "source": [
    "### В таблице есть пропущенные значения"
   ],
   "metadata": {
    "collapsed": false,
    "pycharm": {
     "name": "#%% md\n"
    }
   }
  },
  {
   "cell_type": "markdown",
   "metadata": {
    "id": "7s_WD8DTjF_6",
    "colab_type": "text"
   },
   "source": [
    "### Задание 3\n",
    "\n",
    "Если в датафрейме есть строки с пропущенными значениями, удалить их. Сохранить изменения в исходном датафрейме."
   ]
  },
  {
   "cell_type": "code",
   "metadata": {
    "id": "HbyEb_fwjF_7",
    "colab_type": "code",
    "colab": {}
   },
   "source": [
    "data.dropna(inplace=True)\n",
    "data.isna().sum()"
   ],
   "execution_count": 78,
   "outputs": [
    {
     "data": {
      "text/plain": "country     0\ncnt_code    0\nyear        0\nva          0\nps          0\nge          0\nrq          0\nrl          0\ncc          0\nfh          0\ndtype: int64"
     },
     "execution_count": 78,
     "metadata": {},
     "output_type": "execute_result"
    }
   ]
  },
  {
   "cell_type": "markdown",
   "metadata": {
    "id": "T5YfVjHwjF__",
    "colab_type": "text"
   },
   "source": [
    "### Задание 4\n",
    "\n",
    "Назвать строки в датафрейме в соответствии со столбцом `cnt_code`. Удалить данный столбец из датафрейма."
   ]
  },
  {
   "cell_type": "code",
   "metadata": {
    "id": "e4mX0KCIjF__",
    "colab_type": "code",
    "colab": {}
   },
   "source": [
    "data.index = data.cnt_code\n",
    "data.drop(columns=['cnt_code'], inplace=True)\n",
    "data"
   ],
   "execution_count": 79,
   "outputs": [
    {
     "data": {
      "text/plain": "                   country  year    va    ps    ge    rq    rl    cc   fh\ncnt_code                                                                 \nADO                Andorra  2016  1.20  1.40  1.86  0.87  1.56  1.23  1.0\nAFG            Afghanistan  2016 -1.09 -2.75 -1.22 -1.33 -1.62 -1.56  6.0\nAGO                 Angola  2016 -1.17 -0.39 -1.04 -1.00 -1.08 -1.41  6.0\nALB                Albania  2016  0.16  0.26  0.00  0.19 -0.35 -0.40  3.0\nARG              Argentina  2016  0.54  0.22  0.18 -0.47 -0.35 -0.31  2.0\n...                    ...   ...   ...   ...   ...   ...   ...   ...  ...\nSRB                 Serbia  2016  0.21  0.05  0.09  0.06 -0.12 -0.31  2.0\nZAF           South Africa  2016  0.64 -0.13  0.27  0.21  0.07  0.05  2.0\nZAR       Congo, Dem. Rep.  2016 -1.39 -2.20 -1.51 -1.32 -1.61 -1.33  6.0\nZMB                 Zambia  2016 -0.30  0.18 -0.66 -0.48 -0.30 -0.40  3.5\nZWE               Zimbabwe  2016 -1.11 -0.61 -1.16 -1.72 -1.32 -1.28  5.0\n\n[195 rows x 9 columns]",
      "text/html": "<div>\n<style scoped>\n    .dataframe tbody tr th:only-of-type {\n        vertical-align: middle;\n    }\n\n    .dataframe tbody tr th {\n        vertical-align: top;\n    }\n\n    .dataframe thead th {\n        text-align: right;\n    }\n</style>\n<table border=\"1\" class=\"dataframe\">\n  <thead>\n    <tr style=\"text-align: right;\">\n      <th></th>\n      <th>country</th>\n      <th>year</th>\n      <th>va</th>\n      <th>ps</th>\n      <th>ge</th>\n      <th>rq</th>\n      <th>rl</th>\n      <th>cc</th>\n      <th>fh</th>\n    </tr>\n    <tr>\n      <th>cnt_code</th>\n      <th></th>\n      <th></th>\n      <th></th>\n      <th></th>\n      <th></th>\n      <th></th>\n      <th></th>\n      <th></th>\n      <th></th>\n    </tr>\n  </thead>\n  <tbody>\n    <tr>\n      <th>ADO</th>\n      <td>Andorra</td>\n      <td>2016</td>\n      <td>1.20</td>\n      <td>1.40</td>\n      <td>1.86</td>\n      <td>0.87</td>\n      <td>1.56</td>\n      <td>1.23</td>\n      <td>1.0</td>\n    </tr>\n    <tr>\n      <th>AFG</th>\n      <td>Afghanistan</td>\n      <td>2016</td>\n      <td>-1.09</td>\n      <td>-2.75</td>\n      <td>-1.22</td>\n      <td>-1.33</td>\n      <td>-1.62</td>\n      <td>-1.56</td>\n      <td>6.0</td>\n    </tr>\n    <tr>\n      <th>AGO</th>\n      <td>Angola</td>\n      <td>2016</td>\n      <td>-1.17</td>\n      <td>-0.39</td>\n      <td>-1.04</td>\n      <td>-1.00</td>\n      <td>-1.08</td>\n      <td>-1.41</td>\n      <td>6.0</td>\n    </tr>\n    <tr>\n      <th>ALB</th>\n      <td>Albania</td>\n      <td>2016</td>\n      <td>0.16</td>\n      <td>0.26</td>\n      <td>0.00</td>\n      <td>0.19</td>\n      <td>-0.35</td>\n      <td>-0.40</td>\n      <td>3.0</td>\n    </tr>\n    <tr>\n      <th>ARG</th>\n      <td>Argentina</td>\n      <td>2016</td>\n      <td>0.54</td>\n      <td>0.22</td>\n      <td>0.18</td>\n      <td>-0.47</td>\n      <td>-0.35</td>\n      <td>-0.31</td>\n      <td>2.0</td>\n    </tr>\n    <tr>\n      <th>...</th>\n      <td>...</td>\n      <td>...</td>\n      <td>...</td>\n      <td>...</td>\n      <td>...</td>\n      <td>...</td>\n      <td>...</td>\n      <td>...</td>\n      <td>...</td>\n    </tr>\n    <tr>\n      <th>SRB</th>\n      <td>Serbia</td>\n      <td>2016</td>\n      <td>0.21</td>\n      <td>0.05</td>\n      <td>0.09</td>\n      <td>0.06</td>\n      <td>-0.12</td>\n      <td>-0.31</td>\n      <td>2.0</td>\n    </tr>\n    <tr>\n      <th>ZAF</th>\n      <td>South Africa</td>\n      <td>2016</td>\n      <td>0.64</td>\n      <td>-0.13</td>\n      <td>0.27</td>\n      <td>0.21</td>\n      <td>0.07</td>\n      <td>0.05</td>\n      <td>2.0</td>\n    </tr>\n    <tr>\n      <th>ZAR</th>\n      <td>Congo, Dem. Rep.</td>\n      <td>2016</td>\n      <td>-1.39</td>\n      <td>-2.20</td>\n      <td>-1.51</td>\n      <td>-1.32</td>\n      <td>-1.61</td>\n      <td>-1.33</td>\n      <td>6.0</td>\n    </tr>\n    <tr>\n      <th>ZMB</th>\n      <td>Zambia</td>\n      <td>2016</td>\n      <td>-0.30</td>\n      <td>0.18</td>\n      <td>-0.66</td>\n      <td>-0.48</td>\n      <td>-0.30</td>\n      <td>-0.40</td>\n      <td>3.5</td>\n    </tr>\n    <tr>\n      <th>ZWE</th>\n      <td>Zimbabwe</td>\n      <td>2016</td>\n      <td>-1.11</td>\n      <td>-0.61</td>\n      <td>-1.16</td>\n      <td>-1.72</td>\n      <td>-1.32</td>\n      <td>-1.28</td>\n      <td>5.0</td>\n    </tr>\n  </tbody>\n</table>\n<p>195 rows × 9 columns</p>\n</div>"
     },
     "execution_count": 79,
     "metadata": {},
     "output_type": "execute_result"
    }
   ]
  },
  {
   "cell_type": "markdown",
   "metadata": {
    "id": "vrvfA7sWjGAE",
    "colab_type": "text"
   },
   "source": [
    "### Задание 5\n",
    "\n",
    "Отсортировать строки в таблице в соответствии со значениями столбцов с индексами *Control of Corruption*  и *Voice & Accountability* таким образом, чтобы результаты сортировки были сохранены сразу в исходном датафрейме."
   ]
  },
  {
   "cell_type": "code",
   "metadata": {
    "id": "5tAViW2FjGAI",
    "colab_type": "code",
    "colab": {}
   },
   "source": [
    "data.sort_values(['cc', 'va'], inplace=True)\n",
    "data"
   ],
   "execution_count": 80,
   "outputs": [
    {
     "data": {
      "text/plain": "                    country  year    va    ps    ge    rq    rl    cc   fh\ncnt_code                                                                  \nGNQ       Equatorial Guinea  2016 -1.93 -0.19 -1.41 -1.38 -1.44 -1.81  7.0\nSOM                 Somalia  2016 -1.83 -2.33 -2.18 -2.27 -2.37 -1.69  7.0\nYEM             Yemen, Rep.  2016 -1.65 -2.79 -1.82 -1.48 -1.60 -1.67  6.5\nSDN                   Sudan  2016 -1.80 -2.38 -1.41 -1.49 -1.26 -1.61  7.0\nSSD             South Sudan  2016 -1.67 -2.42 -2.26 -1.86 -1.69 -1.58  6.5\n...                     ...   ...   ...   ...   ...   ...   ...   ...  ...\nNOR                  Norway  2016  1.58  1.17  1.88  1.70  2.02  2.20  1.0\nSWE                  Sweden  2016  1.50  0.98  1.79  1.85  2.04  2.22  1.0\nDNK                 Denmark  2016  1.47  0.85  1.89  1.58  1.90  2.24  1.0\nFIN                 Finland  2016  1.49  0.96  1.85  1.82  2.02  2.28  1.0\nNZL             New Zealand  2016  1.44  1.49  1.86  2.04  1.93  2.30  1.0\n\n[195 rows x 9 columns]",
      "text/html": "<div>\n<style scoped>\n    .dataframe tbody tr th:only-of-type {\n        vertical-align: middle;\n    }\n\n    .dataframe tbody tr th {\n        vertical-align: top;\n    }\n\n    .dataframe thead th {\n        text-align: right;\n    }\n</style>\n<table border=\"1\" class=\"dataframe\">\n  <thead>\n    <tr style=\"text-align: right;\">\n      <th></th>\n      <th>country</th>\n      <th>year</th>\n      <th>va</th>\n      <th>ps</th>\n      <th>ge</th>\n      <th>rq</th>\n      <th>rl</th>\n      <th>cc</th>\n      <th>fh</th>\n    </tr>\n    <tr>\n      <th>cnt_code</th>\n      <th></th>\n      <th></th>\n      <th></th>\n      <th></th>\n      <th></th>\n      <th></th>\n      <th></th>\n      <th></th>\n      <th></th>\n    </tr>\n  </thead>\n  <tbody>\n    <tr>\n      <th>GNQ</th>\n      <td>Equatorial Guinea</td>\n      <td>2016</td>\n      <td>-1.93</td>\n      <td>-0.19</td>\n      <td>-1.41</td>\n      <td>-1.38</td>\n      <td>-1.44</td>\n      <td>-1.81</td>\n      <td>7.0</td>\n    </tr>\n    <tr>\n      <th>SOM</th>\n      <td>Somalia</td>\n      <td>2016</td>\n      <td>-1.83</td>\n      <td>-2.33</td>\n      <td>-2.18</td>\n      <td>-2.27</td>\n      <td>-2.37</td>\n      <td>-1.69</td>\n      <td>7.0</td>\n    </tr>\n    <tr>\n      <th>YEM</th>\n      <td>Yemen, Rep.</td>\n      <td>2016</td>\n      <td>-1.65</td>\n      <td>-2.79</td>\n      <td>-1.82</td>\n      <td>-1.48</td>\n      <td>-1.60</td>\n      <td>-1.67</td>\n      <td>6.5</td>\n    </tr>\n    <tr>\n      <th>SDN</th>\n      <td>Sudan</td>\n      <td>2016</td>\n      <td>-1.80</td>\n      <td>-2.38</td>\n      <td>-1.41</td>\n      <td>-1.49</td>\n      <td>-1.26</td>\n      <td>-1.61</td>\n      <td>7.0</td>\n    </tr>\n    <tr>\n      <th>SSD</th>\n      <td>South Sudan</td>\n      <td>2016</td>\n      <td>-1.67</td>\n      <td>-2.42</td>\n      <td>-2.26</td>\n      <td>-1.86</td>\n      <td>-1.69</td>\n      <td>-1.58</td>\n      <td>6.5</td>\n    </tr>\n    <tr>\n      <th>...</th>\n      <td>...</td>\n      <td>...</td>\n      <td>...</td>\n      <td>...</td>\n      <td>...</td>\n      <td>...</td>\n      <td>...</td>\n      <td>...</td>\n      <td>...</td>\n    </tr>\n    <tr>\n      <th>NOR</th>\n      <td>Norway</td>\n      <td>2016</td>\n      <td>1.58</td>\n      <td>1.17</td>\n      <td>1.88</td>\n      <td>1.70</td>\n      <td>2.02</td>\n      <td>2.20</td>\n      <td>1.0</td>\n    </tr>\n    <tr>\n      <th>SWE</th>\n      <td>Sweden</td>\n      <td>2016</td>\n      <td>1.50</td>\n      <td>0.98</td>\n      <td>1.79</td>\n      <td>1.85</td>\n      <td>2.04</td>\n      <td>2.22</td>\n      <td>1.0</td>\n    </tr>\n    <tr>\n      <th>DNK</th>\n      <td>Denmark</td>\n      <td>2016</td>\n      <td>1.47</td>\n      <td>0.85</td>\n      <td>1.89</td>\n      <td>1.58</td>\n      <td>1.90</td>\n      <td>2.24</td>\n      <td>1.0</td>\n    </tr>\n    <tr>\n      <th>FIN</th>\n      <td>Finland</td>\n      <td>2016</td>\n      <td>1.49</td>\n      <td>0.96</td>\n      <td>1.85</td>\n      <td>1.82</td>\n      <td>2.02</td>\n      <td>2.28</td>\n      <td>1.0</td>\n    </tr>\n    <tr>\n      <th>NZL</th>\n      <td>New Zealand</td>\n      <td>2016</td>\n      <td>1.44</td>\n      <td>1.49</td>\n      <td>1.86</td>\n      <td>2.04</td>\n      <td>1.93</td>\n      <td>2.30</td>\n      <td>1.0</td>\n    </tr>\n  </tbody>\n</table>\n<p>195 rows × 9 columns</p>\n</div>"
     },
     "execution_count": 80,
     "metadata": {},
     "output_type": "execute_result"
    }
   ]
  },
  {
   "cell_type": "markdown",
   "metadata": {
    "id": "t-Dva5hwjGAM",
    "colab_type": "text"
   },
   "source": [
    "### Задание 6\n",
    "\n",
    "Используя метод `.apply()`, создать столбец `cc_round` со значениями индекса *Control of Corruption*, округлёнными до первого знака после запятой. "
   ]
  },
  {
   "cell_type": "code",
   "metadata": {
    "id": "yJZsJOfMjGAN",
    "colab_type": "code",
    "colab": {}
   },
   "source": [
    "data['cc_round'] = data[['cc']].apply(lambda x: np.round(x, 1))\n",
    "data.head()"
   ],
   "execution_count": 82,
   "outputs": [
    {
     "data": {
      "text/plain": "                    country  year    va    ps    ge    rq    rl    cc   fh  \\\ncnt_code                                                                     \nGNQ       Equatorial Guinea  2016 -1.93 -0.19 -1.41 -1.38 -1.44 -1.81  7.0   \nSOM                 Somalia  2016 -1.83 -2.33 -2.18 -2.27 -2.37 -1.69  7.0   \nYEM             Yemen, Rep.  2016 -1.65 -2.79 -1.82 -1.48 -1.60 -1.67  6.5   \nSDN                   Sudan  2016 -1.80 -2.38 -1.41 -1.49 -1.26 -1.61  7.0   \nSSD             South Sudan  2016 -1.67 -2.42 -2.26 -1.86 -1.69 -1.58  6.5   \n\n          cc_round  \ncnt_code            \nGNQ           -1.8  \nSOM           -1.7  \nYEM           -1.7  \nSDN           -1.6  \nSSD           -1.6  ",
      "text/html": "<div>\n<style scoped>\n    .dataframe tbody tr th:only-of-type {\n        vertical-align: middle;\n    }\n\n    .dataframe tbody tr th {\n        vertical-align: top;\n    }\n\n    .dataframe thead th {\n        text-align: right;\n    }\n</style>\n<table border=\"1\" class=\"dataframe\">\n  <thead>\n    <tr style=\"text-align: right;\">\n      <th></th>\n      <th>country</th>\n      <th>year</th>\n      <th>va</th>\n      <th>ps</th>\n      <th>ge</th>\n      <th>rq</th>\n      <th>rl</th>\n      <th>cc</th>\n      <th>fh</th>\n      <th>cc_round</th>\n    </tr>\n    <tr>\n      <th>cnt_code</th>\n      <th></th>\n      <th></th>\n      <th></th>\n      <th></th>\n      <th></th>\n      <th></th>\n      <th></th>\n      <th></th>\n      <th></th>\n      <th></th>\n    </tr>\n  </thead>\n  <tbody>\n    <tr>\n      <th>GNQ</th>\n      <td>Equatorial Guinea</td>\n      <td>2016</td>\n      <td>-1.93</td>\n      <td>-0.19</td>\n      <td>-1.41</td>\n      <td>-1.38</td>\n      <td>-1.44</td>\n      <td>-1.81</td>\n      <td>7.0</td>\n      <td>-1.8</td>\n    </tr>\n    <tr>\n      <th>SOM</th>\n      <td>Somalia</td>\n      <td>2016</td>\n      <td>-1.83</td>\n      <td>-2.33</td>\n      <td>-2.18</td>\n      <td>-2.27</td>\n      <td>-2.37</td>\n      <td>-1.69</td>\n      <td>7.0</td>\n      <td>-1.7</td>\n    </tr>\n    <tr>\n      <th>YEM</th>\n      <td>Yemen, Rep.</td>\n      <td>2016</td>\n      <td>-1.65</td>\n      <td>-2.79</td>\n      <td>-1.82</td>\n      <td>-1.48</td>\n      <td>-1.60</td>\n      <td>-1.67</td>\n      <td>6.5</td>\n      <td>-1.7</td>\n    </tr>\n    <tr>\n      <th>SDN</th>\n      <td>Sudan</td>\n      <td>2016</td>\n      <td>-1.80</td>\n      <td>-2.38</td>\n      <td>-1.41</td>\n      <td>-1.49</td>\n      <td>-1.26</td>\n      <td>-1.61</td>\n      <td>7.0</td>\n      <td>-1.6</td>\n    </tr>\n    <tr>\n      <th>SSD</th>\n      <td>South Sudan</td>\n      <td>2016</td>\n      <td>-1.67</td>\n      <td>-2.42</td>\n      <td>-2.26</td>\n      <td>-1.86</td>\n      <td>-1.69</td>\n      <td>-1.58</td>\n      <td>6.5</td>\n      <td>-1.6</td>\n    </tr>\n  </tbody>\n</table>\n</div>"
     },
     "execution_count": 82,
     "metadata": {},
     "output_type": "execute_result"
    }
   ]
  },
  {
   "cell_type": "markdown",
   "metadata": {
    "id": "RseUYnUqjGAP",
    "colab_type": "text"
   },
   "source": [
    "### Задание 7\n",
    "\n",
    "Добавить в датафрейм столбец `fh_status`, в котором будут храниться типы стран в зависимости от значения индекса *Freedom House* (значения типов стран: `\"free\"`, `\"partly free\"`, `\"not free\"`). Соответствие значений `fh` типам стран см. в Table 3 в конце [этой](https://freedomhouse.org/sites/default/files/2020-02/Methodology_FIW_2016.pdf) страницы.\n",
    "\n",
    "**Подсказка:** здесь понадобится функция, которая возвращает разные значения в зависимости от выполнения условий. Её можно написать через `def` или `lambda`. Больше про функции можно почитать на [pythontutor.ru](https://pythontutor.ru/lessons/functions/)."
   ]
  },
  {
   "cell_type": "code",
   "metadata": {
    "id": "1MJxDyU1jGAQ",
    "colab_type": "code",
    "colab": {}
   },
   "source": [
    "def get_status(value):\n",
    "    if 1 <= value <= 2.5: return 'free'\n",
    "    elif 2.5 < value <= 5: return  'partly free'\n",
    "    else: return 'not free'\n",
    "\n",
    "data['fh_status'] = data.fh.apply(get_status)\n",
    "data.head()"
   ],
   "execution_count": 84,
   "outputs": [
    {
     "data": {
      "text/plain": "                    country  year    va    ps    ge    rq    rl    cc   fh  \\\ncnt_code                                                                     \nGNQ       Equatorial Guinea  2016 -1.93 -0.19 -1.41 -1.38 -1.44 -1.81  7.0   \nSOM                 Somalia  2016 -1.83 -2.33 -2.18 -2.27 -2.37 -1.69  7.0   \nYEM             Yemen, Rep.  2016 -1.65 -2.79 -1.82 -1.48 -1.60 -1.67  6.5   \nSDN                   Sudan  2016 -1.80 -2.38 -1.41 -1.49 -1.26 -1.61  7.0   \nSSD             South Sudan  2016 -1.67 -2.42 -2.26 -1.86 -1.69 -1.58  6.5   \n\n          cc_round fh_status  \ncnt_code                      \nGNQ           -1.8  not free  \nSOM           -1.7  not free  \nYEM           -1.7  not free  \nSDN           -1.6  not free  \nSSD           -1.6  not free  ",
      "text/html": "<div>\n<style scoped>\n    .dataframe tbody tr th:only-of-type {\n        vertical-align: middle;\n    }\n\n    .dataframe tbody tr th {\n        vertical-align: top;\n    }\n\n    .dataframe thead th {\n        text-align: right;\n    }\n</style>\n<table border=\"1\" class=\"dataframe\">\n  <thead>\n    <tr style=\"text-align: right;\">\n      <th></th>\n      <th>country</th>\n      <th>year</th>\n      <th>va</th>\n      <th>ps</th>\n      <th>ge</th>\n      <th>rq</th>\n      <th>rl</th>\n      <th>cc</th>\n      <th>fh</th>\n      <th>cc_round</th>\n      <th>fh_status</th>\n    </tr>\n    <tr>\n      <th>cnt_code</th>\n      <th></th>\n      <th></th>\n      <th></th>\n      <th></th>\n      <th></th>\n      <th></th>\n      <th></th>\n      <th></th>\n      <th></th>\n      <th></th>\n      <th></th>\n    </tr>\n  </thead>\n  <tbody>\n    <tr>\n      <th>GNQ</th>\n      <td>Equatorial Guinea</td>\n      <td>2016</td>\n      <td>-1.93</td>\n      <td>-0.19</td>\n      <td>-1.41</td>\n      <td>-1.38</td>\n      <td>-1.44</td>\n      <td>-1.81</td>\n      <td>7.0</td>\n      <td>-1.8</td>\n      <td>not free</td>\n    </tr>\n    <tr>\n      <th>SOM</th>\n      <td>Somalia</td>\n      <td>2016</td>\n      <td>-1.83</td>\n      <td>-2.33</td>\n      <td>-2.18</td>\n      <td>-2.27</td>\n      <td>-2.37</td>\n      <td>-1.69</td>\n      <td>7.0</td>\n      <td>-1.7</td>\n      <td>not free</td>\n    </tr>\n    <tr>\n      <th>YEM</th>\n      <td>Yemen, Rep.</td>\n      <td>2016</td>\n      <td>-1.65</td>\n      <td>-2.79</td>\n      <td>-1.82</td>\n      <td>-1.48</td>\n      <td>-1.60</td>\n      <td>-1.67</td>\n      <td>6.5</td>\n      <td>-1.7</td>\n      <td>not free</td>\n    </tr>\n    <tr>\n      <th>SDN</th>\n      <td>Sudan</td>\n      <td>2016</td>\n      <td>-1.80</td>\n      <td>-2.38</td>\n      <td>-1.41</td>\n      <td>-1.49</td>\n      <td>-1.26</td>\n      <td>-1.61</td>\n      <td>7.0</td>\n      <td>-1.6</td>\n      <td>not free</td>\n    </tr>\n    <tr>\n      <th>SSD</th>\n      <td>South Sudan</td>\n      <td>2016</td>\n      <td>-1.67</td>\n      <td>-2.42</td>\n      <td>-2.26</td>\n      <td>-1.86</td>\n      <td>-1.69</td>\n      <td>-1.58</td>\n      <td>6.5</td>\n      <td>-1.6</td>\n      <td>not free</td>\n    </tr>\n  </tbody>\n</table>\n</div>"
     },
     "execution_count": 84,
     "metadata": {},
     "output_type": "execute_result"
    }
   ]
  },
  {
   "cell_type": "markdown",
   "metadata": {
    "id": "qwCG-4vqjGAT",
    "colab_type": "text"
   },
   "source": [
    "### Задание 8\n",
    "\n",
    "Сгруппировать строки в датафрейме в соответствии со значениями столбца `fh_status`, полученного в предыдущем задании и вывести минимальное, среднее и максимальное значение показателя *Political Stability and Lack of Violence* по каждой группе."
   ]
  },
  {
   "cell_type": "code",
   "metadata": {
    "id": "K3M5g1LqjGAV",
    "colab_type": "code",
    "colab": {}
   },
   "source": [
    "data.groupby('fh_status')\\\n",
    "    .agg({\n",
    "        'ps': ['min', 'mean', 'max']\n",
    "    })"
   ],
   "execution_count": 107,
   "outputs": [
    {
     "data": {
      "text/plain": "               ps                \n              min      mean   max\nfh_status                        \nfree        -0.99  0.619059  1.49\nnot free    -2.91 -0.875800  1.26\npartly free -2.47 -0.424000  1.53",
      "text/html": "<div>\n<style scoped>\n    .dataframe tbody tr th:only-of-type {\n        vertical-align: middle;\n    }\n\n    .dataframe tbody tr th {\n        vertical-align: top;\n    }\n\n    .dataframe thead tr th {\n        text-align: left;\n    }\n\n    .dataframe thead tr:last-of-type th {\n        text-align: right;\n    }\n</style>\n<table border=\"1\" class=\"dataframe\">\n  <thead>\n    <tr>\n      <th></th>\n      <th colspan=\"3\" halign=\"left\">ps</th>\n    </tr>\n    <tr>\n      <th></th>\n      <th>min</th>\n      <th>mean</th>\n      <th>max</th>\n    </tr>\n    <tr>\n      <th>fh_status</th>\n      <th></th>\n      <th></th>\n      <th></th>\n    </tr>\n  </thead>\n  <tbody>\n    <tr>\n      <th>free</th>\n      <td>-0.99</td>\n      <td>0.619059</td>\n      <td>1.49</td>\n    </tr>\n    <tr>\n      <th>not free</th>\n      <td>-2.91</td>\n      <td>-0.875800</td>\n      <td>1.26</td>\n    </tr>\n    <tr>\n      <th>partly free</th>\n      <td>-2.47</td>\n      <td>-0.424000</td>\n      <td>1.53</td>\n    </tr>\n  </tbody>\n</table>\n</div>"
     },
     "execution_count": 107,
     "metadata": {},
     "output_type": "execute_result"
    }
   ]
  },
  {
   "cell_type": "markdown",
   "metadata": {
    "id": "RCcvXHJ4jGAZ",
    "colab_type": "text"
   },
   "source": [
    "### Задание 9\n",
    "\n",
    "Сгруппировать строки в датафрейме в соответствии со значениями столбца `fh_status` и записать строки, относящиеся к разным группам, в отдельные csv-файлы.\n",
    "\n",
    "**Подсказка 1:** цикл `for`.\n",
    "\n",
    "**Подсказка 2:**  [метод](https://pandas.pydata.org/pandas-docs/stable/reference/api/pandas.DataFrame.to_csv.html) `.to_csv()` для выгрузки датафреймов `pandas` в csv-файлы."
   ]
  },
  {
   "cell_type": "code",
   "metadata": {
    "id": "UTIfZA7WjGAa",
    "colab_type": "code",
    "colab": {}
   },
   "source": [
    "for name, dataframe in data.groupby('fh_status'):\n",
    "    dataframe.to_csv(f'pol_data/{name}.csv')"
   ],
   "execution_count": 108,
   "outputs": []
  },
  {
   "cell_type": "markdown",
   "metadata": {
    "id": "WmmH2iXXjGAe",
    "colab_type": "text"
   },
   "source": [
    "### Задание 10\n",
    "\n",
    "Создайте (любым способом) маленький датафрейм, состоящий из двух столбцов:\n",
    "\n",
    "* `fh_type`: тип страны;\n",
    "* `count`: число стран данного типа.\n",
    "\n",
    "    Постройте, используя полученный датафрейм, столбиковую диаграмму (*barplot*), опираясь на [эту](https://pandas.pydata.org/pandas-docs/stable/reference/api/pandas.DataFrame.plot.bar.html) документацию. Чтобы увидеть график явно, прямо в текущем ноутбуке, допишите в начале ячейки с кодом для графика следующую строку:\n",
    "    \n",
    "        %matplotlib inline\n",
    "\n",
    "**Подсказка:** число наблюдений — это функция `count`, её можно использовать наравне с `min`, `mean` и прочими."
   ]
  },
  {
   "cell_type": "code",
   "execution_count": 162,
   "outputs": [
    {
     "data": {
      "text/plain": "       fh_type  count\n0         free     85\n1     not free     50\n2  partly free     60",
      "text/html": "<div>\n<style scoped>\n    .dataframe tbody tr th:only-of-type {\n        vertical-align: middle;\n    }\n\n    .dataframe tbody tr th {\n        vertical-align: top;\n    }\n\n    .dataframe thead th {\n        text-align: right;\n    }\n</style>\n<table border=\"1\" class=\"dataframe\">\n  <thead>\n    <tr style=\"text-align: right;\">\n      <th></th>\n      <th>fh_type</th>\n      <th>count</th>\n    </tr>\n  </thead>\n  <tbody>\n    <tr>\n      <th>0</th>\n      <td>free</td>\n      <td>85</td>\n    </tr>\n    <tr>\n      <th>1</th>\n      <td>not free</td>\n      <td>50</td>\n    </tr>\n    <tr>\n      <th>2</th>\n      <td>partly free</td>\n      <td>60</td>\n    </tr>\n  </tbody>\n</table>\n</div>"
     },
     "execution_count": 162,
     "metadata": {},
     "output_type": "execute_result"
    }
   ],
   "source": [
    "fh_counts = data.groupby('fh_status')\\\n",
    "    .agg({\n",
    "        'country': 'count'\n",
    "    })\\\n",
    "    .reset_index()\\\n",
    "    .rename(columns={'fh_status': 'fh_type', 'country': 'count'})\n",
    "fh_counts"
   ],
   "metadata": {
    "collapsed": false,
    "pycharm": {
     "name": "#%%\n"
    }
   }
  },
  {
   "cell_type": "code",
   "metadata": {
    "id": "n-AeX5eejGAe",
    "colab_type": "code",
    "colab": {}
   },
   "source": [
    "%matplotlib inline\n",
    "\n",
    "fh_counts.plot.bar()"
   ],
   "execution_count": 163,
   "outputs": [
    {
     "data": {
      "text/plain": "<AxesSubplot:>"
     },
     "execution_count": 163,
     "metadata": {},
     "output_type": "execute_result"
    },
    {
     "data": {
      "text/plain": "<Figure size 432x288 with 1 Axes>",
      "image/png": "[encoded data removed]"
     },
     "metadata": {
      "needs_background": "light"
     },
     "output_type": "display_data"
    }
   ]
  }
 ]
}