{
 "nbformat": 4,
 "nbformat_minor": 0,
 "metadata": {
  "kernelspec": {
   "display_name": "Python 3",
   "language": "python",
   "name": "python3"
  },
  "language_info": {
   "codemirror_mode": {
    "name": "ipython",
    "version": 3
   },
   "file_extension": ".py",
   "mimetype": "text/x-python",
   "name": "python",
   "nbconvert_exporter": "python",
   "pygments_lexer": "ipython3",
   "version": "3.8.8"
  },
  "colab": {
   "name": "Работа со строками. Домашняя работа.ipynb",
   "provenance": [],
   "collapsed_sections": []
  }
 },
 "cells": [
  {
   "cell_type": "markdown",
   "source": [
    "## Подготовка данных для задания"
   ],
   "metadata": {
    "id": "0TU0EOUCluzI"
   }
  },
  {
   "cell_type": "code",
   "metadata": {
    "id": "lp0-7XZPTNsm"
   },
   "source": [
    "#!pip install pymorphy2"
   ],
   "execution_count": 1,
   "outputs": []
  },
  {
   "cell_type": "code",
   "metadata": {
    "id": "xmVmCpFNRbnB",
    "colab": {
     "base_uri": "https://localhost:8080/",
     "height": 359
    },
    "executionInfo": {
     "status": "ok",
     "timestamp": 1632931510917,
     "user_tz": -180,
     "elapsed": 767,
     "user": {
      "displayName": "Ketrin Trofimova",
      "photoUrl": "https://lh3.googleusercontent.com/a/default-user=s64",
      "userId": "05400058012601189465"
     }
    },
    "outputId": "7d45e681-de26-4818-be85-8a3853867ef8"
   },
   "source": [
    "import re\n",
    "\n",
    "import pandas as pd\n",
    "import pymorphy2\n",
    "\n",
    "text_df = pd.read_csv(\"content_description.csv\", sep='\\t')\n",
    "#text_df = pd.read_csv(\"./data/content_description.csv\", sep='\\t')\n",
    "text_df.head()\n",
    "\n",
    "# разбиваем тест на слова\n",
    "corpus = []\n",
    "# регулярка для поиска слов\n",
    "regular_expr = r'\\w+'\n",
    "reg_expr_compiled = re.compile(regular_expr)\n",
    "\n",
    "# формируем датасет из отдельных слов\n",
    "for raw_text in text_df.description.values:\n",
    "    # приводим к нижнему регистру\n",
    "    raw_text_lower = raw_text.lower()\n",
    "    # разбиваем текст на слова\n",
    "    text_by_words = reg_expr_compiled.findall(raw_text_lower) \n",
    "    corpus.append(text_by_words)\n",
    "\n",
    "# нормализация текста\n",
    "normalized_corpus = []\n",
    "morph = pymorphy2.MorphAnalyzer()\n",
    "# нормализуем каждое слово в тексте\n",
    "for token_list in corpus:\n",
    "    normalized_token_list = []\n",
    "    for word in token_list:\n",
    "        parsed_token = morph.parse(word)\n",
    "        normal_form = parsed_token[0].normal_form\n",
    "        normalized_token_list.append(normal_form)\n",
    "    normalized_corpus.append(normalized_token_list)\n",
    "\n",
    "# превращаем в DataFrame\n",
    "doc_count = len(normalized_corpus)\n",
    "doc_ids = []\n",
    "tokens = []\n",
    "# формируем два списка-колонки датафрейма\n",
    "for doc_id in range(doc_count):\n",
    "    for token in normalized_corpus[doc_id]:\n",
    "        doc_ids.append(doc_id)\n",
    "        tokens.append(token)\n",
    "\n",
    "tokens_df = pd.DataFrame({\n",
    "    'doc_id': doc_ids,\n",
    "    'word': tokens\n",
    "})\n",
    "# дамми-столбец\n",
    "tokens_df = tokens_df.assign(dummy = 1)\n",
    "# аггрегируем статистики\n",
    "word_count_df = tokens_df.groupby(['doc_id','word'])['dummy'].count().reset_index()\n",
    "\n",
    "word_count_df[word_count_df.doc_id==0].sort_values(by='dummy', ascending=False).head(10)"
   ],
   "execution_count": 3,
   "outputs": [
    {
     "data": {
      "text/plain": "     doc_id       word  dummy\n6         0          в     10\n29        0          и      7\n37        0    который      5\n111       0     шерлок      4\n77        0          с      4\n84        0     сериал      4\n75        0  риколетти      3\n31        0    история      2\n21        0        для      2\n49        0          о      2",
      "text/html": "<div>\n<style scoped>\n    .dataframe tbody tr th:only-of-type {\n        vertical-align: middle;\n    }\n\n    .dataframe tbody tr th {\n        vertical-align: top;\n    }\n\n    .dataframe thead th {\n        text-align: right;\n    }\n</style>\n<table border=\"1\" class=\"dataframe\">\n  <thead>\n    <tr style=\"text-align: right;\">\n      <th></th>\n      <th>doc_id</th>\n      <th>word</th>\n      <th>dummy</th>\n    </tr>\n  </thead>\n  <tbody>\n    <tr>\n      <th>6</th>\n      <td>0</td>\n      <td>в</td>\n      <td>10</td>\n    </tr>\n    <tr>\n      <th>29</th>\n      <td>0</td>\n      <td>и</td>\n      <td>7</td>\n    </tr>\n    <tr>\n      <th>37</th>\n      <td>0</td>\n      <td>который</td>\n      <td>5</td>\n    </tr>\n    <tr>\n      <th>111</th>\n      <td>0</td>\n      <td>шерлок</td>\n      <td>4</td>\n    </tr>\n    <tr>\n      <th>77</th>\n      <td>0</td>\n      <td>с</td>\n      <td>4</td>\n    </tr>\n    <tr>\n      <th>84</th>\n      <td>0</td>\n      <td>сериал</td>\n      <td>4</td>\n    </tr>\n    <tr>\n      <th>75</th>\n      <td>0</td>\n      <td>риколетти</td>\n      <td>3</td>\n    </tr>\n    <tr>\n      <th>31</th>\n      <td>0</td>\n      <td>история</td>\n      <td>2</td>\n    </tr>\n    <tr>\n      <th>21</th>\n      <td>0</td>\n      <td>для</td>\n      <td>2</td>\n    </tr>\n    <tr>\n      <th>49</th>\n      <td>0</td>\n      <td>о</td>\n      <td>2</td>\n    </tr>\n  </tbody>\n</table>\n</div>"
     },
     "execution_count": 3,
     "metadata": {},
     "output_type": "execute_result"
    }
   ]
  },
  {
   "cell_type": "markdown",
   "metadata": {
    "id": "oYSsovIKRbnI"
   },
   "source": [
    "# 12.3  Домашняя работа\n",
    "\n",
    "12.3.1 **Задание простого уровня** Для каждого слова подсчитайте процент документов, в которых содержится это слово. Сформируйте dataframe doc_frequency. Процен документов вычисляется по формуле\n",
    "$$\n",
    "d = \\frac{m}{n} \\times 100\n",
    "$$\n",
    "где $m$ - количество документов, в которых встретилось это слово, а $n$ - общее количество документов. Значение в процентах округлите до целых.\n",
    "\n",
    "Посмотрите какие слова оказались в топе - это предлоги и частицы. Такие слова присутствуют во всех документах, а значит, их можно удалить из текста, чтобы оставшиеся слова были более \"осмысленными\". Это упростит анализ текста."
   ]
  },
  {
   "cell_type": "code",
   "execution_count": 29,
   "outputs": [],
   "source": [
    "import numpy as np"
   ],
   "metadata": {
    "collapsed": false,
    "pycharm": {
     "name": "#%%\n"
    }
   }
  },
  {
   "cell_type": "code",
   "execution_count": 19,
   "outputs": [
    {
     "data": {
      "text/plain": "   doc_id         word  dummy pos_tag\n0       0         1895      1    None\n1       0            а      1    CONJ\n2       0    абсолютно      1    ADVB\n3       0       англия      1    NOUN\n4       0  безобразный      1    ADJF",
      "text/html": "<div>\n<style scoped>\n    .dataframe tbody tr th:only-of-type {\n        vertical-align: middle;\n    }\n\n    .dataframe tbody tr th {\n        vertical-align: top;\n    }\n\n    .dataframe thead th {\n        text-align: right;\n    }\n</style>\n<table border=\"1\" class=\"dataframe\">\n  <thead>\n    <tr style=\"text-align: right;\">\n      <th></th>\n      <th>doc_id</th>\n      <th>word</th>\n      <th>dummy</th>\n      <th>pos_tag</th>\n    </tr>\n  </thead>\n  <tbody>\n    <tr>\n      <th>0</th>\n      <td>0</td>\n      <td>1895</td>\n      <td>1</td>\n      <td>None</td>\n    </tr>\n    <tr>\n      <th>1</th>\n      <td>0</td>\n      <td>а</td>\n      <td>1</td>\n      <td>CONJ</td>\n    </tr>\n    <tr>\n      <th>2</th>\n      <td>0</td>\n      <td>абсолютно</td>\n      <td>1</td>\n      <td>ADVB</td>\n    </tr>\n    <tr>\n      <th>3</th>\n      <td>0</td>\n      <td>англия</td>\n      <td>1</td>\n      <td>NOUN</td>\n    </tr>\n    <tr>\n      <th>4</th>\n      <td>0</td>\n      <td>безобразный</td>\n      <td>1</td>\n      <td>ADJF</td>\n    </tr>\n  </tbody>\n</table>\n</div>"
     },
     "execution_count": 19,
     "metadata": {},
     "output_type": "execute_result"
    }
   ],
   "source": [
    "word_count_df['pos_tag'] = [morph.parse(word)[0].tag.POS for word in word_count_df['word'].tolist()]\n",
    "word_count_df.head()"
   ],
   "metadata": {
    "collapsed": false,
    "pycharm": {
     "name": "#%%\n"
    }
   }
  },
  {
   "cell_type": "code",
   "execution_count": 22,
   "outputs": [
    {
     "data": {
      "text/plain": "   doc_id         word  dummy pos_tag\n0       0         1895      1    None\n1       0            а      1    CONJ\n2       0    абсолютно      1    ADVB\n3       0       англия      1    NOUN\n4       0  безобразный      1    ADJF",
      "text/html": "<div>\n<style scoped>\n    .dataframe tbody tr th:only-of-type {\n        vertical-align: middle;\n    }\n\n    .dataframe tbody tr th {\n        vertical-align: top;\n    }\n\n    .dataframe thead th {\n        text-align: right;\n    }\n</style>\n<table border=\"1\" class=\"dataframe\">\n  <thead>\n    <tr style=\"text-align: right;\">\n      <th></th>\n      <th>doc_id</th>\n      <th>word</th>\n      <th>dummy</th>\n      <th>pos_tag</th>\n    </tr>\n  </thead>\n  <tbody>\n    <tr>\n      <th>0</th>\n      <td>0</td>\n      <td>1895</td>\n      <td>1</td>\n      <td>None</td>\n    </tr>\n    <tr>\n      <th>1</th>\n      <td>0</td>\n      <td>а</td>\n      <td>1</td>\n      <td>CONJ</td>\n    </tr>\n    <tr>\n      <th>2</th>\n      <td>0</td>\n      <td>абсолютно</td>\n      <td>1</td>\n      <td>ADVB</td>\n    </tr>\n    <tr>\n      <th>3</th>\n      <td>0</td>\n      <td>англия</td>\n      <td>1</td>\n      <td>NOUN</td>\n    </tr>\n    <tr>\n      <th>4</th>\n      <td>0</td>\n      <td>безобразный</td>\n      <td>1</td>\n      <td>ADJF</td>\n    </tr>\n  </tbody>\n</table>\n</div>"
     },
     "execution_count": 22,
     "metadata": {},
     "output_type": "execute_result"
    }
   ],
   "source": [
    "word_count_df = word_count_df[~word_count_df['pos_tag'].isin(['PREP', 'PRCL'])]\n",
    "word_count_df.head()"
   ],
   "metadata": {
    "collapsed": false,
    "pycharm": {
     "name": "#%%\n"
    }
   }
  },
  {
   "cell_type": "code",
   "execution_count": 28,
   "outputs": [
    {
     "data": {
      "text/plain": "(614,)"
     },
     "execution_count": 28,
     "metadata": {},
     "output_type": "execute_result"
    }
   ],
   "source": [
    "all_words = word_count_df['word'].unique()\n",
    "all_words.shape"
   ],
   "metadata": {
    "collapsed": false,
    "pycharm": {
     "name": "#%%\n"
    }
   }
  },
  {
   "cell_type": "code",
   "execution_count": 51,
   "outputs": [
    {
     "data": {
      "text/plain": "          word  count\n0         1895      1\n1            а      4\n2    абсолютно      1\n3       англия      1\n4  безобразный      1",
      "text/html": "<div>\n<style scoped>\n    .dataframe tbody tr th:only-of-type {\n        vertical-align: middle;\n    }\n\n    .dataframe tbody tr th {\n        vertical-align: top;\n    }\n\n    .dataframe thead th {\n        text-align: right;\n    }\n</style>\n<table border=\"1\" class=\"dataframe\">\n  <thead>\n    <tr style=\"text-align: right;\">\n      <th></th>\n      <th>word</th>\n      <th>count</th>\n    </tr>\n  </thead>\n  <tbody>\n    <tr>\n      <th>0</th>\n      <td>1895</td>\n      <td>1</td>\n    </tr>\n    <tr>\n      <th>1</th>\n      <td>а</td>\n      <td>4</td>\n    </tr>\n    <tr>\n      <th>2</th>\n      <td>абсолютно</td>\n      <td>1</td>\n    </tr>\n    <tr>\n      <th>3</th>\n      <td>англия</td>\n      <td>1</td>\n    </tr>\n    <tr>\n      <th>4</th>\n      <td>безобразный</td>\n      <td>1</td>\n    </tr>\n  </tbody>\n</table>\n</div>"
     },
     "execution_count": 51,
     "metadata": {},
     "output_type": "execute_result"
    }
   ],
   "source": [
    "values = []\n",
    "\n",
    "for word in all_words:\n",
    "    row = [word]\n",
    "    doc_ids = word_count_df['doc_id'].unique()\n",
    "\n",
    "    count = 0\n",
    "    for doc_id in doc_ids:\n",
    "        if word in word_count_df[word_count_df['doc_id'] == doc_id]['word'].to_list():\n",
    "            count += 1\n",
    "\n",
    "    row.append(count)\n",
    "    values.append(row)\n",
    "\n",
    "doc_frequency = pd.DataFrame(np.array(values),\n",
    "                             columns=['word', 'count'])\n",
    "doc_frequency['count'] = doc_frequency['count'].astype(int)\n",
    "doc_frequency.head()"
   ],
   "metadata": {
    "collapsed": false,
    "pycharm": {
     "name": "#%%\n"
    }
   }
  },
  {
   "cell_type": "code",
   "execution_count": 58,
   "outputs": [
    {
     "data": {
      "text/plain": "         word  percentage\n24          и       100.0\n98        что        75.0\n45     онлайн        75.0\n44         он        75.0\n69       свой        75.0\n15        год        62.0\n74   смотреть        62.0\n102      этот        50.0\n31    который        50.0\n126       как        50.0",
      "text/html": "<div>\n<style scoped>\n    .dataframe tbody tr th:only-of-type {\n        vertical-align: middle;\n    }\n\n    .dataframe tbody tr th {\n        vertical-align: top;\n    }\n\n    .dataframe thead th {\n        text-align: right;\n    }\n</style>\n<table border=\"1\" class=\"dataframe\">\n  <thead>\n    <tr style=\"text-align: right;\">\n      <th></th>\n      <th>word</th>\n      <th>percentage</th>\n    </tr>\n  </thead>\n  <tbody>\n    <tr>\n      <th>24</th>\n      <td>и</td>\n      <td>100.0</td>\n    </tr>\n    <tr>\n      <th>98</th>\n      <td>что</td>\n      <td>75.0</td>\n    </tr>\n    <tr>\n      <th>45</th>\n      <td>онлайн</td>\n      <td>75.0</td>\n    </tr>\n    <tr>\n      <th>44</th>\n      <td>он</td>\n      <td>75.0</td>\n    </tr>\n    <tr>\n      <th>69</th>\n      <td>свой</td>\n      <td>75.0</td>\n    </tr>\n    <tr>\n      <th>15</th>\n      <td>год</td>\n      <td>62.0</td>\n    </tr>\n    <tr>\n      <th>74</th>\n      <td>смотреть</td>\n      <td>62.0</td>\n    </tr>\n    <tr>\n      <th>102</th>\n      <td>этот</td>\n      <td>50.0</td>\n    </tr>\n    <tr>\n      <th>31</th>\n      <td>который</td>\n      <td>50.0</td>\n    </tr>\n    <tr>\n      <th>126</th>\n      <td>как</td>\n      <td>50.0</td>\n    </tr>\n  </tbody>\n</table>\n</div>"
     },
     "execution_count": 58,
     "metadata": {},
     "output_type": "execute_result"
    }
   ],
   "source": [
    "doc_frequency['percentage'] = (doc_frequency['count'] / word_count_df['doc_id'].unique().shape[0]).round(2) * 100\n",
    "doc_frequency.drop(columns=['count'], inplace=True)\n",
    "doc_frequency.sort_values('percentage', ascending=False, inplace=True)\n",
    "doc_frequency.head(10)"
   ],
   "metadata": {
    "collapsed": false,
    "pycharm": {
     "name": "#%%\n"
    }
   }
  },
  {
   "cell_type": "markdown",
   "metadata": {
    "id": "Cfnb-W2uRbnK"
   },
   "source": [
    "12.3.2 **Задание среднего уровня**\n",
    "\n",
    "Воспользуйтесь регулярными выражениями, чтобы извлечь из текста все пары **имя+фамилия**.\n",
    "\n",
    "* неформальное описание регулярки: пара слов идущая друг за другом, каждое из которых начинается с заглавной буквы\n",
    "* анализировать нужно только `doc_id=3`\n",
    "* текст берём из исходного датафрейма `text_df`\n",
    "* заглавная буква в русскоязычном тексте соответствует символьному классу `r'[A-Я]*'`"
   ]
  },
  {
   "cell_type": "code",
   "metadata": {
    "id": "fLKkVa_ORbnK"
   },
   "source": [
    "raw_text = text_df['description'].values[3]\n",
    "\n",
    "# запишите необходимое регулярное выражение в переменную reg_expr \n",
    "reg_expr = r'[А-Я]\\w+ [А-Я]\\w+'\n",
    "\n",
    "# скомпилированное выражение добавьте в обьёект reg_expr_compiled\n",
    "reg_expr_compiled = re.compile(reg_expr)\n",
    "\n",
    "# применяем выражение к тексту\n",
    "for g in reg_expr_compiled.findall(raw_text):\n",
    "    print(g)"
   ],
   "execution_count": 65,
   "outputs": [
    {
     "name": "stdout",
     "output_type": "stream",
     "text": [
      "Стивена Фрая\n",
      "Джоном Дженксом\n",
      "Теда Уоллеса\n",
      "Теперь Тед\n",
      "Вскоре Тед\n"
     ]
    }
   ]
  },
  {
   "cell_type": "markdown",
   "metadata": {
    "id": "nKvd6GYSRbnL"
   },
   "source": [
    "10.3.3 **Задание сложного уровня**. Словарь `genre_dict` содержит слова, которые являются характерными для того или иного жанра. Пользуясь словарём, а так же таблицей `word_count_df`, сформируйте таблицу двумя колонками `doc_id | genre` с жанрами фильмов.\n",
    "\n",
    "Для этого нужно\n",
    "* превратить словарь `genre_dict` в DataFrame формата `word | genre`, сохранить в переменнуб `genres_df`\n",
    "* соединить полученный датафрейм с помощью функции `merge` c ранее полученным датафреймом `word_count_df`, котороый содержит распределение слов по документам. Воспользуйтесь методом соединения `inner`\n",
    "* для каждого документа выбрать жанр документа - это совокупность жанров слов отдельных слов. У одного контента может быть несколько жанров"
   ]
  },
  {
   "cell_type": "code",
   "metadata": {
    "id": "8mIEqm72RbnM"
   },
   "source": [
    "import itertools\n",
    "import pandas as pd\n",
    "\n",
    "genre_dict = {\n",
    "    'комедия': ['сатирический', 'авантюрный', 'забавный'],\n",
    "    'мелодрама': ['выбор', 'позор'],\n",
    "    'сказка': ['приключения', 'милый', 'семейный'],\n",
    "    'детектив': ['тайна', 'разгадать', 'загадочный'], \n",
    "    'триллер': ['ужас', 'зловещий', 'нерв']\n",
    "}\n",
    "\n",
    "values = []\n",
    "for key in genre_dict.keys():\n",
    "    for word in genre_dict[key]:\n",
    "        values.append([word, key])\n",
    "genres_df = pd.DataFrame(values, columns=['word', 'genre'])\n",
    "genres_df"
   ],
   "execution_count": 116,
   "outputs": [
    {
     "data": {
      "text/plain": "            word      genre\n0   сатирический    комедия\n1     авантюрный    комедия\n2       забавный    комедия\n3          выбор  мелодрама\n4          позор  мелодрама\n5    приключения     сказка\n6          милый     сказка\n7       семейный     сказка\n8          тайна   детектив\n9      разгадать   детектив\n10    загадочный   детектив\n11          ужас    триллер\n12      зловещий    триллер\n13          нерв    триллер",
      "text/html": "<div>\n<style scoped>\n    .dataframe tbody tr th:only-of-type {\n        vertical-align: middle;\n    }\n\n    .dataframe tbody tr th {\n        vertical-align: top;\n    }\n\n    .dataframe thead th {\n        text-align: right;\n    }\n</style>\n<table border=\"1\" class=\"dataframe\">\n  <thead>\n    <tr style=\"text-align: right;\">\n      <th></th>\n      <th>word</th>\n      <th>genre</th>\n    </tr>\n  </thead>\n  <tbody>\n    <tr>\n      <th>0</th>\n      <td>сатирический</td>\n      <td>комедия</td>\n    </tr>\n    <tr>\n      <th>1</th>\n      <td>авантюрный</td>\n      <td>комедия</td>\n    </tr>\n    <tr>\n      <th>2</th>\n      <td>забавный</td>\n      <td>комедия</td>\n    </tr>\n    <tr>\n      <th>3</th>\n      <td>выбор</td>\n      <td>мелодрама</td>\n    </tr>\n    <tr>\n      <th>4</th>\n      <td>позор</td>\n      <td>мелодрама</td>\n    </tr>\n    <tr>\n      <th>5</th>\n      <td>приключения</td>\n      <td>сказка</td>\n    </tr>\n    <tr>\n      <th>6</th>\n      <td>милый</td>\n      <td>сказка</td>\n    </tr>\n    <tr>\n      <th>7</th>\n      <td>семейный</td>\n      <td>сказка</td>\n    </tr>\n    <tr>\n      <th>8</th>\n      <td>тайна</td>\n      <td>детектив</td>\n    </tr>\n    <tr>\n      <th>9</th>\n      <td>разгадать</td>\n      <td>детектив</td>\n    </tr>\n    <tr>\n      <th>10</th>\n      <td>загадочный</td>\n      <td>детектив</td>\n    </tr>\n    <tr>\n      <th>11</th>\n      <td>ужас</td>\n      <td>триллер</td>\n    </tr>\n    <tr>\n      <th>12</th>\n      <td>зловещий</td>\n      <td>триллер</td>\n    </tr>\n    <tr>\n      <th>13</th>\n      <td>нерв</td>\n      <td>триллер</td>\n    </tr>\n  </tbody>\n</table>\n</div>"
     },
     "execution_count": 116,
     "metadata": {},
     "output_type": "execute_result"
    }
   ]
  },
  {
   "cell_type": "code",
   "execution_count": 117,
   "outputs": [
    {
     "data": {
      "text/plain": "            word      genre  doc_id  dummy pos_tag\n0   сатирический    комедия       3      1    ADJF\n1     авантюрный    комедия       4      1    ADJF\n2       забавный    комедия       4      1    ADJF\n3          выбор  мелодрама       2      1    NOUN\n4          позор  мелодрама       2      1    NOUN\n5          милый     сказка       1      1    ADJF\n6          тайна   детектив       0      1    NOUN\n7      разгадать   детектив       0      1    INFN\n8     загадочный   детектив       0      1    ADJF\n9           ужас    триллер       0      1    NOUN\n10          ужас    триллер       6      3    NOUN\n11      зловещий    триллер       6      1    ADJF\n12          нерв    триллер       6      1    NOUN",
      "text/html": "<div>\n<style scoped>\n    .dataframe tbody tr th:only-of-type {\n        vertical-align: middle;\n    }\n\n    .dataframe tbody tr th {\n        vertical-align: top;\n    }\n\n    .dataframe thead th {\n        text-align: right;\n    }\n</style>\n<table border=\"1\" class=\"dataframe\">\n  <thead>\n    <tr style=\"text-align: right;\">\n      <th></th>\n      <th>word</th>\n      <th>genre</th>\n      <th>doc_id</th>\n      <th>dummy</th>\n      <th>pos_tag</th>\n    </tr>\n  </thead>\n  <tbody>\n    <tr>\n      <th>0</th>\n      <td>сатирический</td>\n      <td>комедия</td>\n      <td>3</td>\n      <td>1</td>\n      <td>ADJF</td>\n    </tr>\n    <tr>\n      <th>1</th>\n      <td>авантюрный</td>\n      <td>комедия</td>\n      <td>4</td>\n      <td>1</td>\n      <td>ADJF</td>\n    </tr>\n    <tr>\n      <th>2</th>\n      <td>забавный</td>\n      <td>комедия</td>\n      <td>4</td>\n      <td>1</td>\n      <td>ADJF</td>\n    </tr>\n    <tr>\n      <th>3</th>\n      <td>выбор</td>\n      <td>мелодрама</td>\n      <td>2</td>\n      <td>1</td>\n      <td>NOUN</td>\n    </tr>\n    <tr>\n      <th>4</th>\n      <td>позор</td>\n      <td>мелодрама</td>\n      <td>2</td>\n      <td>1</td>\n      <td>NOUN</td>\n    </tr>\n    <tr>\n      <th>5</th>\n      <td>милый</td>\n      <td>сказка</td>\n      <td>1</td>\n      <td>1</td>\n      <td>ADJF</td>\n    </tr>\n    <tr>\n      <th>6</th>\n      <td>тайна</td>\n      <td>детектив</td>\n      <td>0</td>\n      <td>1</td>\n      <td>NOUN</td>\n    </tr>\n    <tr>\n      <th>7</th>\n      <td>разгадать</td>\n      <td>детектив</td>\n      <td>0</td>\n      <td>1</td>\n      <td>INFN</td>\n    </tr>\n    <tr>\n      <th>8</th>\n      <td>загадочный</td>\n      <td>детектив</td>\n      <td>0</td>\n      <td>1</td>\n      <td>ADJF</td>\n    </tr>\n    <tr>\n      <th>9</th>\n      <td>ужас</td>\n      <td>триллер</td>\n      <td>0</td>\n      <td>1</td>\n      <td>NOUN</td>\n    </tr>\n    <tr>\n      <th>10</th>\n      <td>ужас</td>\n      <td>триллер</td>\n      <td>6</td>\n      <td>3</td>\n      <td>NOUN</td>\n    </tr>\n    <tr>\n      <th>11</th>\n      <td>зловещий</td>\n      <td>триллер</td>\n      <td>6</td>\n      <td>1</td>\n      <td>ADJF</td>\n    </tr>\n    <tr>\n      <th>12</th>\n      <td>нерв</td>\n      <td>триллер</td>\n      <td>6</td>\n      <td>1</td>\n      <td>NOUN</td>\n    </tr>\n  </tbody>\n</table>\n</div>"
     },
     "execution_count": 117,
     "metadata": {},
     "output_type": "execute_result"
    }
   ],
   "source": [
    "doc_genre = genres_df.merge(word_count_df, on='word', how='inner')\n",
    "doc_genre"
   ],
   "metadata": {
    "collapsed": false,
    "pycharm": {
     "name": "#%%\n"
    }
   }
  },
  {
   "cell_type": "code",
   "execution_count": 118,
   "outputs": [
    {
     "data": {
      "text/plain": "   doc_id               genres\n0       0  [детектив, триллер]\n1       1             [сказка]\n2       2          [мелодрама]\n3       3            [комедия]\n4       4            [комедия]\n5       6            [триллер]",
      "text/html": "<div>\n<style scoped>\n    .dataframe tbody tr th:only-of-type {\n        vertical-align: middle;\n    }\n\n    .dataframe tbody tr th {\n        vertical-align: top;\n    }\n\n    .dataframe thead th {\n        text-align: right;\n    }\n</style>\n<table border=\"1\" class=\"dataframe\">\n  <thead>\n    <tr style=\"text-align: right;\">\n      <th></th>\n      <th>doc_id</th>\n      <th>genres</th>\n    </tr>\n  </thead>\n  <tbody>\n    <tr>\n      <th>0</th>\n      <td>0</td>\n      <td>[детектив, триллер]</td>\n    </tr>\n    <tr>\n      <th>1</th>\n      <td>1</td>\n      <td>[сказка]</td>\n    </tr>\n    <tr>\n      <th>2</th>\n      <td>2</td>\n      <td>[мелодрама]</td>\n    </tr>\n    <tr>\n      <th>3</th>\n      <td>3</td>\n      <td>[комедия]</td>\n    </tr>\n    <tr>\n      <th>4</th>\n      <td>4</td>\n      <td>[комедия]</td>\n    </tr>\n    <tr>\n      <th>5</th>\n      <td>6</td>\n      <td>[триллер]</td>\n    </tr>\n  </tbody>\n</table>\n</div>"
     },
     "execution_count": 118,
     "metadata": {},
     "output_type": "execute_result"
    }
   ],
   "source": [
    "doc_genre = doc_genre.groupby('doc_id').apply(lambda x: x['genre'].unique()).reset_index()\n",
    "doc_genre.columns = [doc_genre.columns[0]] + ['genres']\n",
    "doc_genre"
   ],
   "metadata": {
    "collapsed": false,
    "pycharm": {
     "name": "#%%\n"
    }
   }
  },
  {
   "cell_type": "code",
   "execution_count": 119,
   "outputs": [
    {
     "data": {
      "text/plain": "   doc_id  комедия  мелодрама  сказка  детектив  триллер\n0       0    False      False   False      True     True\n1       1    False      False    True     False    False\n2       2    False       True   False     False    False\n3       3     True      False   False     False    False\n4       4     True      False   False     False    False\n5       6    False      False   False     False     True",
      "text/html": "<div>\n<style scoped>\n    .dataframe tbody tr th:only-of-type {\n        vertical-align: middle;\n    }\n\n    .dataframe tbody tr th {\n        vertical-align: top;\n    }\n\n    .dataframe thead th {\n        text-align: right;\n    }\n</style>\n<table border=\"1\" class=\"dataframe\">\n  <thead>\n    <tr style=\"text-align: right;\">\n      <th></th>\n      <th>doc_id</th>\n      <th>комедия</th>\n      <th>мелодрама</th>\n      <th>сказка</th>\n      <th>детектив</th>\n      <th>триллер</th>\n    </tr>\n  </thead>\n  <tbody>\n    <tr>\n      <th>0</th>\n      <td>0</td>\n      <td>False</td>\n      <td>False</td>\n      <td>False</td>\n      <td>True</td>\n      <td>True</td>\n    </tr>\n    <tr>\n      <th>1</th>\n      <td>1</td>\n      <td>False</td>\n      <td>False</td>\n      <td>True</td>\n      <td>False</td>\n      <td>False</td>\n    </tr>\n    <tr>\n      <th>2</th>\n      <td>2</td>\n      <td>False</td>\n      <td>True</td>\n      <td>False</td>\n      <td>False</td>\n      <td>False</td>\n    </tr>\n    <tr>\n      <th>3</th>\n      <td>3</td>\n      <td>True</td>\n      <td>False</td>\n      <td>False</td>\n      <td>False</td>\n      <td>False</td>\n    </tr>\n    <tr>\n      <th>4</th>\n      <td>4</td>\n      <td>True</td>\n      <td>False</td>\n      <td>False</td>\n      <td>False</td>\n      <td>False</td>\n    </tr>\n    <tr>\n      <th>5</th>\n      <td>6</td>\n      <td>False</td>\n      <td>False</td>\n      <td>False</td>\n      <td>False</td>\n      <td>True</td>\n    </tr>\n  </tbody>\n</table>\n</div>"
     },
     "execution_count": 119,
     "metadata": {},
     "output_type": "execute_result"
    }
   ],
   "source": [
    "for genre in genre_dict.keys():\n",
    "    doc_genre[genre] = False\n",
    "\n",
    "for row in range(doc_genre.shape[0]):\n",
    "    for genre in genre_dict.keys():\n",
    "        doc_genre.at[row, genre] = genre in doc_genre.loc[row, 'genres']\n",
    "\n",
    "doc_genre.drop(columns=['genres'], inplace=True)\n",
    "doc_genre"
   ],
   "metadata": {
    "collapsed": false,
    "pycharm": {
     "name": "#%%\n"
    }
   }
  }
 ]
}