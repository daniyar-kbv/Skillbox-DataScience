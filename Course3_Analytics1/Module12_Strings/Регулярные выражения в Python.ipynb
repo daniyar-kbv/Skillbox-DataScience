{
 "nbformat": 4,
 "nbformat_minor": 0,
 "metadata": {
  "kernelspec": {
   "display_name": "Python 3",
   "language": "python",
   "name": "python3"
  },
  "language_info": {
   "codemirror_mode": {
    "name": "ipython",
    "version": 3
   },
   "file_extension": ".py",
   "mimetype": "text/x-python",
   "name": "python",
   "nbconvert_exporter": "python",
   "pygments_lexer": "ipython3",
   "version": "3.8.8"
  },
  "colab": {
   "name": "Регулярные выражения в Python.ipynb",
   "provenance": [],
   "collapsed_sections": []
  }
 },
 "cells": [
  {
   "cell_type": "markdown",
   "metadata": {
    "id": "rTE-EB8VwwpL"
   },
   "source": [
    "## Импорт библиотек"
   ]
  },
  {
   "cell_type": "code",
   "metadata": {
    "id": "H_nX7GvNwxif"
   },
   "source": [
    "import re\n",
    "import pandas as pd"
   ],
   "execution_count": null,
   "outputs": []
  },
  {
   "cell_type": "markdown",
   "metadata": {
    "id": "7IY31CUYw0bz"
   },
   "source": [
    "## Подготовка данных"
   ]
  },
  {
   "cell_type": "code",
   "metadata": {
    "id": "EReRKN08w3Cf"
   },
   "source": [
    "text_df = pd.read_csv(\"content_description.csv\", sep='\\t')\n",
    "text_df.head()\n",
    "\n",
    "# строка для примера\n",
    "test_string = text_df.description.values[4]"
   ],
   "execution_count": null,
   "outputs": []
  },
  {
   "cell_type": "code",
   "metadata": {
    "colab": {
     "base_uri": "https://localhost:8080/",
     "height": 103
    },
    "id": "g4oH5Wtmw_CE",
    "executionInfo": {
     "status": "ok",
     "timestamp": 1632956061216,
     "user_tz": -180,
     "elapsed": 252,
     "user": {
      "displayName": "Евгения Миллер",
      "photoUrl": "https://lh3.googleusercontent.com/a-/AOh14Gj2X0dQicVOw3_uvDLm2AdkkDjMIUubVj8NCWQ6=s64",
      "userId": "01842992490389353651"
     }
    },
    "outputId": "30be7570-0348-4c1a-9561-8624bb426ea3"
   },
   "source": [
    "test_string"
   ],
   "execution_count": null,
   "outputs": [
    {
     "output_type": "execute_result",
     "data": {
      "application/vnd.google.colaboratory.intrinsic+json": {
       "type": "string"
      },
      "text/plain": [
       "'«Леди удача» – авантюрная романтическая комедия, снятая в двадцатые годы ХХ века, на заре звукового кинематографа. Главную роль исполнила обаятельная Норма Ширер, пятикратный номинант и лауреат премии «Оскар» за фильм «Развод». Сюжет и посыл картины, несмотря на ее почтенный возраст, нисколько не устарели. В мелодраме, которую вы можете посмотреть онлайн, представлена забавная история авантюристки по прозвищу Ангельское Личико. С равным успехом показанные события могли произойти и в наше время – как вы сами можете убедиться, люди за несколько десятилетий мало изменились в глобальных вещах.   Прелестная девушка Долли – опасная авантюристка со стажем. Она зарабатывает на жизнь шантажом по простой и многократно отработанной схеме. Долли знакомится с богатым мужчиной, приглашает его к себе на квартиру, а затем начинает требовать деньги за соблюдение молчания. В результате полицейских происков девушка оказывается под арестом, однако избегает строгого наказания. Выйдя на свободу, она снимает номер в отеле, где знакомится с новой жертвой – молодым человеком по имени Стив. Стив утверждает, что он изобретатель-миллионер, однако несколько искажает факты. На самом деле, герой – просто ученый, создавший вещь, способную принести миллионы.'"
      ]
     },
     "metadata": {},
     "execution_count": 3
    }
   ]
  },
  {
   "cell_type": "markdown",
   "metadata": {
    "id": "BaMf_j5Iw-LV"
   },
   "source": [
    "## Используем регулярное выражение"
   ]
  },
  {
   "cell_type": "code",
   "metadata": {
    "id": "PHZG6IhhxIGR"
   },
   "source": [
    "# шаблон регулярного выражения\n",
    "reg_expr = r'\\w+' # слово (последовательность букв, неразделенных пробелами и знаками пунктуации)"
   ],
   "execution_count": null,
   "outputs": []
  },
  {
   "cell_type": "markdown",
   "metadata": {
    "id": "hTLxaxy8xKpm"
   },
   "source": [
    "### `re.compile()`\n",
    "\n",
    "`re.compile()` используется для оформления регулярного выражения в отдельный объект, который может быть использован для поиска. \n",
    "\n",
    "`re.compile()` также избавляет нас от переписывания одного и того же выражения. Например, мы хотим найти слово 'Мы' в предложениях 'Мы написали код.' и 'Мы успешно завершили обучение.'\n",
    "\n",
    "-----\n",
    "\n",
    "Запишем нужное слово в объект **pattern**:\n",
    "\n",
    "`pattern = re.compile('Мы')`\n",
    "\n",
    "-----\n",
    "\n",
    "### `re.findall ()`\n",
    "\n",
    "Теперь мы можем произвести поиск нашего слова в двух предложениях, не переписывая одно и то же выражение.\n",
    "\n",
    "`re.findall ()` возвращает все неперекрывающиеся совпадения шаблона в строке в виде списка строк. Строка просматривается слева направо, и совпадения возвращаются в найденном порядке.\n",
    "\n",
    "-----\n",
    "\n",
    "`result = pattern.findall('Мы написали код.')`\n",
    "\n",
    "`print(result)`\n",
    "\n",
    "`result2 = pattern.findall('Мы успешно завершили обучение.')`\n",
    "\n",
    "`print(result2)`\n",
    "\n",
    "**Результат**:\n",
    "\n",
    "`['Мы']`\n",
    "\n",
    "`['Мы']`\n",
    "\n",
    "\n"
   ]
  },
  {
   "cell_type": "markdown",
   "metadata": {
    "id": "qK0ye6ddxU7V"
   },
   "source": [
    "Вернемся к нашему примеру"
   ]
  },
  {
   "cell_type": "code",
   "metadata": {
    "colab": {
     "base_uri": "https://localhost:8080/"
    },
    "id": "O94sC5mrxVrh",
    "executionInfo": {
     "status": "ok",
     "timestamp": 1632956154839,
     "user_tz": -180,
     "elapsed": 239,
     "user": {
      "displayName": "Евгения Миллер",
      "photoUrl": "https://lh3.googleusercontent.com/a-/AOh14Gj2X0dQicVOw3_uvDLm2AdkkDjMIUubVj8NCWQ6=s64",
      "userId": "01842992490389353651"
     }
    },
    "outputId": "91cb3850-b9c7-4282-86bb-c68004037b04"
   },
   "source": [
    "# компилируем регулярное выражение\n",
    "reg_expr_compiled = re.compile(reg_expr)\n",
    "print(\"компилированное регулярное вырадение \", type(reg_expr_compiled), '\\n\\n')"
   ],
   "execution_count": null,
   "outputs": [
    {
     "output_type": "stream",
     "name": "stdout",
     "text": [
      "компилированное регулярное вырадение  <class 're.Pattern'> \n",
      "\n",
      "\n"
     ]
    }
   ]
  },
  {
   "cell_type": "code",
   "metadata": {
    "colab": {
     "base_uri": "https://localhost:8080/"
    },
    "id": "M-w--nZ9xdO2",
    "executionInfo": {
     "status": "ok",
     "timestamp": 1632956177469,
     "user_tz": -180,
     "elapsed": 347,
     "user": {
      "displayName": "Евгения Миллер",
      "photoUrl": "https://lh3.googleusercontent.com/a-/AOh14Gj2X0dQicVOw3_uvDLm2AdkkDjMIUubVj8NCWQ6=s64",
      "userId": "01842992490389353651"
     }
    },
    "outputId": "ff4beb85-1363-44f0-e446-6653a4a2cf12"
   },
   "source": [
    "# применяем метод findall для поиска всех совпадений с шаблоном регулярного выражения в тексте \n",
    "res = reg_expr_compiled.findall(test_string) \n",
    "# результат\n",
    "print (res)"
   ],
   "execution_count": null,
   "outputs": [
    {
     "output_type": "stream",
     "name": "stdout",
     "text": [
      "['Леди', 'удача', 'авантюрная', 'романтическая', 'комедия', 'снятая', 'в', 'двадцатые', 'годы', 'ХХ', 'века', 'на', 'заре', 'звукового', 'кинематографа', 'Главную', 'роль', 'исполнила', 'обаятельная', 'Норма', 'Ширер', 'пятикратный', 'номинант', 'и', 'лауреат', 'премии', 'Оскар', 'за', 'фильм', 'Развод', 'Сюжет', 'и', 'посыл', 'картины', 'несмотря', 'на', 'ее', 'почтенный', 'возраст', 'нисколько', 'не', 'устарели', 'В', 'мелодраме', 'которую', 'вы', 'можете', 'посмотреть', 'онлайн', 'представлена', 'забавная', 'история', 'авантюристки', 'по', 'прозвищу', 'Ангельское', 'Личико', 'С', 'равным', 'успехом', 'показанные', 'события', 'могли', 'произойти', 'и', 'в', 'наше', 'время', 'как', 'вы', 'сами', 'можете', 'убедиться', 'люди', 'за', 'несколько', 'десятилетий', 'мало', 'изменились', 'в', 'глобальных', 'вещах', 'Прелестная', 'девушка', 'Долли', 'опасная', 'авантюристка', 'со', 'стажем', 'Она', 'зарабатывает', 'на', 'жизнь', 'шантажом', 'по', 'простой', 'и', 'многократно', 'отработанной', 'схеме', 'Долли', 'знакомится', 'с', 'богатым', 'мужчиной', 'приглашает', 'его', 'к', 'себе', 'на', 'квартиру', 'а', 'затем', 'начинает', 'требовать', 'деньги', 'за', 'соблюдение', 'молчания', 'В', 'результате', 'полицейских', 'происков', 'девушка', 'оказывается', 'под', 'арестом', 'однако', 'избегает', 'строгого', 'наказания', 'Выйдя', 'на', 'свободу', 'она', 'снимает', 'номер', 'в', 'отеле', 'где', 'знакомится', 'с', 'новой', 'жертвой', 'молодым', 'человеком', 'по', 'имени', 'Стив', 'Стив', 'утверждает', 'что', 'он', 'изобретатель', 'миллионер', 'однако', 'несколько', 'искажает', 'факты', 'На', 'самом', 'деле', 'герой', 'просто', 'ученый', 'создавший', 'вещь', 'способную', 'принести', 'миллионы']\n"
     ]
    }
   ]
  },
  {
   "cell_type": "markdown",
   "metadata": {
    "id": "ecCqAGJE2JpE"
   },
   "source": [
    "В этом примере можно увидеть базовые приёмы применения библиотеки регулярных выражений в python\n",
    "\n",
    "* регулярное выражение - строка в кавычках (перед кавычками вспомогательный символ `r`)\n",
    "* строку перед использованием нужно скомпилировать в специальный объеrn [Regular expression object](https://docs.python.org/3/library/re.html#regular-expression-objects)\n",
    "* В шаблонах можно использовать `спецсимволы`\n",
    "\n",
    "Примеры спецсимволов:\n",
    "\n",
    "* `.` Любой символ\n",
    "* `\\w`  Любая буква (то, что может быть частью слова), а также цифры и _ \n",
    "*  `\\W`  Всё, что не входит в `\\w` \n",
    "*  `\\d`  Любая цифра \n",
    "*  `\\D`  Всё, что не входит в `\\d` \n",
    "* `\\b` граница слова\n",
    "* `[…]`  Символьный класс - любой из перечисленных символов \n",
    "\n",
    "Кроме спецсимволов можно использовать т.н. квантификаторы - указатели количества\n",
    "\n",
    "* `+` - одно или более вхождений\n",
    "* `*` ноль или больше вхождений\n",
    "* `{m,n}` от m до n вхождений\n",
    "* `{n}` ровно `n` вхождений\n",
    "* `\\s` пробельный символ - например, табуляция\n",
    "* `^` начало вхождения\n",
    "* `$` конец вхождения\n",
    "* `()` - группирующие скобки. Позволяет искать подстроки\n",
    "\n",
    "Продемонстрируем простейшие примеры применения регулярных выражений."
   ]
  },
  {
   "cell_type": "markdown",
   "metadata": {
    "id": "P9yfEf91xotK"
   },
   "source": [
    "*Выведем список строк, включающий каждый символ*"
   ]
  },
  {
   "cell_type": "code",
   "metadata": {
    "id": "CvOqkW-o2JpF",
    "colab": {
     "base_uri": "https://localhost:8080/"
    },
    "executionInfo": {
     "status": "ok",
     "timestamp": 1632956236400,
     "user_tz": -180,
     "elapsed": 242,
     "user": {
      "displayName": "Евгения Миллер",
      "photoUrl": "https://lh3.googleusercontent.com/a-/AOh14Gj2X0dQicVOw3_uvDLm2AdkkDjMIUubVj8NCWQ6=s64",
      "userId": "01842992490389353651"
     }
    },
    "outputId": "47e39ed8-7ebc-464c-882f-b00e888c42ed"
   },
   "source": [
    "sample_str = 'Мама mama@ya.ru мыла раму с мылом'\n",
    "\n",
    "result = re.findall(r'.', sample_str)\n",
    "print(result)"
   ],
   "execution_count": null,
   "outputs": [
    {
     "output_type": "stream",
     "name": "stdout",
     "text": [
      "['М', 'а', 'м', 'а', ' ', 'm', 'a', 'm', 'a', '@', 'y', 'a', '.', 'r', 'u', ' ', 'м', 'ы', 'л', 'а', ' ', 'р', 'а', 'м', 'у', ' ', 'с', ' ', 'м', 'ы', 'л', 'о', 'м']\n"
     ]
    }
   ]
  },
  {
   "cell_type": "markdown",
   "metadata": {
    "id": "WRq2dR4C2JpK"
   },
   "source": [
    "*Усложним регулярку и извлечём все слова - идущие подряд непробельные символы (спецсимволы не в счёт)*"
   ]
  },
  {
   "cell_type": "code",
   "metadata": {
    "id": "yS-1zOfg2JpL",
    "outputId": "1ba13223-b46e-43ef-db29-5b0a567f609a"
   },
   "source": [
    "result = re.findall(r'\\w*', sample_str)\n",
    "print(result)"
   ],
   "execution_count": null,
   "outputs": [
    {
     "output_type": "stream",
     "text": [
      "['Мама', '', 'mama', '', 'ya', '', 'ru', '', 'мыла', '', 'раму', '', 'с', '', 'мылом', '']\n"
     ],
     "name": "stdout"
    }
   ]
  },
  {
   "cell_type": "markdown",
   "metadata": {
    "id": "k-PryqAp2JpO"
   },
   "source": [
    "*В выдаче есть пробелы - заменим* `*` *на* `+` "
   ]
  },
  {
   "cell_type": "code",
   "metadata": {
    "id": "fEAAf4cV2JpP",
    "outputId": "5e163d2b-c046-49bd-8a10-bd2f650e4cf5"
   },
   "source": [
    "result = re.findall(r'\\w+', sample_str)\n",
    "print(result)"
   ],
   "execution_count": null,
   "outputs": [
    {
     "output_type": "stream",
     "text": [
      "['Мама', 'mama', 'ya', 'ru', 'мыла', 'раму', 'с', 'мылом']\n"
     ],
     "name": "stdout"
    }
   ]
  },
  {
   "cell_type": "markdown",
   "metadata": {
    "id": "hEsxgMPT2JpS"
   },
   "source": [
    "*Первое слово в тексте*"
   ]
  },
  {
   "cell_type": "code",
   "metadata": {
    "id": "PMY2Vfwn2JpT",
    "outputId": "92bfc946-2d8d-4f1d-e156-73b7464203a7"
   },
   "source": [
    "result = re.findall(r'^\\w+', sample_str)\n",
    "print(result)"
   ],
   "execution_count": null,
   "outputs": [
    {
     "output_type": "stream",
     "text": [
      "['Мама']\n"
     ],
     "name": "stdout"
    }
   ]
  },
  {
   "cell_type": "markdown",
   "metadata": {
    "id": "Ovl0XTVI2Jpa"
   },
   "source": [
    "*Последнее слово в тексте*"
   ]
  },
  {
   "cell_type": "code",
   "metadata": {
    "id": "yLHivELx2Jpb",
    "outputId": "8c76dc64-017c-4d46-ba6d-4322c16ba9ff"
   },
   "source": [
    "result = re.findall(r'\\w+$', sample_str)\n",
    "print(result)"
   ],
   "execution_count": null,
   "outputs": [
    {
     "output_type": "stream",
     "text": [
      "['мылом']\n"
     ],
     "name": "stdout"
    }
   ]
  },
  {
   "cell_type": "markdown",
   "metadata": {
    "id": "gGViXqOa2Jpe"
   },
   "source": [
    "*Вернуть все пары символов*"
   ]
  },
  {
   "cell_type": "code",
   "metadata": {
    "id": "cuULIMf72Jpf",
    "outputId": "6fe0cff5-87ff-495e-894a-590f6362a642"
   },
   "source": [
    "result = re.findall(r'\\w\\w', sample_str)\n",
    "print(result)"
   ],
   "execution_count": null,
   "outputs": [
    {
     "output_type": "stream",
     "text": [
      "['Ма', 'ма', 'ma', 'ma', 'ya', 'ru', 'мы', 'ла', 'ра', 'му', 'мы', 'ло']\n"
     ],
     "name": "stdout"
    }
   ]
  },
  {
   "cell_type": "markdown",
   "metadata": {
    "id": "c1kQub1V2Jpj"
   },
   "source": [
    "*Вернуть все пары символов только в начале слова (включая пробелы)*"
   ]
  },
  {
   "cell_type": "code",
   "metadata": {
    "id": "PO91sDrM2Jpm",
    "outputId": "484bbb4f-63c5-4b64-f4d5-b6eded72e1a8"
   },
   "source": [
    "result = re.findall(r'\\b\\w.', sample_str)\n",
    "print(result)"
   ],
   "execution_count": null,
   "outputs": [
    {
     "output_type": "stream",
     "text": [
      "['Ма', 'ma', 'ya', 'ru', 'мы', 'ра', 'с ', 'мы']\n"
     ],
     "name": "stdout"
    }
   ]
  },
  {
   "cell_type": "markdown",
   "metadata": {
    "id": "XY1YFsp42Jpp"
   },
   "source": [
    "*Вернуть список доменов электронной почты*"
   ]
  },
  {
   "cell_type": "code",
   "metadata": {
    "id": "A-3EeblT2Jpp",
    "outputId": "b44c4833-2353-4acd-f3f6-36d655c771d9"
   },
   "source": [
    "result = re.findall(r'@\\w+', sample_str)\n",
    "print(result)"
   ],
   "execution_count": null,
   "outputs": [
    {
     "output_type": "stream",
     "text": [
      "['@ya']\n"
     ],
     "name": "stdout"
    }
   ]
  },
  {
   "cell_type": "markdown",
   "metadata": {
    "id": "_8KUZOYC2Jps"
   },
   "source": [
    "*Добавим в результат доменную зону (домен верхнего уровня)*"
   ]
  },
  {
   "cell_type": "code",
   "metadata": {
    "id": "M3K8JgrP2Jpt",
    "outputId": "66d3a489-0fb8-4a24-c693-566c35486265"
   },
   "source": [
    "result = re.findall(r'@\\w+.\\w+', sample_str)\n",
    "print(result)"
   ],
   "execution_count": null,
   "outputs": [
    {
     "output_type": "stream",
     "text": [
      "['@ya.ru']\n"
     ],
     "name": "stdout"
    }
   ]
  },
  {
   "cell_type": "markdown",
   "metadata": {
    "id": "69Sr_Hq12Jpx"
   },
   "source": [
    "*Второй вариант — вытащить только доменную зону, используя группировку*"
   ]
  },
  {
   "cell_type": "code",
   "metadata": {
    "id": "_T7VaIkF2Jpx",
    "outputId": "60dcfd3a-dfec-4d88-8935-c77afe02e257"
   },
   "source": [
    "result = re.findall(r'@\\w+.(\\w+)', sample_str)\n",
    "print(result)"
   ],
   "execution_count": null,
   "outputs": [
    {
     "output_type": "stream",
     "text": [
      "['ru']\n"
     ],
     "name": "stdout"
    }
   ]
  },
  {
   "cell_type": "markdown",
   "metadata": {
    "id": "B0AJMlI72Jp1"
   },
   "source": [
    "*Наконец, извлечём email полностью*"
   ]
  },
  {
   "cell_type": "code",
   "metadata": {
    "id": "Ujegr1152Jp1",
    "outputId": "eef254fe-af0c-4955-b993-7202fa9387f0"
   },
   "source": [
    "result = re.findall(r'\\w+@\\w+.\\w+', sample_str)\n",
    "print(result)"
   ],
   "execution_count": null,
   "outputs": [
    {
     "output_type": "stream",
     "text": [
      "['mama@ya.ru']\n"
     ],
     "name": "stdout"
    }
   ]
  },
  {
   "cell_type": "markdown",
   "metadata": {
    "id": "D1nv7y6S2Jp7"
   },
   "source": [
    "Разбив текст на отдельные слова, мы получаем список отдельных сущностей (т.н. токенов) каждый токен можно обработать отдельно своей регуляркой - например проверить телефонный номер - номер должен быть длиной 10 знаков и начинаться с 8 или 7."
   ]
  },
  {
   "cell_type": "code",
   "metadata": {
    "id": "8ozx_EZy2Jp8",
    "outputId": "052d5486-1457-4357-e10f-dfd04ad445ef"
   },
   "source": [
    "tokens = ['7999999999', '999999-999', '99999x9999', '7996663132']\n",
    "\n",
    "for val in tokens:\n",
    "    if re.match(r'[7-8]{1}[0-9]{9}', val) and len(val) == 10:\n",
    "        print('phone number')\n",
    "    else:\n",
    "        print('no')"
   ],
   "execution_count": null,
   "outputs": [
    {
     "output_type": "stream",
     "text": [
      "phone number\n",
      "no\n",
      "no\n",
      "phone number\n"
     ],
     "name": "stdout"
    }
   ]
  },
  {
   "cell_type": "markdown",
   "metadata": {
    "id": "JF6YGyB52JqA"
   },
   "source": [
    "Другой интересный кейс - вытаскивание из текста всех имён собственных. Именем собственным мы будем считать любой текст, заключённый внутри кавычек. Для этой задачи нам помогут группирующие скобки `()`."
   ]
  },
  {
   "cell_type": "code",
   "metadata": {
    "id": "hpDbbuII2JqA",
    "outputId": "cc10fab2-ec5b-463d-f394-1a94b3005640"
   },
   "source": [
    "print(text_df.description.values[4])\n",
    "raw_text = text_df.description.values[4]\n",
    "\n",
    "print(\"\\n\\nПользуясь регулярными выражения, доcтанем из текста имена собственные (всё, что внутри кавычек):\\n\\n\")\n",
    "regular_expr = r'«(.*?)»'\n",
    "reg_expr_compiled = re.compile(regular_expr)\n",
    "# применяем выражение к тексту\n",
    "for g in reg_expr_compiled.findall(raw_text):\n",
    "    print(g)"
   ],
   "execution_count": null,
   "outputs": [
    {
     "output_type": "stream",
     "text": [
      "«Леди удача» – авантюрная романтическая комедия, снятая в двадцатые годы ХХ века, на заре звукового кинематографа. Главную роль исполнила обаятельная Норма Ширер, пятикратный номинант и лауреат премии «Оскар» за фильм «Развод». Сюжет и посыл картины, несмотря на ее почтенный возраст, нисколько не устарели. В мелодраме, которую вы можете посмотреть онлайн, представлена забавная история авантюристки по прозвищу Ангельское Личико. С равным успехом показанные события могли произойти и в наше время – как вы сами можете убедиться, люди за несколько десятилетий мало изменились в глобальных вещах.   Прелестная девушка Долли – опасная авантюристка со стажем. Она зарабатывает на жизнь шантажом по простой и многократно отработанной схеме. Долли знакомится с богатым мужчиной, приглашает его к себе на квартиру, а затем начинает требовать деньги за соблюдение молчания. В результате полицейских происков девушка оказывается под арестом, однако избегает строгого наказания. Выйдя на свободу, она снимает номер в отеле, где знакомится с новой жертвой – молодым человеком по имени Стив. Стив утверждает, что он изобретатель-миллионер, однако несколько искажает факты. На самом деле, герой – просто ученый, создавший вещь, способную принести миллионы.\n",
      "\n",
      "\n",
      "Пользуясь регулярными выражения, доcтанем из текста имена собственные (всё, что внутри кавычек):\n",
      "\n",
      "\n",
      "Леди удача\n",
      "Оскар\n",
      "Развод\n"
     ],
     "name": "stdout"
    }
   ]
  }
 ]
}